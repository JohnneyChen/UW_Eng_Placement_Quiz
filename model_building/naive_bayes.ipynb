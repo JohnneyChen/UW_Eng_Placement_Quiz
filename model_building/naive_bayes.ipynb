{
 "cells": [
  {
   "cell_type": "code",
   "execution_count": 1,
   "metadata": {},
   "outputs": [],
   "source": [
    "import numpy as np\n",
    "import pandas as pd\n",
    "import pickle\n",
    "from sklearn import metrics\n",
    "from sklearn.model_selection import cross_val_score,train_test_split,LeaveOneOut\n",
    "from sklearn.naive_bayes import MultinomialNB\n",
    "\n",
    "from data_load import *\n",
    "from dictionaries import *"
   ]
  },
  {
   "cell_type": "markdown",
   "metadata": {},
   "source": [
    "We need to create our feature vector of exact same dimension as our training set. To convert our user input into dummy variables, we should save a dict of the the dummy variables. Later we can populate our feature vector for prediction using this dict.\n"
   ]
  },
  {
   "cell_type": "markdown",
   "metadata": {},
   "source": [
    "# Test Vector for model testing"
   ]
  },
  {
   "cell_type": "code",
   "execution_count": 2,
   "metadata": {},
   "outputs": [],
   "source": [
    "test_vector = [None] * 25\n",
    "test_vector[0] =  2   # {'problem_type': {'defined': 0, 'investigate': 2, 'discover': 1}}\n",
    "test_vector[1] =  2   #{'creative': {'somewhat_creative': 2, 'creative': 0, 'not_creative': 1}}\n",
    "test_vector[2] =  1   #{'outdoors': {'limited': 1, 'indoors': 0, 'outdoors': 2}}\n",
    "test_vector[3] =  4   #{'career': {'moving_parts': 2, 'sensors': 6, 'programming': 4, 'optimizing': 3, 'resources': 5, 'buildings': 0, 'molecules': 1}}\n",
    "test_vector[4] =  1   #{'group_work': {'occasionally': 1, 'yes': 2, 'no': 0}}\n",
    "test_vector[5] =  4   #{'liked_courses': {'computer_science': 4, 'biology': 1, 'math': 8, 'physics': 9, 'chemistry': 3, 'business': 2, 'autoshop': 0, 'geography': 5, 'visual_arts': 10, 'language_arts': 7, 'history': 6}}\n",
    "test_vector[6] =  6   #{'disliked_courses': {'history': 6, 'visual_arts': 10, 'geography': 5, 'chemistry': 3, 'physics': 9, 'biology': 1, 'language_arts': 7, 'business': 2, 'math': 8, 'computer_science': 4, 'autoshop': 0}}\n",
    "test_vector[7] =  3   #{'programming': {'partial': 3, 'complete': 0, 'no': 2, 'interested': 1}}\n",
    "test_vector[8] =  8   #{'join_clubs': {'robotics': 7, 'nan': 6, 'environment': 4, 'student_council': 8, 'business': 2, 'hacker_club': 5, 'autoshop': 1, 'art/design': 0, 'consulting': 3}}\n",
    "test_vector[9] =  0   #{'not_clubs': {'art/design': 0, 'business': 2, 'student_council': 8, 'autoshop': 1, 'hacker_club': 5, 'environment': 4, 'robotics': 7, 'nan': 6, 'consulting': 3}}\n",
    "test_vector[10] = 1   #{'liked_projects': {'mars_water_treatment': 1, 'prototyping_instrument': 3, 'robot': 4, 'olympic_village': 2, 'battery': 0, 'uber_pool': 6, 'supercomputer': 5}}\n",
    "test_vector[11] = 1   #{'disliked_projects': {'prototyping_instrument': 3, 'mars_water_treatment': 1, 'robot': 4, 'uber_pool': 6, 'olympic_village': 2, 'battery': 0, 'supercomputer': 5}}\n",
    "test_vector[12] = 0   #{'tv_shows': {'big_bang_theory': 0, 'breaking_bad': 1, 'myth_busters': 4, 'silicon_valley': 6, 'planet_earth': 5, 'greys_anatomy': 2, 'house_hunters': 3}}\n",
    "test_vector[13] = 0   #{'alternate_degree': {'cs': 2, 'applied_science': 0, 'health': 8, 'env': 5, 'poli_sci': 12, 'econ': 4, 'math': 11, 'business': 1, 'design': 3, 'visual_arts': 14, 'psych': 13, 'geo': 7, 'fin': 6, 'marketing': 10, 'lit': 9}}\n",
    "test_vector[14] = 1   #{'expensive_equipment': {'yes': 2, 'maybe': 0, 'no': 1}}\n",
    "test_vector[15] = 2   #{'drawing': {'partial': 2, 'bad': 0, 'good': 1}}\n",
    "test_vector[16] = 1   #{'essay': {'yes': 2, 'no': 0, 'partial': 1}}\n",
    "test_vector[17] = 0   #{'architecture': {0: 0, 1: 1}}\n",
    "test_vector[18] = 0   #{'automotive': {1: 1, 0: 0}}\n",
    "test_vector[19] = 1   #{'business': {0: 0, 1: 1}}\n",
    "test_vector[20] = 0   #{'construction': {1: 1, 0: 0}}\n",
    "test_vector[21] = 0   #{'health': {0: 0, 1: 1}}\n",
    "test_vector[22] = 1   #{'environment': {0: 0, 1: 1}}\n",
    "test_vector[23] = 1   #{'manufacturing': {1: 1, 0: 0}}\n",
    "test_vector[24] = 1   #{'technology': {1: 1, 0: 0}}\n",
    "\n",
    "test_vector = np.array(test_vector).reshape(1, -1)"
   ]
  },
  {
   "cell_type": "markdown",
   "metadata": {},
   "source": [
    "# Basic Naiyve Bayes Model With No Calibration"
   ]
  },
  {
   "cell_type": "code",
   "execution_count": 3,
   "metadata": {},
   "outputs": [],
   "source": [
    "model_name = 'nb_model_basic'"
   ]
  },
  {
   "cell_type": "code",
   "execution_count": 1,
   "metadata": {},
   "outputs": [
    {
     "ename": "NameError",
     "evalue": "name 'get_encoded_data' is not defined",
     "output_type": "error",
     "traceback": [
      "\u001b[0;31m---------------------------------------------------------------------------\u001b[0m",
      "\u001b[0;31mNameError\u001b[0m                                 Traceback (most recent call last)",
      "\u001b[0;32m<ipython-input-1-ae256379c753>\u001b[0m in \u001b[0;36m<module>\u001b[0;34m\u001b[0m\n\u001b[0;32m----> 1\u001b[0;31m \u001b[0mdata\u001b[0m \u001b[0;34m=\u001b[0m \u001b[0mget_encoded_data\u001b[0m\u001b[0;34m(\u001b[0m\u001b[0;34m'quiz_data.csv'\u001b[0m\u001b[0;34m,\u001b[0m\u001b[0;34m'nb_model_basic'\u001b[0m\u001b[0;34m,\u001b[0m\u001b[0;32mTrue\u001b[0m\u001b[0;34m)\u001b[0m\u001b[0;34m[\u001b[0m\u001b[0;36m0\u001b[0m\u001b[0;34m]\u001b[0m\u001b[0;34m\u001b[0m\u001b[0m\n\u001b[0m\u001b[1;32m      2\u001b[0m \u001b[0;34m\u001b[0m\u001b[0m\n\u001b[1;32m      3\u001b[0m \u001b[0mx_df\u001b[0m \u001b[0;34m=\u001b[0m \u001b[0mdata\u001b[0m\u001b[0;34m.\u001b[0m\u001b[0mdrop\u001b[0m\u001b[0;34m(\u001b[0m\u001b[0maxis\u001b[0m\u001b[0;34m=\u001b[0m\u001b[0;36m1\u001b[0m\u001b[0;34m,\u001b[0m\u001b[0mcolumns\u001b[0m\u001b[0;34m=\u001b[0m\u001b[0;34m[\u001b[0m\u001b[0;34m\"program\"\u001b[0m\u001b[0;34m]\u001b[0m\u001b[0;34m)\u001b[0m\u001b[0;34m\u001b[0m\u001b[0m\n\u001b[1;32m      4\u001b[0m \u001b[0my_df\u001b[0m \u001b[0;34m=\u001b[0m \u001b[0mdata\u001b[0m\u001b[0;34m[\u001b[0m\u001b[0;34m\"program\"\u001b[0m\u001b[0;34m]\u001b[0m\u001b[0;34m\u001b[0m\u001b[0m\n\u001b[1;32m      5\u001b[0m \u001b[0;34m\u001b[0m\u001b[0m\n",
      "\u001b[0;31mNameError\u001b[0m: name 'get_encoded_data' is not defined"
     ]
    }
   ],
   "source": [
    "data = get_encoded_data('quiz_data.csv','nb_model_basic',True)[0]\n",
    "\n",
    "x_df = data.drop(axis=1,columns=[\"program\"])\n",
    "y_df = data[\"program\"]\n",
    "\n",
    "X = np.array(x_df) # convert dataframe into np array\n",
    "Y = np.array(y_df) # convert dataframe into np array\n",
    "\n",
    "mnb = MultinomialNB()\n",
    "model = mnb.fit(X, Y) # fit the model using training data\n",
    "\n",
    "cat = data.drop('program',axis=1)\n",
    "cat = dict(zip(cat.columns,range(cat.shape[1])))\n",
    "\n",
    "print(INV_INDEX_PROGRAM[model.predict(test_vector)[0]])\n",
    "\n",
    "save_model(model,cat,model_name)\n",
    "test_model(model_name,test_vector)"
   ]
  },
  {
   "cell_type": "markdown",
   "metadata": {},
   "source": [
    "### LOO Validation for Basic Naive Bayes Model with no Calibration"
   ]
  },
  {
   "cell_type": "code",
   "execution_count": 8,
   "metadata": {},
   "outputs": [
    {
     "name": "stdout",
     "output_type": "stream",
     "text": [
      "nb_model_basic Accuracy: 0.3734 (+/- 0.9674)\n"
     ]
    }
   ],
   "source": [
    "# Leave One Out Validation\n",
    "loo = LeaveOneOut()\n",
    "loo.get_n_splits(X)\n",
    "accuracy = []\n",
    "for train_index, test_index in loo.split(X):\n",
    "  X_train, X_test = pd.DataFrame(X[train_index]), pd.DataFrame(X[test_index]) # use this for training the model\n",
    "  y_train, y_test = Y[train_index].ravel(), Y[test_index].ravel() # use this for testing the model\n",
    "\n",
    "  mnb = MultinomialNB()\n",
    "  model = mnb.fit(X_train, y_train) # fit the model using training data\n",
    "  accuracy.append(mnb.score(X_test, y_test))\n",
    "\n",
    "# Calculate accuracy\n",
    "mean = np.array(accuracy).mean()\n",
    "variance = np.array(accuracy).std() * 2\n",
    "\n",
    "print(\"nb_model_basic Accuracy: %0.4f (+/- %0.4f)\" % (mean, variance))"
   ]
  },
  {
   "cell_type": "code",
   "execution_count": null,
   "metadata": {},
   "outputs": [],
   "source": []
  },
  {
   "cell_type": "markdown",
   "metadata": {},
   "source": [
    "# Test"
   ]
  },
  {
   "cell_type": "code",
   "execution_count": 7,
   "metadata": {
    "scrolled": false
   },
   "outputs": [
    {
     "data": {
      "text/plain": [
       "{'program': {'program': {'mech': 9,\n",
       "   'bmed': 2,\n",
       "   'swe': 12,\n",
       "   'tron': 14,\n",
       "   'cive': 5,\n",
       "   'chem': 4,\n",
       "   'syde': 13,\n",
       "   'msci': 10,\n",
       "   'ce': 3,\n",
       "   'elec': 6,\n",
       "   'nano': 11,\n",
       "   'geo': 8,\n",
       "   'env': 7,\n",
       "   'arch-e': 1,\n",
       "   'arch': 0}},\n",
       " 'problem_type': {'problem_type': {'defined': 0,\n",
       "   'investigate': 2,\n",
       "   'discover': 1}},\n",
       " 'creative': {'creative': {'somewhat_creative': 2,\n",
       "   'creative': 0,\n",
       "   'not_creative': 1}},\n",
       " 'outdoors': {'outdoors': {'limited': 1, 'indoors': 0, 'outdoors': 2}},\n",
       " 'career': {'career': {'moving_parts': 2,\n",
       "   'sensors': 6,\n",
       "   'programming': 4,\n",
       "   'optimizing': 3,\n",
       "   'resources': 5,\n",
       "   'buildings': 0,\n",
       "   'molecules': 1}},\n",
       " 'group_work': {'group_work': {'occasionally': 1, 'yes': 2, 'no': 0}},\n",
       " 'liked_courses': {'liked_courses': {'computer_science': 4,\n",
       "   'biology': 1,\n",
       "   'math': 8,\n",
       "   'physics': 9,\n",
       "   'chemistry': 3,\n",
       "   'business': 2,\n",
       "   'autoshop': 0,\n",
       "   'geography': 5,\n",
       "   'visual_arts': 10,\n",
       "   'language_arts': 7,\n",
       "   'history': 6}},\n",
       " 'disliked_courses': {'disliked_courses': {'history': 6,\n",
       "   'visual_arts': 10,\n",
       "   'geography': 5,\n",
       "   'chemistry': 3,\n",
       "   'physics': 9,\n",
       "   'biology': 1,\n",
       "   'language_arts': 7,\n",
       "   'business': 2,\n",
       "   'math': 8,\n",
       "   'computer_science': 4,\n",
       "   'autoshop': 0}},\n",
       " 'programming': {'programming': {'partial': 3,\n",
       "   'complete': 0,\n",
       "   'no': 2,\n",
       "   'interested': 1}},\n",
       " 'join_clubs': {'join_clubs': {'robotics': 7,\n",
       "   'nan': 6,\n",
       "   'environment': 4,\n",
       "   'student_council': 8,\n",
       "   'business': 2,\n",
       "   'hacker_club': 5,\n",
       "   'autoshop': 1,\n",
       "   'art/design': 0,\n",
       "   'consulting': 3}},\n",
       " 'not_clubs': {'not_clubs': {'art/design': 0,\n",
       "   'business': 2,\n",
       "   'student_council': 8,\n",
       "   'autoshop': 1,\n",
       "   'hacker_club': 5,\n",
       "   'environment': 4,\n",
       "   'robotics': 7,\n",
       "   'nan': 6,\n",
       "   'consulting': 3}},\n",
       " 'liked_projects': {'liked_projects': {'mars_water_treatment': 1,\n",
       "   'prototyping_instrument': 3,\n",
       "   'robot': 4,\n",
       "   'olympic_village': 2,\n",
       "   'battery': 0,\n",
       "   'uber_pool': 6,\n",
       "   'supercomputer': 5}},\n",
       " 'disliked_projects': {'disliked_projects': {'prototyping_instrument': 3,\n",
       "   'mars_water_treatment': 1,\n",
       "   'robot': 4,\n",
       "   'uber_pool': 6,\n",
       "   'olympic_village': 2,\n",
       "   'battery': 0,\n",
       "   'supercomputer': 5}},\n",
       " 'tv_shows': {'tv_shows': {'big_bang_theory': 0,\n",
       "   'breaking_bad': 1,\n",
       "   'myth_busters': 4,\n",
       "   'silicon_valley': 6,\n",
       "   'planet_earth': 5,\n",
       "   'greys_anatomy': 2,\n",
       "   'house_hunters': 3}},\n",
       " 'alternate_degree': {'alternate_degree': {'cs': 2,\n",
       "   'applied_science': 0,\n",
       "   'health': 8,\n",
       "   'env': 5,\n",
       "   'poli_sci': 12,\n",
       "   'econ': 4,\n",
       "   'math': 11,\n",
       "   'business': 1,\n",
       "   'design': 3,\n",
       "   'visual_arts': 14,\n",
       "   'psych': 13,\n",
       "   'geo': 7,\n",
       "   'fin': 6,\n",
       "   'marketing': 10,\n",
       "   'lit': 9}},\n",
       " 'expensive_equipment': {'expensive_equipment': {'yes': 2,\n",
       "   'maybe': 0,\n",
       "   'no': 1}},\n",
       " 'drawing': {'drawing': {'partial': 2, 'bad': 0, 'good': 1}},\n",
       " 'essay': {'essay': {'yes': 2, 'no': 0, 'partial': 1}},\n",
       " 'architecture': {'architecture': {'0': 0, '1': 1}},\n",
       " 'automotive': {'automotive': {'1': 1, '0': 0}},\n",
       " 'business': {'business': {'0': 0, '1': 1}},\n",
       " 'construction': {'construction': {'1': 1, '0': 0}},\n",
       " 'health': {'health': {'0': 0, '1': 1}},\n",
       " 'environment': {'environment': {'0': 0, '1': 1}},\n",
       " 'manufacturing': {'manufacturing': {'1': 1, '0': 0}},\n",
       " 'technology': {'technology': {'1': 1, '0': 0}}}"
      ]
     },
     "execution_count": 7,
     "metadata": {},
     "output_type": "execute_result"
    }
   ],
   "source": [
    "get_encoded_dict(model_name)"
   ]
  },
  {
   "cell_type": "code",
   "execution_count": 11,
   "metadata": {},
   "outputs": [],
   "source": [
    "encoded_dictionary = get_encoded_dict(model_name)\n",
    "\n",
    "program = encoded_dictionary['program']\n",
    "problem_type = encoded_dictionary['problem_type']['problem_type']\n",
    "creative = encoded_dictionary['creative']['creative']\n",
    "outdoors = encoded_dictionary['outdoors']['outdoors']\n",
    "career = encoded_dictionary['career']['career']\n",
    "group_work = encoded_dictionary['group_work']['group_work']\n",
    "liked_courses = encoded_dictionary['liked_courses']['liked_courses']\n",
    "disliked_courses = encoded_dictionary['disliked_courses']['disliked_courses']\n",
    "programming = encoded_dictionary['programming']['programming']\n",
    "join_clubs = encoded_dictionary['join_clubs']['join_clubs']\n",
    "not_clubs = encoded_dictionary['not_clubs']['not_clubs']\n",
    "liked_projects = encoded_dictionary['liked_projects']['liked_projects']\n",
    "disliked_projects = encoded_dictionary['disliked_projects']['disliked_projects']\n",
    "tv_shows = encoded_dictionary['tv_shows']['tv_shows']\n",
    "alternate_degree = encoded_dictionary['alternate_degree']['alternate_degree']\n",
    "expensive_equipment = encoded_dictionary['expensive_equipment']['expensive_equipment']\n",
    "drawing = encoded_dictionary['drawing']['drawing']\n",
    "essay = encoded_dictionary['essay']['essay']\n",
    "architecture = encoded_dictionary['architecture']['architecture']\n",
    "automotive = encoded_dictionary['automotive']['automotive']\n",
    "business = encoded_dictionary['business']['business']\n",
    "construction = encoded_dictionary['construction']['construction']\n",
    "health = encoded_dictionary['health']['health']\n",
    "environment = encoded_dictionary['environment']['environment']\n",
    "manufacturing = encoded_dictionary['manufacturing']['manufacturing']\n",
    "technology = encoded_dictionary['technology']['technology']"
   ]
  },
  {
   "cell_type": "code",
   "execution_count": 16,
   "metadata": {},
   "outputs": [],
   "source": [
    "post_dict = {\n",
    "    'problem_type': ['discover'], 'creative': ['somewhat_creative'], 'industry': ['automotive', 'business', 'technology'], 'outdoors': ['limited'], 'career': ['optimizing'], 'group_work': ['occasionally'], 'liked_courses': ['business'], 'disliked_courses': ['language_arts'], 'programming': ['partial'], 'join_clubs': ['business'], 'not_clubs': ['robotics'], 'liked_projects': ['olympic_village'], 'disliked_projects': ['robot'], 'tv_shows': ['breaking_bad'], 'alternate_degree': ['business'], 'expensive_equipment': ['maybe'], 'drawing': ['partial'], 'essay': ['partial']\n",
    "}"
   ]
  },
  {
   "cell_type": "code",
   "execution_count": 19,
   "metadata": {},
   "outputs": [
    {
     "data": {
      "text/plain": [
       "{'problem_type': ['discover'],\n",
       " 'creative': ['somewhat_creative'],\n",
       " 'industry': ['automotive', 'business', 'technology'],\n",
       " 'outdoors': ['limited'],\n",
       " 'career': ['optimizing'],\n",
       " 'group_work': ['occasionally'],\n",
       " 'liked_courses': ['business'],\n",
       " 'disliked_courses': ['language_arts'],\n",
       " 'programming': ['partial'],\n",
       " 'join_clubs': ['business'],\n",
       " 'not_clubs': ['robotics'],\n",
       " 'liked_projects': ['olympic_village'],\n",
       " 'disliked_projects': ['robot'],\n",
       " 'tv_shows': ['breaking_bad'],\n",
       " 'alternate_degree': ['business'],\n",
       " 'expensive_equipment': ['maybe'],\n",
       " 'drawing': ['partial'],\n",
       " 'essay': ['partial'],\n",
       " 'architecture': 0,\n",
       " 'automotive': 1,\n",
       " 'business': 1,\n",
       " 'construction': 0,\n",
       " 'health': 0,\n",
       " 'environment': 0,\n",
       " 'manufacturing': 0,\n",
       " 'technology': 1}"
      ]
     },
     "execution_count": 19,
     "metadata": {},
     "output_type": "execute_result"
    }
   ],
   "source": [
    "post_dict = transform_post_dict(post_dict)\n",
    "post_dict"
   ]
  },
  {
   "cell_type": "code",
   "execution_count": 14,
   "metadata": {},
   "outputs": [],
   "source": [
    "def transform_post_dict(post_dict):\n",
    "    industries = post_dict['industry']\n",
    "    post_dict['architecture'] = 0\n",
    "    post_dict['automotive'] = 0\n",
    "    post_dict['business'] = 0\n",
    "    post_dict['construction'] = 0\n",
    "    post_dict['health'] = 0\n",
    "    post_dict['environment'] = 0\n",
    "    post_dict['manufacturing'] = 0\n",
    "    post_dict['technology'] = 0\n",
    "    for industry in industries:\n",
    "        post_dict[industry] = 1\n",
    "    return post_dict\n",
    "    "
   ]
  },
  {
   "cell_type": "code",
   "execution_count": null,
   "metadata": {},
   "outputs": [],
   "source": []
  }
 ],
 "metadata": {
  "kernelspec": {
   "display_name": "Python 3",
   "language": "python",
   "name": "python3"
  },
  "language_info": {
   "codemirror_mode": {
    "name": "ipython",
    "version": 3
   },
   "file_extension": ".py",
   "mimetype": "text/x-python",
   "name": "python",
   "nbconvert_exporter": "python",
   "pygments_lexer": "ipython3",
   "version": "3.7.0"
  }
 },
 "nbformat": 4,
 "nbformat_minor": 2
}
