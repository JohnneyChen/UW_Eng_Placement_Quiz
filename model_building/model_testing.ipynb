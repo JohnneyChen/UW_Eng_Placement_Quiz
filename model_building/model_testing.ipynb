{
 "cells": [
  {
   "cell_type": "code",
   "execution_count": 1,
   "metadata": {},
   "outputs": [],
   "source": [
    "import matplotlib.pyplot as plt\n",
    "from matplotlib.pyplot import figure\n",
    "import numpy as np\n",
    "import pandas as pd\n",
    "import pickle\n",
    "from sklearn import metrics\n",
    "from sklearn.model_selection import KFold,cross_val_score,train_test_split,LeaveOneOut\n",
    "from sklearn.naive_bayes import MultinomialNB\n",
    "\n",
    "from data_load import *\n",
    "from dictionaries import *"
   ]
  },
  {
   "cell_type": "markdown",
   "metadata": {},
   "source": [
    "# Naive Bayes"
   ]
  },
  {
   "cell_type": "code",
   "execution_count": 3,
   "metadata": {},
   "outputs": [
    {
     "name": "stdout",
     "output_type": "stream",
     "text": [
      "Index(['program', 'problem_type', 'creative', 'outdoors', 'career',\n",
      "       'group_work', 'liked_courses', 'disliked_courses', 'programming',\n",
      "       'join_clubs', 'not_clubs', 'liked_projects', 'disliked_projects',\n",
      "       'tv_shows', 'alternate_degree', 'expensive_equipment', 'drawing',\n",
      "       'essay', 'architecture', 'automotive', 'business', 'construction',\n",
      "       'health', 'environment', 'manufacturing', 'technology'],\n",
      "      dtype='object')\n"
     ]
    }
   ],
   "source": [
    "model_name = 'nb_industry_only'\n",
    "column_list = ['architecture', 'automotive', 'business', 'construction',\n",
    "       'health', 'environment', 'manufacturing', 'technology','program']\n",
    "\n",
    "data = get_encoded_data('quiz_data.csv',model_name,'H')[0]\n",
    "print(data.columns)\n",
    "data = data[column_list]"
   ]
  },
  {
   "cell_type": "markdown",
   "metadata": {},
   "source": [
    "### Leave One Out Validation"
   ]
  },
  {
   "cell_type": "code",
   "execution_count": 3,
   "metadata": {},
   "outputs": [
    {
     "name": "stdout",
     "output_type": "stream",
     "text": [
      "nb_model_basic Accuracy: 0.3803 (+/- 0.9709)\n"
     ]
    }
   ],
   "source": [
    "# Leave One Out Validation\n",
    "data = get_encoded_data('quiz_data.csv',model_name,'H')[0]\n",
    "data = data[column_list]\n",
    "\n",
    "x_df = data.drop(axis=1,columns=[\"program\"])\n",
    "y_df = data[\"program\"]\n",
    "\n",
    "X = np.array(x_df) # convert dataframe into np array\n",
    "Y = np.array(y_df) # convert dataframe into np array\n",
    "\n",
    "loo = LeaveOneOut()\n",
    "loo.get_n_splits(X)\n",
    "accuracy = []\n",
    "for train_index, test_index in loo.split(X):\n",
    "  X_train, X_test = pd.DataFrame(X[train_index]), pd.DataFrame(X[test_index]) # use this for training the model\n",
    "  y_train, y_test = Y[train_index].ravel(), Y[test_index].ravel() # use this for testing the model\n",
    "\n",
    "  mnb = MultinomialNB()\n",
    "  model = mnb.fit(X_train, y_train) # fit the model using training data\n",
    "  accuracy.append(mnb.score(X_test, y_test))\n",
    "\n",
    "# Calculate accuracy\n",
    "mean = np.array(accuracy).mean()\n",
    "variance = np.array(accuracy).std() * 2\n",
    "\n",
    "print(\"nb_model_basic Accuracy: %0.4f (+/- %0.4f)\" % (mean, variance))"
   ]
  },
  {
   "cell_type": "markdown",
   "metadata": {},
   "source": [
    "### Program Output Distribution"
   ]
  },
  {
   "cell_type": "code",
   "execution_count": 4,
   "metadata": {},
   "outputs": [
    {
     "name": "stdout",
     "output_type": "stream",
     "text": [
      "model loaded...\n",
      "{'mech': 126, 'bmed': 4, 'swe': 10, 'tron': 35, 'cive': 23, 'chem': 8, 'syde': 12, 'msci': 13, 'ce': 7, 'elec': 0, 'nano': 9, 'geo': 0, 'env': 14, 'arch-e': 1, 'arch': 4}\n"
     ]
    },
    {
     "data": {
      "image/png": "[encoded data removed]",
      "text/plain": [
       "<Figure size 1440x480 with 1 Axes>"
      ]
     },
     "metadata": {},
     "output_type": "display_data"
    }
   ],
   "source": [
    "check_count = check_skew(model_name,column_list)\n",
    "print(check_count)\n",
    "from matplotlib.pyplot import figure\n",
    "figure(num=None, figsize=(18, 6), dpi=80, facecolor='w', edgecolor='k')\n",
    "plt.bar(*zip(*check_count.items()))\n",
    "plt.show()"
   ]
  },
  {
   "cell_type": "markdown",
   "metadata": {},
   "source": [
    "### Gender Bias Distribution"
   ]
  },
  {
   "cell_type": "code",
   "execution_count": 5,
   "metadata": {},
   "outputs": [],
   "source": [
    "# Code"
   ]
  },
  {
   "cell_type": "markdown",
   "metadata": {},
   "source": [
    "### \"Not Happy\" Distribution"
   ]
  },
  {
   "cell_type": "code",
   "execution_count": 13,
   "metadata": {},
   "outputs": [],
   "source": [
    "#Code"
   ]
  },
  {
   "cell_type": "markdown",
   "metadata": {},
   "source": [
    "### New  Cross Validation Methods"
   ]
  },
  {
   "cell_type": "code",
   "execution_count": 8,
   "metadata": {},
   "outputs": [],
   "source": [
    "# K fold"
   ]
  },
  {
   "cell_type": "code",
   "execution_count": 20,
   "metadata": {},
   "outputs": [
    {
     "ename": "TypeError",
     "evalue": "__init__() got an unexpected keyword argument 'n_folds'",
     "output_type": "error",
     "traceback": [
      "\u001b[0;31m---------------------------------------------------------------------------\u001b[0m",
      "\u001b[0;31mTypeError\u001b[0m                                 Traceback (most recent call last)",
      "\u001b[0;32m<ipython-input-20-b82e797cf4ff>\u001b[0m in \u001b[0;36m<module>\u001b[0;34m\u001b[0m\n\u001b[1;32m      1\u001b[0m \u001b[0mmodel\u001b[0m \u001b[0;34m=\u001b[0m \u001b[0mMultinomialNB\u001b[0m\u001b[0;34m(\u001b[0m\u001b[0;34m)\u001b[0m\u001b[0;34m\u001b[0m\u001b[0m\n\u001b[0;32m----> 2\u001b[0;31m \u001b[0mkf\u001b[0m \u001b[0;34m=\u001b[0m \u001b[0mKFold\u001b[0m\u001b[0;34m(\u001b[0m\u001b[0mlen\u001b[0m\u001b[0;34m(\u001b[0m\u001b[0mdata\u001b[0m\u001b[0;34m)\u001b[0m\u001b[0;34m,\u001b[0m \u001b[0mn_folds\u001b[0m\u001b[0;34m=\u001b[0m\u001b[0;36m5\u001b[0m\u001b[0;34m,\u001b[0m \u001b[0mrandom_state\u001b[0m\u001b[0;34m=\u001b[0m\u001b[0;32mNone\u001b[0m\u001b[0;34m,\u001b[0m \u001b[0mshuffle\u001b[0m\u001b[0;34m=\u001b[0m\u001b[0;32mTrue\u001b[0m\u001b[0;34m)\u001b[0m\u001b[0;34m\u001b[0m\u001b[0m\n\u001b[0m\u001b[1;32m      3\u001b[0m \u001b[0mscores\u001b[0m \u001b[0;34m=\u001b[0m \u001b[0mcross_val_score\u001b[0m\u001b[0;34m(\u001b[0m\u001b[0mmodel\u001b[0m\u001b[0;34m,\u001b[0m \u001b[0mdata\u001b[0m\u001b[0;34m,\u001b[0m \u001b[0mCV\u001b[0m\u001b[0;34m.\u001b[0m\u001b[0mravel\u001b[0m\u001b[0;34m(\u001b[0m\u001b[0;34m)\u001b[0m\u001b[0;34m,\u001b[0m \u001b[0mcv\u001b[0m\u001b[0;34m=\u001b[0m\u001b[0mkf\u001b[0m\u001b[0;34m)\u001b[0m\u001b[0;34m\u001b[0m\u001b[0m\n\u001b[1;32m      4\u001b[0m \u001b[0mprint\u001b[0m\u001b[0;34m(\u001b[0m\u001b[0;34m\"MSE of every fold in 5 fold cross validation: 1 class\"\u001b[0m\u001b[0;34m,\u001b[0m \u001b[0mabs\u001b[0m\u001b[0;34m(\u001b[0m\u001b[0mscores\u001b[0m\u001b[0;34m)\u001b[0m\u001b[0;34m)\u001b[0m\u001b[0;34m\u001b[0m\u001b[0m\n\u001b[1;32m      5\u001b[0m \u001b[0mprint\u001b[0m\u001b[0;34m(\u001b[0m\u001b[0;34m\"Mean of the 5 fold cross-validation: 1 class %0.2f\"\u001b[0m \u001b[0;34m%\u001b[0m \u001b[0mabs\u001b[0m\u001b[0;34m(\u001b[0m\u001b[0mscores\u001b[0m\u001b[0;34m.\u001b[0m\u001b[0mmean\u001b[0m\u001b[0;34m(\u001b[0m\u001b[0;34m)\u001b[0m\u001b[0;34m)\u001b[0m\u001b[0;34m)\u001b[0m\u001b[0;34m\u001b[0m\u001b[0m\n",
      "\u001b[0;31mTypeError\u001b[0m: __init__() got an unexpected keyword argument 'n_folds'"
     ]
    }
   ],
   "source": [
    "model = MultinomialNB()\n",
    "kf = KFold(len(data), n_folds=5, random_state=None, shuffle=True)\n",
    "scores = cross_val_score(model, data, CV.ravel(), cv=kf)\n",
    "print(\"MSE of every fold in 5 fold cross validation: 1 class\", abs(scores))\n",
    "print(\"Mean of the 5 fold cross-validation: 1 class %0.2f\" % abs(scores.mean()))"
   ]
  },
  {
   "cell_type": "markdown",
   "metadata": {},
   "source": [
    "## Stratified K Fold"
   ]
  },
  {
   "cell_type": "code",
   "execution_count": 4,
   "metadata": {},
   "outputs": [
    {
     "ename": "SyntaxError",
     "evalue": "invalid syntax (<ipython-input-4-f4eb317b6dcf>, line 1)",
     "output_type": "error",
     "traceback": [
      "\u001b[0;36m  File \u001b[0;32m\"<ipython-input-4-f4eb317b6dcf>\"\u001b[0;36m, line \u001b[0;32m1\u001b[0m\n\u001b[0;31m    print \"Accuracy of the model: with top 2 probability classes\", 1.0*correct/len(CV2)\u001b[0m\n\u001b[0m                                                                ^\u001b[0m\n\u001b[0;31mSyntaxError\u001b[0m\u001b[0;31m:\u001b[0m invalid syntax\n"
     ]
    }
   ],
   "source": [
    "print \"Accuracy of the model: with top 2 probability classes\", 1.0*correct/len(CV2)\n",
    "skf = StratifiedKFold(n_splits=5, random_state=None, shuffle=True)\n",
    "X = data\n",
    "y = CV.ravel()\n",
    "acc_percent = 0\n",
    "A = [0,0,0,0,0,0,0,0,0,0,0,0,0]\n",
    "B = [0,0,0,0,0,0,0,0,0,0,0,0,0]\n",
    "# print A\n",
    "str_arr = []\n",
    "\n",
    "for train_index, test_index in skf.split(X, y):\n",
    "\tX_train, X_test = X[train_index], X[test_index]\n",
    "\ty_train, y_test = y[train_index], y[test_index]\n",
    "\tMB2 = MultinomialNB()\n",
    "\t# # Train the model using the training sets\n",
    "\tMB2.fit(X_train, y_train)\t\n",
    "\t# print X_train[0], \"sample x training data\"\n",
    "\t# print y_train[0], \"sample y training data\"\n",
    "\t# print len(X_train), \"length of training\"\n",
    "\tpredicted = MB2.predict(X_test)\n",
    "\t#predict the probability/likelihood of the prediction\n",
    "\tprob_of_pred = MB2.predict_proba(X_test)\n",
    "\tmatrix = [[ (1 if max(prob_of_pred[j])==prob_of_pred[j][i] else 0) for i in range(13) ]for j in range(len(prob_of_pred))]\n",
    "\tprint matrix[0]\n",
    " \tfor j in matrix:\n",
    " \t\tfor i in range(13):\n",
    "\t\t\tif j[i] == 1:\n",
    "\t\t\t\tB[i] += 1\n",
    "\tfor i in range(len(prob_of_pred)):\n",
    "\t\ttop = 0\n",
    "\t\tidxtop = 0\n",
    "\t\tsecond = 0\n",
    "\t\tidxsecond = 0\n",
    "\t\tthird = 0\n",
    "\t\tidxthird = 0\n",
    "\t\tidxfourth = 0\n",
    "\t\tfourth = 0\n",
    "\t\tfor j in range(13):\n",
    "\t\t\tif prob_of_pred[i][j] > top:\n",
    "\t\t\t\tidxfourth = idxthird\n",
    "\t\t\t\tidxthird = idxsecond\n",
    "\t\t\t\tthird = second\n",
    "\t\t\t\tsecond = top\n",
    "\t\t\t\tidxsecond = idxtop\n",
    "\t\t\t\ttop = prob_of_pred[i][j]\n",
    "\t\t\t\tidxtop = j\n",
    "\t\t\telif prob_of_pred[i][j] > second:\n",
    "\t\t\t\tsecond = prob_of_pred[i][j]\n",
    "\t\t\t\tidxsecond = j\n",
    "\t\t\t# elif prob_of_pred[i][j] > third:\n",
    "\t\t\t# \tthird = prob_of_pred[i][j]\n",
    "\t\t\t# \tidxthird = j\n",
    "\t\t\t# elif prob_of_pred[i][j] > fourth:\n",
    "\t\t\t# \tfourth = prob_of_pred[i][j]\n",
    "\t\t\t# \tidxfourth = j\n",
    "\t\tmatrix[i][idxsecond] = 1\n",
    "\t\t# matrix[i][idxthird] = 1\n",
    "\t\t# matrix[i][idxfourth] = 1\n",
    " \tcorrect = 0\n",
    "\t# print y_test\n",
    "\ty_test = class_var.fit_transform(y_test.astype('str'))\n",
    "\ty_test = y_test.reshape((len(y_test), 1))\n",
    "\tenc.fit(y_test)\n",
    "\ty_test = enc.transform(y_test).toarray()\n",
    "\t# print matrix\n",
    "\tfor i in range(len(X_test)):\n",
    "\t\tfor j in range(13):\n",
    "\t\t\tif int(y_test[i][j]) == 1 and matrix [i][j] == 1:\n",
    "\t\t\t\tcorrect += 1\n",
    "\t# print y_test[0], \"y test\"\n",
    "\t# print matrix[0], \"matrix\"\n",
    "\t# print(\"Number of Predictions:\\n\",len(predicted))\n",
    " \tstr_arr.append(1.0*correct/len(predicted))\n",
    " \tacc_percent += (1.0*correct/len(predicted))\n",
    " \tfor j in matrix:\n",
    " \t\tfor i in range(13):\n",
    "\t\t\tif j[i] == 1:\n",
    "\t\t\t\tA[i] += 1\n",
    "\tprint matrix[0], \"matrix\"\n",
    "print \"array of stratified\", str_arr\n",
    "print \"the average of 5-fold is with custom NB 2 classes\", acc_percent/5\n",
    "print B, \"1 class and the programs recommended by this strategy\"\n",
    "print A, \"2 class and the programs recommended by this strategy\"\n",
    "print \"correct matrix\", correct_matrix\n",
    "print \"number of actual\", by_prog\n",
    "#RUN RFE - recursive feature elimination, quadratic loss, implement corss-validation"
   ]
  },
  {
   "cell_type": "code",
   "execution_count": 11,
   "metadata": {},
   "outputs": [],
   "source": [
    "data = get_clean_data('quiz_data.csv',drop_not_happy='H',drop_gender=False)\n",
    "test_data = data[['program','gender']]\n",
    "train_data = data.drop(['program','gender'], axis=1)"
   ]
  },
  {
   "cell_type": "code",
   "execution_count": null,
   "metadata": {},
   "outputs": [],
   "source": [
    "def check_gender_bias(model_name, problem_type = False , creative = False,\n",
    "                outdoors = False, career = False, group_work = False, liked_courses = False, disliked_courses = False,\n",
    "                programming = False,join_clubs = False,not_clubs = False,liked_projects = False,disliked_projects = False,\n",
    "                tv_shows = False,alternate_degree = False,expensive_equipment = False, drawing = False, essay = False, architecture = False, automotive = False,business = False, construction = False, health = False, environment = False, manufacturing = False, technology = False):"
   ]
  },
  {
   "cell_type": "code",
   "execution_count": 4,
   "metadata": {},
   "outputs": [
    {
     "name": "stdout",
     "output_type": "stream",
     "text": [
      "model loaded...\n"
     ]
    }
   ],
   "source": [
    "check_count = check_skew_2(model_name,column_list)"
   ]
  },
  {
   "cell_type": "code",
   "execution_count": 5,
   "metadata": {},
   "outputs": [
    {
     "name": "stdout",
     "output_type": "stream",
     "text": [
      "{'mech': 126, 'bmed': 4, 'swe': 0, 'tron': 35, 'cive': 23, 'chem': 8, 'syde': 12, 'msci': 13, 'ce': 7, 'elec': 0, 'nano': 9, 'geo': 0, 'env': 14, 'arch-e': 1, 'arch': 4}\n"
     ]
    }
   ],
   "source": []
  },
  {
   "cell_type": "code",
   "execution_count": null,
   "metadata": {},
   "outputs": [],
   "source": []
  }
 ],
 "metadata": {
  "kernelspec": {
   "display_name": "Python 3",
   "language": "python",
   "name": "python3"
  },
  "language_info": {
   "codemirror_mode": {
    "name": "ipython",
    "version": 3
   },
   "file_extension": ".py",
   "mimetype": "text/x-python",
   "name": "python",
   "nbconvert_exporter": "python",
   "pygments_lexer": "ipython3",
   "version": "3.7.0"
  }
 },
 "nbformat": 4,
 "nbformat_minor": 2
}
