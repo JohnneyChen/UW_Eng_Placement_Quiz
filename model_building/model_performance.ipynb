{
 "cells": [
  {
   "cell_type": "code",
   "execution_count": 17,
   "metadata": {},
   "outputs": [],
   "source": [
    "import matplotlib.pyplot as plt\n",
    "from matplotlib.pyplot import figure\n",
    "import numpy as np\n",
    "import pandas as pd\n",
    "import pickle\n",
    "import seaborn as sns\n",
    "from sklearn import metrics, tree, svm\n",
    "from sklearn.linear_model import LogisticRegression\n",
    "from sklearn.model_selection import KFold,cross_val_score,train_test_split,LeaveOneOut\n",
    "from sklearn.naive_bayes import MultinomialNB\n",
    "from statistics import mean\n",
    "\n",
    "from data_load import *\n",
    "from dictionaries import *\n",
    "from score_models import *"
   ]
  },
  {
   "cell_type": "markdown",
   "metadata": {},
   "source": [
    "# Choose the Model Whose Performance You Want to View"
   ]
  },
  {
   "cell_type": "code",
   "execution_count": 18,
   "metadata": {},
   "outputs": [],
   "source": [
    "model_name = 'nb_ohe_f0_d0_b4_c36_v0'"
   ]
  },
  {
   "cell_type": "markdown",
   "metadata": {},
   "source": [
    "# Model Performance"
   ]
  },
  {
   "cell_type": "code",
   "execution_count": 19,
   "metadata": {},
   "outputs": [],
   "source": [
    "column_list = [\n",
    "                'problem_type',\n",
    "                'creative',\n",
    "                'outdoors',\n",
    "                'career',\n",
    "                'group_work',\n",
    "                'liked_courses',\n",
    "                'disliked_courses',\n",
    "                'programming',\n",
    "                'join_clubs',\n",
    "                'not_clubs',\n",
    "                'liked_projects',\n",
    "                'disliked_projects',\n",
    "                'tv_shows',\n",
    "                'alternate_degree',\n",
    "                'expensive_equipment',\n",
    "                'drawing',\n",
    "                'essay',\n",
    "                'architecture',\n",
    "                'automotive',\n",
    "                'business',\n",
    "                'construction',\n",
    "                'health',\n",
    "                'environment',\n",
    "                'manufacturing',\n",
    "                'technology',\n",
    "                'program'\n",
    "                ]\n",
    "\n",
    "ohe_main =  [\n",
    "            'problem_type',\n",
    "            'creative',\n",
    "            'outdoors',\n",
    "            'career',\n",
    "            'group_work',\n",
    "            'liked_courses',\n",
    "            'disliked_courses',\n",
    "            'programming',\n",
    "            'join_clubs',\n",
    "            'not_clubs',\n",
    "            'liked_projects',\n",
    "            'disliked_projects',\n",
    "            'tv_shows',\n",
    "            'alternate_degree',\n",
    "            'expensive_equipment',\n",
    "            'drawing',\n",
    "            'essay'\n",
    "        ]"
   ]
  },
  {
   "cell_type": "code",
   "execution_count": 20,
   "metadata": {},
   "outputs": [],
   "source": [
    "model_data = pd.read_csv('exported_model_files/dataframes/'+model_name+'.csv',dtype=str)\n",
    "ohe = ohe_main\n",
    "\n",
    "if 'f0' in model_name:\n",
    "    # Loading test data\n",
    "    if 'le' in model_name:\n",
    "        test_data_t7 = get_label_encoded_data('data/t7.csv',model_name='t7',column_list=column_list,drop_not_happy='H',data_balance=False)[0]\n",
    "    elif 'ohe' in model_name:\n",
    "        test_data_t7 = get_merged_encoded_data(directory = 'data/t7.csv',model_name ='t7',one_hot_encode=ohe,column_list = column_list,drop_not_happy='H',data_balance=False)\n",
    "\n",
    "    test_data_t7_temp = test_data_t7.copy()[list(model_data.columns)].head(210)\n",
    "    test_data = test_data_t7_temp\n",
    "    test_data = test_data.reset_index()\n",
    "    test_data = test_data.drop(['program','id'], axis=1)\n",
    "\n",
    "    # Loading model files\n",
    "    pkl_file = open('exported_model_files/metadata/'+model_name+'_cat', 'rb')\n",
    "    index_dict = pickle.load(pkl_file)\n",
    "    new_vector = np.zeros(len(index_dict))\n",
    "\n",
    "    pkl_file = open('exported_model_files/models/'+model_name+'.pkl', 'rb')\n",
    "    model = pickle.load(pkl_file)\n",
    "\n",
    "    predictions ={}\n",
    "    for i in range(0,len(test_data)):\n",
    "        vector = np.asarray(test_data.loc[i,])\n",
    "        predictions[i] = INV_INDEX_PROGRAM[model.predict([vector])[0]]\n",
    "        \n",
    "elif 'f1' in model_name:\n",
    "    # Loading test data\n",
    "    if 'le' in model_name:\n",
    "        test_data_t7 = get_label_encoded_data('data/t7.csv',model_name='t7',column_list=column_list,drop_not_happy='H',data_balance=False)[0]\n",
    "    elif 'ohe' in model_name:\n",
    "        test_data_t7 = get_merged_encoded_data(directory = 'data/t7.csv',model_name ='t7',one_hot_encode=ohe,column_list = column_list,drop_not_happy='H',data_balance=False)\n",
    "\n",
    "    test_data_t7_temp = test_data_t7.copy()[list(model_data.columns)].head(210)\n",
    "    test_data = test_data_t7_temp\n",
    "    test_data = test_data.reset_index()\n",
    "    test_data = test_data.drop(['program','id'], axis=1)\n",
    "\n",
    "    predictions ={}\n",
    "    for i in range(0,len(test_data)):\n",
    "        vector = np.asarray(test_data.loc[i,])\n",
    "        predictions[i] = sort_probability_dict(binary_predict_proba(vector,model_name,test_data_t7))[2][0]\n",
    "\n",
    "  \n",
    "test_data = test_data_t7_temp\n",
    "test_data['predicted_program'] = pd.Series(predictions)\n",
    "test_data.program = test_data.program.map(INV_INDEX_PROGRAM)\n",
    "test_data = test_data.reset_index()\n",
    "test_data = test_data.drop(['id'], axis=1)"
   ]
  },
  {
   "cell_type": "code",
   "execution_count": 21,
   "metadata": {},
   "outputs": [],
   "source": [
    "pred_to_orig = {\n",
    "                'mech-orig': 0,\n",
    "                'bmed-orig': 0,\n",
    "                'swe-orig': 0,\n",
    "                'tron-orig': 0,\n",
    "                'cive-orig': 0,\n",
    "                'chem-orig': 0,\n",
    "                'syde-orig': 0,\n",
    "                'msci-orig': 0,\n",
    "                'ce-orig': 0,\n",
    "                'elec-orig': 0,\n",
    "                'nano-orig': 0,\n",
    "                'geo-orig': 0,\n",
    "                'env-orig': 0,\n",
    "                'arch-e-orig': 0,\n",
    "                'arch-orig': 0\n",
    "                }\n",
    "\n",
    "for i in range(0,len(test_data)):\n",
    "    try:\n",
    "        prediction_count = pred_to_orig[str(test_data.loc[i,'predicted_program'])+'-orig']\n",
    "        try:\n",
    "            prediction_count[test_data.loc[i,'program']] =prediction_count[test_data.loc[i,'program']] + 1\n",
    "        except:\n",
    "            prediction_count[test_data.loc[i,'program']] = 0\n",
    "\n",
    "        pred_to_orig[str(test_data.loc[i,'predicted_program'])+'-orig'] = prediction_count\n",
    "    except:\n",
    "        pred_to_orig[str(test_data.loc[i,'predicted_program'])+'-orig'] = {\n",
    "                                                        'mech': 0,\n",
    "                                                        'bmed': 0,\n",
    "                                                        'swe': 0,\n",
    "                                                        'tron': 0,\n",
    "                                                        'cive': 0,\n",
    "                                                        'chem': 0,\n",
    "                                                        'syde': 0,\n",
    "                                                        'msci': 0,\n",
    "                                                        'ce': 0,\n",
    "                                                        'elec': 0,\n",
    "                                                        'nano': 0,\n",
    "                                                        'geo': 0,\n",
    "                                                        'env': 0,\n",
    "                                                        'arch-e': 0,\n",
    "                                                        'arch': 0\n",
    "                                                        }\n",
    "        prediction_count = pred_to_orig[str(test_data.loc[i,'predicted_program'])+'-orig']\n",
    "        try:\n",
    "            prediction_count[test_data.loc[i,'program']] =prediction_count[test_data.loc[i,'program']] + 1\n",
    "        except:\n",
    "            prediction_count[test_data.loc[i,'program']] = 0\n",
    "\n",
    "        pred_to_orig[str(test_data.loc[i,'predicted_program'])+'-orig'] = prediction_count"
   ]
  },
  {
   "cell_type": "code",
   "execution_count": 22,
   "metadata": {
    "scrolled": false
   },
   "outputs": [
    {
     "data": {
      "text/plain": [
       "<matplotlib.axes._subplots.AxesSubplot at 0x1189eab70>"
      ]
     },
     "execution_count": 22,
     "metadata": {},
     "output_type": "execute_result"
    },
    {
     "data": {
      "image/png": "[encoded data removed]",
      "text/plain": [
       "<Figure size 720x720 with 2 Axes>"
      ]
     },
     "metadata": {
      "needs_background": "light"
     },
     "output_type": "display_data"
    }
   ],
   "source": [
    "df = pd.DataFrame(pred_to_orig)\n",
    "df = df.reindex(sorted(df.columns), axis=1)\n",
    "df['id'] = df.index\n",
    "df = df.sort_values(by=['id'], ascending = True)\n",
    "df.set_index('id')\n",
    "df = df.drop(['id'], axis=1)\n",
    "df = df[['arch-orig','arch-e-orig','bmed-orig','ce-orig','chem-orig','cive-orig','elec-orig','env-orig','geo-orig','mech-orig','msci-orig','nano-orig','swe-orig','syde-orig' ,'tron-orig']]\n",
    "\n",
    "\n",
    "# print(df)\n",
    "plt.figure(figsize=(10,10))\n",
    "sns.heatmap(df,cmap='Blues',annot=True,linewidth=0.5)\n",
    "\n",
    "# Accent, Accent_r, Blues, Blues_r, BrBG, BrBG_r, BuGn, BuGn_r, BuPu, BuPu_r, CMRmap, CMRmap_r, Dark2, \n",
    "# Dark2_r, GnBu, GnBu_r, Greens, Greens_r, Greys, Greys_r, OrRd, OrRd_r, Oranges, Oranges_r, PRGn, \n",
    "# PRGn_r, Paired, Paired_r, Pastel1, Pastel1_r, Pastel2, Pastel2_r, PiYG, PiYG_r, PuBu, PuBuGn, \n",
    "# PuBuGn_r, PuBu_r, PuOr, PuOr_r, PuRd, PuRd_r, Purples, Purples_r, RdBu, RdBu_r, RdGy, RdGy_r, RdPu, \n",
    "# RdPu_r, RdYlBu, RdYlBu_r, RdYlGn, RdYlGn_r, Reds, Reds_r, Set1, Set1_r, Set2, Set2_r, Set3, Set3_r, \n",
    "# Spectral, Spectral_r, Wistia, Wistia_r, YlGn, YlGnBu, YlGnBu_r, YlGn_r, YlOrBr, YlOrBr_r, YlOrRd, YlOrRd_r, \n",
    "# afmhot, afmhot_r, autumn, autumn_r, binary, binary_r, bone, bone_r, brg, brg_r, bwr, bwr_r, cividis, \n",
    "# cividis_r, cool, cool_r, coolwarm, coolwarm_r, copper, copper_r, cubehelix, cubehelix_r, flag, flag_r, \n",
    "# gist_earth, gist_earth_r, gist_gray, gist_gray_r, gist_heat, gist_heat_r, gist_ncar, gist_ncar_r, \n",
    "# gist_rainbow, gist_rainbow_r, gist_stern, gist_stern_r, gist_yarg, gist_yarg_r, gnuplot, gnuplot2, \n",
    "# gnuplot2_r, gnuplot_r, gray, gray_r, hot, hot_r, hsv, hsv_r, icefire, icefire_r, inferno, inferno_r, \n",
    "# jet, jet_r, magma, magma_r, mako, mako_r, nipy_spectral, nipy_spectral_r, ocean, ocean_r, pink, pink_r,\n",
    "# plasma, plasma_r, prism, prism_r, rainbow, rainbow_r, rocket, rocket_r, seismic, seismic_r, spring, spring_r, \n",
    "# summer, summer_r, tab10, tab10_r, tab20, tab20_r, tab20b, tab20b_r, tab20c, tab20c_r, terrain, terrain_r, \n",
    "# twilight, twilight_r, twilight_shifted, twilight_shifted_r, viridis, viridis_r, vlag, vlag_r, winter, winter_r"
   ]
  },
  {
   "cell_type": "markdown",
   "metadata": {},
   "source": [
    "### Gender Bias Distribution"
   ]
  },
  {
   "cell_type": "code",
   "execution_count": 23,
   "metadata": {},
   "outputs": [],
   "source": [
    "# check_bias = check_gender_bias(directory,model_name,column_list)\n",
    "# df = pd.DataFrame(check_bias)\n",
    "# print(df)\n",
    "# df.plot.bar(figsize=(18,6))\n",
    "# plt.show()"
   ]
  },
  {
   "cell_type": "markdown",
   "metadata": {},
   "source": [
    "### Scoring Multilabel Model"
   ]
  },
  {
   "cell_type": "code",
   "execution_count": 24,
   "metadata": {},
   "outputs": [
    {
     "name": "stdout",
     "output_type": "stream",
     "text": [
      "Model:  nb_ohe_f0_d0_b4_c36_v0\n",
      "t3:  0.6\n",
      "RR:  0.6428328021185165\n",
      "Accuracy:  0.4666666666666667\n",
      "Reassignment:  0.8\n"
     ]
    }
   ],
   "source": [
    "model_name = model_name\n",
    "temp_model_name = model_name\n",
    "\n",
    "model_data = pd.read_csv('exported_model_files/dataframes/'+model_name+'.csv',dtype=str)\n",
    "ohe = ohe_main\n",
    "# Loading test data\n",
    "if 'le' in model_name:\n",
    "    test_data_t7 = get_label_encoded_data('data/t7.csv',model_name='t7',column_list=column_list,drop_not_happy='H',data_balance=False)[0]\n",
    "elif 'ohe' in model_name:\n",
    "    test_data_t7 = get_merged_encoded_data(directory = 'data/t7.csv',model_name ='t7',one_hot_encode=ohe,column_list = column_list,drop_not_happy='H',data_balance=False)\n",
    "\n",
    "test_data_t7_temp = test_data_t7.copy()[list(model_data.columns)].head(210)\n",
    "\n",
    "# Loading model files\n",
    "pkl_file = open('exported_model_files/metadata/'+model_name+'_cat', 'rb')\n",
    "index_dict = pickle.load(pkl_file)\n",
    "new_vector = np.zeros(len(index_dict))\n",
    "\n",
    "pkl_file = open('exported_model_files/models/'+model_name+'.pkl', 'rb')\n",
    "model = pickle.load(pkl_file)\n",
    "\n",
    "# Preparing Loading data\n",
    "test_array = np.array(test_data_t7_temp.drop(axis=1,columns=[\"program\"]))\n",
    "test_actual = np.array(test_data_t7_temp[\"program\"])\n",
    "\n",
    "mclass_t3 = get_mclass_t3(temp_model_name,model,test_array,test_actual)\n",
    "mclass_RR = get_mclass_rr(temp_model_name,model,test_array,test_actual)\n",
    "mclass_accuracy = get_mclass_accuracy(temp_model_name,model,test_array,test_actual)\n",
    "mclass_reassignment = get_mclass_reassignment(temp_model_name,model)\n",
    "\n",
    "print(\"Model:  \"+model_name)\n",
    "print(\"t3:  \"+str(mclass_t3))\n",
    "print(\"RR:  \"+str(mclass_RR))\n",
    "print(\"Accuracy:  \"+str(mclass_accuracy))\n",
    "print(\"Reassignment:  \"+str(mclass_reassignment))\n"
   ]
  },
  {
   "cell_type": "code",
   "execution_count": null,
   "metadata": {},
   "outputs": [],
   "source": []
  }
 ],
 "metadata": {
  "kernelspec": {
   "display_name": "Python 3",
   "language": "python",
   "name": "python3"
  },
  "language_info": {
   "codemirror_mode": {
    "name": "ipython",
    "version": 3
   },
   "file_extension": ".py",
   "mimetype": "text/x-python",
   "name": "python",
   "nbconvert_exporter": "python",
   "pygments_lexer": "ipython3",
   "version": "3.7.0"
  }
 },
 "nbformat": 4,
 "nbformat_minor": 2
}
