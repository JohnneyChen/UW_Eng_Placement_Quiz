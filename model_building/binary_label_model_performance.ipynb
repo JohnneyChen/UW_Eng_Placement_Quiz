{
 "cells": [
  {
   "cell_type": "code",
   "execution_count": 1,
   "metadata": {},
   "outputs": [],
   "source": [
    "import matplotlib.pyplot as plt\n",
    "from matplotlib.pyplot import figure\n",
    "import numpy as np\n",
    "import pandas as pd\n",
    "import pickle\n",
    "import seaborn as sns\n",
    "from sklearn import metrics, tree, svm\n",
    "from sklearn.linear_model import LogisticRegression\n",
    "from sklearn.model_selection import KFold,cross_val_score,train_test_split,LeaveOneOut\n",
    "from sklearn.naive_bayes import MultinomialNB\n",
    "from statistics import mean\n",
    "\n",
    "from data_load import *\n",
    "from dictionaries import *\n",
    "from score_models import *"
   ]
  },
  {
   "cell_type": "code",
   "execution_count": 2,
   "metadata": {},
   "outputs": [],
   "source": [
    "model_name = 'nb_le_f1_d0_b0_c0_v0'"
   ]
  },
  {
   "cell_type": "markdown",
   "metadata": {},
   "source": [
    "# Model Performance"
   ]
  },
  {
   "cell_type": "code",
   "execution_count": 3,
   "metadata": {},
   "outputs": [],
   "source": [
    "column_list = [\n",
    "                'problem_type',\n",
    "                'creative',\n",
    "                'outdoors',\n",
    "                'career',\n",
    "                'group_work',\n",
    "                'liked_courses',\n",
    "                'disliked_courses',\n",
    "                'programming',\n",
    "                'join_clubs',\n",
    "                'not_clubs',\n",
    "                'liked_projects',\n",
    "                'disliked_projects',\n",
    "                'tv_shows',\n",
    "                'alternate_degree',\n",
    "                'expensive_equipment',\n",
    "                'drawing',\n",
    "                'essay',\n",
    "                'architecture',\n",
    "                'automotive',\n",
    "                'business',\n",
    "                'construction',\n",
    "                'health',\n",
    "                'environment',\n",
    "                'manufacturing',\n",
    "                'technology',\n",
    "                'program'\n",
    "                ]\n",
    "\n",
    "ohe_main =  [\n",
    "            'problem_type',\n",
    "            'creative',\n",
    "            'outdoors',\n",
    "            'career',\n",
    "            'group_work',\n",
    "            'liked_courses',\n",
    "            'disliked_courses',\n",
    "            'programming',\n",
    "            'join_clubs',\n",
    "            'not_clubs',\n",
    "            'liked_projects',\n",
    "            'disliked_projects',\n",
    "            'tv_shows',\n",
    "            'alternate_degree',\n",
    "            'expensive_equipment',\n",
    "            'drawing',\n",
    "            'essay'\n",
    "        ]"
   ]
  },
  {
   "cell_type": "code",
   "execution_count": 9,
   "metadata": {},
   "outputs": [
    {
     "name": "stdout",
     "output_type": "stream",
     "text": [
      "{0: 'elec', 1: 'arch-e', 2: 'geo', 3: 'arch-e', 4: 'arch-e', 5: 'arch', 6: 'syde', 7: 'arch', 8: 'cive', 9: 'arch-e', 10: 'arch-e', 11: 'cive', 12: 'cive', 13: 'cive', 14: 'arch', 15: 'arch', 16: 'arch', 17: 'arch', 18: 'arch', 19: 'arch', 20: 'arch', 21: 'arch', 22: 'cive', 23: 'geo', 24: 'bmed', 25: 'arch', 26: 'bmed', 27: 'arch', 28: 'geo', 29: 'tron', 30: 'bmed', 31: 'nano', 32: 'swe', 33: 'swe', 34: 'swe', 35: 'bmed', 36: 'bmed', 37: 'ce', 38: 'arch-e', 39: 'syde', 40: 'elec', 41: 'geo', 42: 'nano', 43: 'geo', 44: 'geo', 45: 'geo', 46: 'env', 47: 'env', 48: 'env', 49: 'chem', 50: 'nano', 51: 'elec', 52: 'chem', 53: 'nano', 54: 'nano', 55: 'nano', 56: 'cive', 57: 'arch-e', 58: 'cive', 59: 'nano', 60: 'cive', 61: 'arch-e', 62: 'swe', 63: 'arch', 64: 'geo', 65: 'nano', 66: 'cive', 67: 'bmed', 68: 'syde', 69: 'nano', 70: 'swe', 71: 'swe', 72: 'elec', 73: 'swe', 74: 'swe', 75: 'arch-e', 76: 'chem', 77: 'ce', 78: 'ce', 79: 'swe', 80: 'geo', 81: 'bmed', 82: 'swe', 83: 'env', 84: 'nano', 85: 'elec', 86: 'syde', 87: 'elec', 88: 'msci', 89: 'ce', 90: 'elec', 91: 'mech', 92: 'swe', 93: 'swe', 94: 'syde', 95: 'swe', 96: 'swe', 97: 'syde', 98: 'geo', 99: 'tron', 100: 'chem', 101: 'geo', 102: 'elec', 103: 'mech', 104: 'env', 105: 'mech', 106: 'syde', 107: 'chem', 108: 'chem', 109: 'cive', 110: 'chem', 111: 'chem', 112: 'nano', 113: 'cive', 114: 'nano', 115: 'nano', 116: 'swe', 117: 'geo', 118: 'nano', 119: 'geo', 120: 'nano', 121: 'elec', 122: 'arch-e', 123: 'env', 124: 'geo', 125: 'geo', 126: 'geo', 127: 'chem', 128: 'arch-e', 129: 'swe', 130: 'nano', 131: 'syde', 132: 'elec', 133: 'msci', 134: 'msci', 135: 'syde', 136: 'nano', 137: 'ce', 138: 'bmed', 139: 'swe', 140: 'nano', 141: 'elec', 142: 'nano', 143: 'mech', 144: 'geo', 145: 'arch-e', 146: 'nano', 147: 'env', 148: 'mech', 149: 'nano', 150: 'cive', 151: 'mech', 152: 'arch-e', 153: 'env', 154: 'tron', 155: 'nano', 156: 'syde', 157: 'swe', 158: 'bmed', 159: 'msci', 160: 'swe', 161: 'elec', 162: 'bmed', 163: 'tron', 164: 'nano', 165: 'nano', 166: 'cive', 167: 'syde', 168: 'nano', 169: 'nano', 170: 'syde', 171: 'swe', 172: 'bmed', 173: 'elec', 174: 'syde', 175: 'nano', 176: 'arch-e', 177: 'arch-e', 178: 'nano', 179: 'elec', 180: 'env', 181: 'nano', 182: 'swe', 183: 'swe', 184: 'swe', 185: 'swe', 186: 'ce', 187: 'swe', 188: 'swe', 189: 'swe', 190: 'env', 191: 'msci', 192: 'swe', 193: 'bmed', 194: 'ce', 195: 'syde', 196: 'swe', 197: 'tron', 198: 'syde', 199: 'msci', 200: 'syde', 201: 'swe', 202: 'msci', 203: 'bmed', 204: 'syde', 205: 'syde', 206: 'geo', 207: 'msci', 208: 'swe', 209: 'tron'}\n"
     ]
    }
   ],
   "source": [
    "model_data = pd.read_csv('exported_model_files/dataframes/'+model_name+'.csv',dtype=str)\n",
    "ohe = ohe_main\n",
    "\n",
    "# Loading test data\n",
    "if 'le' in model_name:\n",
    "    test_data_t7 = get_label_encoded_data('data/t7.csv',model_name='t7',column_list=column_list,drop_not_happy='H',data_balance=False)[0]\n",
    "elif 'ohe' in model_name:\n",
    "    test_data_t7 = get_merged_encoded_data(directory = 'data/t7.csv',model_name ='t7',one_hot_encode=ohe,column_list = column_list,drop_not_happy='H',data_balance=False)\n",
    "\n",
    "test_data_t7_temp = test_data_t7.copy()[list(model_data.columns)].head(210)\n",
    "test_data = test_data_t7_temp\n",
    "test_data = test_data.reset_index()\n",
    "test_data = test_data.drop(['program','id'], axis=1)\n",
    "\n",
    "predictions ={}\n",
    "for i in range(0,len(test_data)):\n",
    "    vector = np.asarray(test_data.loc[i,])\n",
    "    predictions[i] = sort_probability_dict(binary_predict_proba(vector,model_name,test_data_t7))[2][0]\n",
    "    \n",
    "# test_pred = []\n",
    "# for i in range(len(test_array)):\n",
    "#     predicted = \n",
    "#     test_pred.append(predicted)    \n",
    "\n",
    "print(predictions)    \n",
    "    \n",
    "test_data = test_data_t7_temp\n",
    "test_data['predicted_program'] = pd.Series(predictions)\n",
    "test_data.program = test_data.program.map(INV_INDEX_PROGRAM)\n",
    "test_data = test_data.reset_index()\n",
    "test_data = test_data.drop(['id'], axis=1)"
   ]
  },
  {
   "cell_type": "code",
   "execution_count": 10,
   "metadata": {
    "scrolled": false
   },
   "outputs": [],
   "source": [
    "pred_to_orig = {\n",
    "                'mech-orig': 0,\n",
    "                'bmed-orig': 0,\n",
    "                'swe-orig': 0,\n",
    "                'tron-orig': 0,\n",
    "                'cive-orig': 0,\n",
    "                'chem-orig': 0,\n",
    "                'syde-orig': 0,\n",
    "                'msci-orig': 0,\n",
    "                'ce-orig': 0,\n",
    "                'elec-orig': 0,\n",
    "                'nano-orig': 0,\n",
    "                'geo-orig': 0,\n",
    "                'env-orig': 0,\n",
    "                'arch-e-orig': 0,\n",
    "                'arch-orig': 0\n",
    "                }\n",
    "\n",
    "for i in range(0,len(test_data)):\n",
    "    try:\n",
    "        prediction_count = pred_to_orig[str(test_data.loc[i,'predicted_program'])+'-orig']\n",
    "        try:\n",
    "            prediction_count[test_data.loc[i,'program']] =prediction_count[test_data.loc[i,'program']] + 1\n",
    "        except:\n",
    "            prediction_count[test_data.loc[i,'program']] = 0\n",
    "\n",
    "        pred_to_orig[str(test_data.loc[i,'predicted_program'])+'-orig'] = prediction_count\n",
    "    except:\n",
    "        pred_to_orig[str(test_data.loc[i,'predicted_program'])+'-orig'] = {\n",
    "                                                        'mech': 0,\n",
    "                                                        'bmed': 0,\n",
    "                                                        'swe': 0,\n",
    "                                                        'tron': 0,\n",
    "                                                        'cive': 0,\n",
    "                                                        'chem': 0,\n",
    "                                                        'syde': 0,\n",
    "                                                        'msci': 0,\n",
    "                                                        'ce': 0,\n",
    "                                                        'elec': 0,\n",
    "                                                        'nano': 0,\n",
    "                                                        'geo': 0,\n",
    "                                                        'env': 0,\n",
    "                                                        'arch-e': 0,\n",
    "                                                        'arch': 0\n",
    "                                                        }\n",
    "        prediction_count = pred_to_orig[str(test_data.loc[i,'predicted_program'])+'-orig']\n",
    "        try:\n",
    "            prediction_count[test_data.loc[i,'program']] =prediction_count[test_data.loc[i,'program']] + 1\n",
    "        except:\n",
    "            prediction_count[test_data.loc[i,'program']] = 0\n",
    "\n",
    "        pred_to_orig[str(test_data.loc[i,'predicted_program'])+'-orig'] = prediction_count"
   ]
  },
  {
   "cell_type": "code",
   "execution_count": 11,
   "metadata": {
    "scrolled": false
   },
   "outputs": [
    {
     "data": {
      "text/plain": [
       "<matplotlib.axes._subplots.AxesSubplot at 0x1034bcb70>"
      ]
     },
     "execution_count": 11,
     "metadata": {},
     "output_type": "execute_result"
    },
    {
     "data": {
      "image/png": "[encoded data removed]",
      "text/plain": [
       "<Figure size 720x720 with 2 Axes>"
      ]
     },
     "metadata": {
      "needs_background": "light"
     },
     "output_type": "display_data"
    }
   ],
   "source": [
    "df = pd.DataFrame(pred_to_orig)\n",
    "df = df.reindex(sorted(df.columns), axis=1)\n",
    "df['id'] = df.index\n",
    "df = df.sort_values(by=['id'], ascending = True)\n",
    "df.set_index('id')\n",
    "df = df.drop(['id'], axis=1)\n",
    "df = df[['arch-orig','arch-e-orig','bmed-orig','ce-orig','chem-orig','cive-orig','elec-orig','env-orig','geo-orig','mech-orig','msci-orig','nano-orig','swe-orig','syde-orig' ,'tron-orig']]\n",
    "\n",
    "\n",
    "# print(df)\n",
    "plt.figure(figsize=(10,10))\n",
    "sns.heatmap(df,cmap='Blues',annot=True,linewidth=0.5)\n",
    "\n",
    "# Accent, Accent_r, Blues, Blues_r, BrBG, BrBG_r, BuGn, BuGn_r, BuPu, BuPu_r, CMRmap, CMRmap_r, Dark2, \n",
    "# Dark2_r, GnBu, GnBu_r, Greens, Greens_r, Greys, Greys_r, OrRd, OrRd_r, Oranges, Oranges_r, PRGn, \n",
    "# PRGn_r, Paired, Paired_r, Pastel1, Pastel1_r, Pastel2, Pastel2_r, PiYG, PiYG_r, PuBu, PuBuGn, \n",
    "# PuBuGn_r, PuBu_r, PuOr, PuOr_r, PuRd, PuRd_r, Purples, Purples_r, RdBu, RdBu_r, RdGy, RdGy_r, RdPu, \n",
    "# RdPu_r, RdYlBu, RdYlBu_r, RdYlGn, RdYlGn_r, Reds, Reds_r, Set1, Set1_r, Set2, Set2_r, Set3, Set3_r, \n",
    "# Spectral, Spectral_r, Wistia, Wistia_r, YlGn, YlGnBu, YlGnBu_r, YlGn_r, YlOrBr, YlOrBr_r, YlOrRd, YlOrRd_r, \n",
    "# afmhot, afmhot_r, autumn, autumn_r, binary, binary_r, bone, bone_r, brg, brg_r, bwr, bwr_r, cividis, \n",
    "# cividis_r, cool, cool_r, coolwarm, coolwarm_r, copper, copper_r, cubehelix, cubehelix_r, flag, flag_r, \n",
    "# gist_earth, gist_earth_r, gist_gray, gist_gray_r, gist_heat, gist_heat_r, gist_ncar, gist_ncar_r, \n",
    "# gist_rainbow, gist_rainbow_r, gist_stern, gist_stern_r, gist_yarg, gist_yarg_r, gnuplot, gnuplot2, \n",
    "# gnuplot2_r, gnuplot_r, gray, gray_r, hot, hot_r, hsv, hsv_r, icefire, icefire_r, inferno, inferno_r, \n",
    "# jet, jet_r, magma, magma_r, mako, mako_r, nipy_spectral, nipy_spectral_r, ocean, ocean_r, pink, pink_r,\n",
    "# plasma, plasma_r, prism, prism_r, rainbow, rainbow_r, rocket, rocket_r, seismic, seismic_r, spring, spring_r, \n",
    "# summer, summer_r, tab10, tab10_r, tab20, tab20_r, tab20b, tab20b_r, tab20c, tab20c_r, terrain, terrain_r, \n",
    "# twilight, twilight_r, twilight_shifted, twilight_shifted_r, viridis, viridis_r, vlag, vlag_r, winter, winter_r"
   ]
  },
  {
   "cell_type": "markdown",
   "metadata": {},
   "source": [
    "### Program Output Distribution"
   ]
  },
  {
   "cell_type": "code",
   "execution_count": 45,
   "metadata": {},
   "outputs": [],
   "source": [
    "# check_count = check_skew(model_name,column_list)\n",
    "# print(check_count)\n",
    "# from matplotlib.pyplot import figure\n",
    "# figure(num=None, figsize=(18, 6), dpi=80, facecolor='w', edgecolor='k')\n",
    "# plt.bar(*zip(*check_count.items()))\n",
    "# plt.show()"
   ]
  },
  {
   "cell_type": "markdown",
   "metadata": {},
   "source": [
    "### Gender Bias Distribution"
   ]
  },
  {
   "cell_type": "code",
   "execution_count": 46,
   "metadata": {},
   "outputs": [],
   "source": [
    "# check_bias = check_gender_bias(directory,model_name,column_list)\n",
    "# df = pd.DataFrame(check_bias)\n",
    "# print(df)\n",
    "# df.plot.bar(figsize=(18,6))\n",
    "# plt.show()"
   ]
  },
  {
   "cell_type": "markdown",
   "metadata": {},
   "source": [
    "### \"Not Happy\" Distribution"
   ]
  },
  {
   "cell_type": "code",
   "execution_count": 47,
   "metadata": {},
   "outputs": [],
   "source": [
    "# check_bias = check_happy_bias(directory,model_name,column_list)\n",
    "# df = pd.DataFrame(check_bias)\n",
    "# print(df)\n",
    "# plt.figure(figsize=(10,10))\n",
    "# sns.heatmap(df,cmap='coolwarm',annot=True,linewidth=0.5)"
   ]
  },
  {
   "cell_type": "code",
   "execution_count": null,
   "metadata": {},
   "outputs": [],
   "source": []
  }
 ],
 "metadata": {
  "kernelspec": {
   "display_name": "Python 3",
   "language": "python",
   "name": "python3"
  },
  "language_info": {
   "codemirror_mode": {
    "name": "ipython",
    "version": 3
   },
   "file_extension": ".py",
   "mimetype": "text/x-python",
   "name": "python",
   "nbconvert_exporter": "python",
   "pygments_lexer": "ipython3",
   "version": "3.7.0"
  }
 },
 "nbformat": 4,
 "nbformat_minor": 2
}
