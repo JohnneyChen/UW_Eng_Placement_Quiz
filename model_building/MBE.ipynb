{
 "cells": [
  {
   "cell_type": "code",
   "execution_count": 1,
   "metadata": {},
   "outputs": [],
   "source": [
    "import matplotlib.pyplot as plt\n",
    "from matplotlib.pyplot import figure\n",
    "import numpy as np\n",
    "import pandas as pd\n",
    "import pickle\n",
    "from sklearn import metrics, tree\n",
    "from sklearn.model_selection import KFold,cross_val_score,train_test_split,LeaveOneOut\n",
    "from sklearn.naive_bayes import MultinomialNB\n",
    "from sklearn.svm import LinearSVC\n",
    "from sklearn.linear_model import LogisticRegression\n",
    "\n",
    "from data_load import *\n",
    "from dictionaries import *"
   ]
  },
  {
   "cell_type": "markdown",
   "metadata": {},
   "source": [
    "# Define the Model Parameters"
   ]
  },
  {
   "cell_type": "markdown",
   "metadata": {},
   "source": [
    "model_naming_convention = directory_encoding_datastructure_column-set_version\n",
    "\n",
    "\n",
    "example: B_nb_le_d1_c1_v1 is a  model which is label encoded using data set 1, column set 1, version 1 on the basic untreated data set.\n",
    "\n",
    "model_type will be appended to the front of the model name as it is run through each of the \n",
    "\n",
    "Link to model building log: https://docs.google.com/spreadsheets/d/1py4RVZ0er_JDeJo-oxY29QT6__EWHIeU6zBgp-q8Wog/edit?usp=sharing"
   ]
  },
  {
   "cell_type": "code",
   "execution_count": 4,
   "metadata": {},
   "outputs": [],
   "source": [
    "directory = 'test_data_100.csv'\n",
    "model_name = 'model-type_encoding_datastructure_column-set_version'\n",
    "\n",
    "column_list = [\n",
    "                'problem_type', \n",
    "                'creative', \n",
    "                'outdoors', \n",
    "                'career',\n",
    "                'group_work', \n",
    "                'liked_courses', \n",
    "                'disliked_courses', \n",
    "                'programming',\n",
    "                'join_clubs', \n",
    "                'not_clubs', \n",
    "                'liked_projects',\n",
    "                'disliked_projects',\n",
    "                'tv_shows', \n",
    "                'alternate_degree', \n",
    "                'expensive_equipment', \n",
    "                'drawing',\n",
    "                'essay', \n",
    "                'architecture', \n",
    "                'automotive', \n",
    "                'business', \n",
    "                'construction',\n",
    "                'health',\n",
    "                'environment', \n",
    "                'manufacturing', \n",
    "                'technology',\n",
    "                'program'\n",
    "                ]\n",
    "\n",
    "data_balance = {\n",
    "                'mech': 10,\n",
    "                'bmed': 10,\n",
    "                'swe': 10,\n",
    "                'tron': 10,\n",
    "                'cive': 10,\n",
    "                'chem': 10,\n",
    "                'syde': 10,\n",
    "                'msci': 10,\n",
    "                'ce': 10,\n",
    "                'elec': 10,\n",
    "                'nano': 10,\n",
    "                'geo': 10,\n",
    "                'env': 10,\n",
    "                'arch-e': 10,\n",
    "                'arch': 10\n",
    "                }\n",
    "\n",
    "test_vector = [0] * len(column_list)\n",
    "test_vector = np.array(test_vector).reshape(1, -1)"
   ]
  },
  {
   "cell_type": "code",
   "execution_count": null,
   "metadata": {},
   "outputs": [],
   "source": [
    "## Multilabel Classifiers"
   ]
  },
  {
   "cell_type": "code",
   "execution_count": null,
   "metadata": {},
   "outputs": [],
   "source": []
  }
 ],
 "metadata": {
  "kernelspec": {
   "display_name": "Python 3",
   "language": "python",
   "name": "python3"
  },
  "language_info": {
   "codemirror_mode": {
    "name": "ipython",
    "version": 3
   },
   "file_extension": ".py",
   "mimetype": "text/x-python",
   "name": "python",
   "nbconvert_exporter": "python",
   "pygments_lexer": "ipython3",
   "version": "3.7.0"
  }
 },
 "nbformat": 4,
 "nbformat_minor": 2
}
