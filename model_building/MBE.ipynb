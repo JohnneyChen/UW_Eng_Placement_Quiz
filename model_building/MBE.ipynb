{
 "cells": [
  {
   "cell_type": "code",
   "execution_count": 1,
   "metadata": {},
   "outputs": [],
   "source": [
    "import matplotlib.pyplot as plt\n",
    "from matplotlib.pyplot import figure\n",
    "import numpy as np\n",
    "import pandas as pd\n",
    "import pickle\n",
    "from sklearn import metrics, tree, svm\n",
    "from sklearn.linear_model import LogisticRegression\n",
    "from sklearn.model_selection import KFold,cross_val_score,train_test_split,LeaveOneOut\n",
    "from sklearn.naive_bayes import MultinomialNB\n",
    "\n",
    "from data_load import *\n",
    "from dictionaries import *"
   ]
  },
  {
   "cell_type": "markdown",
   "metadata": {},
   "source": [
    "# Define the Model Parameters"
   ]
  },
  {
   "cell_type": "markdown",
   "metadata": {},
   "source": [
    "model_naming_convention = model-type_encoding_directory_datastructure_column-set_version\n",
    "\n",
    "\n",
    "example: nb_le_f0_d0_b0_c0_v0 is a  model which is label encoded using data set 1, column set 1, version 1 on the basic untreated data set with no data treatment for a family of multi-label classifiers\n",
    "\n",
    "model_type will be appended to the front of the model name as it is run through each of the \n",
    "\n",
    "Link to model building log: https://docs.google.com/spreadsheets/d/1py4RVZ0er_JDeJo-oxY29QT6__EWHIeU6zBgp-q8Wog/edit?usp=sharing"
   ]
  },
  {
   "cell_type": "code",
   "execution_count": 21,
   "metadata": {},
   "outputs": [],
   "source": [
    "directory = 'data/quiz_data.csv'\n",
    "#model_name = 'model-type_encoding_directory_datastructure_column-set_version'\n",
    "experiment_model_name = 'test'\n",
    "\n",
    "column_list = [\n",
    "                'problem_type', \n",
    "                'creative', \n",
    "                'outdoors', \n",
    "                'career',\n",
    "                'group_work', \n",
    "                'liked_courses', \n",
    "                'disliked_courses', \n",
    "                'programming',\n",
    "                'join_clubs', \n",
    "                'not_clubs', \n",
    "                'liked_projects',\n",
    "                'disliked_projects',\n",
    "                'tv_shows', \n",
    "                'alternate_degree', \n",
    "                'expensive_equipment', \n",
    "                'drawing',\n",
    "                'essay', \n",
    "                'architecture', \n",
    "                'automotive', \n",
    "                'business', \n",
    "                'construction',\n",
    "                'health',\n",
    "                'environment', \n",
    "                'manufacturing', \n",
    "                'technology',\n",
    "                'program'\n",
    "                ]\n",
    "\n",
    "# data_balance = {\n",
    "#                 'mech': 10,\n",
    "#                 'bmed': 10,\n",
    "#                 'swe': 10,\n",
    "#                 'tron': 10,\n",
    "#                 'cive': 10,\n",
    "#                 'chem': 10,\n",
    "#                 'syde': 10,\n",
    "#                 'msci': 10,\n",
    "#                 'ce': 10,\n",
    "#                 'elec': 10,\n",
    "#                 'nano': 10,\n",
    "#                 'geo': 10,\n",
    "#                 'env': 10,\n",
    "#                 'arch-e': 10,\n",
    "#                 'arch': 10\n",
    "#                 }\n",
    "data_balance = False # this is only relevant when we want to use untreated data for code d0\n",
    "\n",
    "data_balance_multiple = 1 # Ratio of other programs to program in binary classifier. 2 means double of other programs, 0.5 means half\n",
    "\n",
    "test_vector = [0] * (len(column_list)-1)\n",
    "test_vector = np.array(test_vector).reshape(1, -1)"
   ]
  },
  {
   "cell_type": "markdown",
   "metadata": {},
   "source": [
    "### Define Encoding\n",
    "\n",
    " For each new type of encoding defined (other than the default label encoding) we need to define a new list of variables which are to be one hot encoded. This list name should match the encoding code that you will place in the dictionary in the model building google sheet.\n",
    "\n",
    " For each new type of encoding created, a new code block needs to be added under each model under each classfier family. Then, copy the code for the one hot encoded models and change the one_hot_encode list to the new list you created for this type of encoding. Once all the code blocks are added, you can run those cells!"
   ]
  },
  {
   "cell_type": "code",
   "execution_count": 22,
   "metadata": {},
   "outputs": [],
   "source": [
    "ohe =  [\n",
    "        'problem_type', \n",
    "        'creative', \n",
    "        'outdoors', \n",
    "        'career',\n",
    "        'group_work', \n",
    "        'liked_courses', \n",
    "        'disliked_courses', \n",
    "        'programming',\n",
    "        'join_clubs', \n",
    "        'not_clubs', \n",
    "        'liked_projects',\n",
    "        'disliked_projects',\n",
    "        'tv_shows', \n",
    "        'alternate_degree', \n",
    "        'expensive_equipment', \n",
    "        'drawing',\n",
    "        'essay'\n",
    "        ]\n",
    "\n",
    "m0 =  [\n",
    "        'problem_type', \n",
    "        'creative', \n",
    "        'outdoors', \n",
    "        'career',\n",
    "        'group_work', \n",
    "        'liked_courses', \n",
    "        'disliked_courses', \n",
    "        'programming',\n",
    "        'join_clubs', \n",
    "        'not_clubs', \n",
    "        'liked_projects',\n",
    "        'disliked_projects',\n",
    "        'tv_shows', \n",
    "        'alternate_degree', \n",
    "        'expensive_equipment', \n",
    "        'drawing',\n",
    "        'essay'\n",
    "        ]\n",
    "\n",
    "\n",
    "m1 =  [\n",
    "        'problem_type', \n",
    "        'creative', \n",
    "        'outdoors', \n",
    "        'career',\n",
    "        'group_work', \n",
    "        'liked_courses', \n",
    "        'disliked_courses', \n",
    "        'programming',\n",
    "        'join_clubs', \n",
    "        'not_clubs', \n",
    "        'liked_projects',\n",
    "        'disliked_projects',\n",
    "        'tv_shows', \n",
    "        'alternate_degree', \n",
    "        'expensive_equipment', \n",
    "        'drawing',\n",
    "        'essay'\n",
    "        ] "
   ]
  },
  {
   "cell_type": "markdown",
   "metadata": {},
   "source": [
    "## Multilabel Classifiers"
   ]
  },
  {
   "cell_type": "markdown",
   "metadata": {},
   "source": [
    "### Naive Bayes - Label Encoded"
   ]
  },
  {
   "cell_type": "code",
   "execution_count": 23,
   "metadata": {},
   "outputs": [
    {
     "name": "stdout",
     "output_type": "stream",
     "text": [
      "tron\n",
      "Loading CAT file...\n",
      "Loading model...\n",
      "Results:\n",
      "{'arch': 0.0419, 'arch-e': 0.034, 'bmed': 0.0672, 'ce': 0.1041, 'chem': 0.0629, 'cive': 0.0658, 'elec': 0.0521, 'env': 0.0521, 'geo': 0.0188, 'mech': 0.1142, 'msci': 0.0853, 'nano': 0.0651, 'swe': 0.0564, 'syde': 0.0607, 'tron': 0.1193}\n"
     ]
    }
   ],
   "source": [
    "model_name = 'nb_le_f0_'+ experiment_model_name\n",
    "data = get_label_encoded_data(directory,model_name,column_list,'H',data_balance=data_balance)[0]\n",
    "data = data[column_list]\n",
    "\n",
    "x_df = data.drop(axis=1,columns=[\"program\"])\n",
    "y_df = data[\"program\"]\n",
    "\n",
    "X = np.array(x_df) # convert dataframe into np array\n",
    "Y = np.array(y_df) # convert dataframe into np array\n",
    "\n",
    "mnb = MultinomialNB()\n",
    "model = mnb.fit(X, Y) # fit the model using training data\n",
    "\n",
    "cat = data.drop('program',axis=1)\n",
    "cat = dict(zip(cat.columns,range(cat.shape[1])))\n",
    "\n",
    "print(INV_INDEX_PROGRAM[model.predict(test_vector)[0]])\n",
    "\n",
    "save_model(model,cat,model_name)\n",
    "test_model(model_name,test_vector)"
   ]
  },
  {
   "cell_type": "markdown",
   "metadata": {},
   "source": [
    "### Naive Bayes - One Hot Encoded"
   ]
  },
  {
   "cell_type": "code",
   "execution_count": 24,
   "metadata": {
    "scrolled": true
   },
   "outputs": [],
   "source": [
    "model_name = 'nb_ohe_f0_'+ experiment_model_name\n",
    "data = get_merged_encoded_data(directory,model_name,one_hot_encode=ohe,column_list = column_list,drop_not_happy='H',data_balance=data_balance)\n",
    "\n",
    "x_df = data.drop(axis=1,columns=[\"program\"])\n",
    "y_df = data[\"program\"]\n",
    "\n",
    "X = np.array(x_df) # convert dataframe into np array\n",
    "Y = np.array(y_df) # convert dataframe into np array\n",
    "\n",
    "mnb = MultinomialNB()\n",
    "model = mnb.fit(X, Y) # fit the model using training data\n",
    "\n",
    "cat = data.drop('program',axis=1)\n",
    "cat = dict(zip(cat.columns,range(cat.shape[1])))\n",
    "\n",
    "save_model(model,cat,model_name)"
   ]
  },
  {
   "cell_type": "markdown",
   "metadata": {},
   "source": [
    "### Logistic Regression - Label Encoded"
   ]
  },
  {
   "cell_type": "code",
   "execution_count": 25,
   "metadata": {},
   "outputs": [
    {
     "name": "stdout",
     "output_type": "stream",
     "text": [
      "msci\n",
      "Loading CAT file...\n",
      "Loading model...\n",
      "Results:\n",
      "{'arch': 0.069, 'arch-e': 0.0499, 'bmed': 0.0445, 'ce': 0.0454, 'chem': 0.1041, 'cive': 0.1137, 'elec': 0.0358, 'env': 0.0511, 'geo': 0.0448, 'mech': 0.0716, 'msci': 0.1308, 'nano': 0.0908, 'swe': 0.0784, 'syde': 0.0372, 'tron': 0.0331}\n"
     ]
    },
    {
     "name": "stderr",
     "output_type": "stream",
     "text": [
      "/Library/Frameworks/Python.framework/Versions/3.7/lib/python3.7/site-packages/sklearn/linear_model/logistic.py:758: ConvergenceWarning: lbfgs failed to converge. Increase the number of iterations.\n",
      "  \"of iterations.\", ConvergenceWarning)\n"
     ]
    }
   ],
   "source": [
    "model_name = 'lrr_le_f0_'+ experiment_model_name\n",
    "data = get_label_encoded_data(directory,model_name,column_list,'H',data_balance=data_balance)[0]\n",
    "\n",
    "x_df = data.drop(axis=1,columns=[\"program\"])\n",
    "y_df = data[\"program\"]\n",
    "\n",
    "X = np.array(x_df) # convert dataframe into np array\n",
    "Y = np.array(y_df) # convert dataframe into np array\n",
    "\n",
    "LRR = LogisticRegression(random_state=0, solver='lbfgs',multi_class='multinomial')\n",
    "model = LRR.fit(X, Y) # fit the model using training data\n",
    "\n",
    "cat = data.drop('program',axis=1)\n",
    "cat = dict(zip(cat.columns,range(cat.shape[1])))\n",
    "\n",
    "print(INV_INDEX_PROGRAM[model.predict(test_vector)[0]])\n",
    "\n",
    "save_model(model,cat,model_name)\n",
    "test_model(model_name,test_vector)"
   ]
  },
  {
   "cell_type": "markdown",
   "metadata": {},
   "source": [
    "### Logistic Regression - One Hot Encoded"
   ]
  },
  {
   "cell_type": "code",
   "execution_count": 26,
   "metadata": {},
   "outputs": [
    {
     "name": "stderr",
     "output_type": "stream",
     "text": [
      "/Library/Frameworks/Python.framework/Versions/3.7/lib/python3.7/site-packages/sklearn/linear_model/logistic.py:758: ConvergenceWarning: lbfgs failed to converge. Increase the number of iterations.\n",
      "  \"of iterations.\", ConvergenceWarning)\n"
     ]
    }
   ],
   "source": [
    "model_name = 'lrr_ohe_f0_'+ experiment_model_name\n",
    "data = get_merged_encoded_data(directory,model_name,one_hot_encode=ohe,column_list = column_list,drop_not_happy='H',data_balance=data_balance)\n",
    "\n",
    "x_df = data.drop(axis=1,columns=[\"program\"])\n",
    "y_df = data[\"program\"]\n",
    "\n",
    "X = np.array(x_df) # convert dataframe into np array\n",
    "Y = np.array(y_df) # convert dataframe into np array\n",
    "\n",
    "LRR = LogisticRegression(random_state=0, solver='lbfgs',multi_class='multinomial')\n",
    "model = LRR.fit(X, Y) # fit the model using training data\n",
    "\n",
    "cat = data.drop('program',axis=1)\n",
    "cat = dict(zip(cat.columns,range(cat.shape[1])))\n",
    "\n",
    "save_model(model,cat,model_name)"
   ]
  },
  {
   "cell_type": "markdown",
   "metadata": {},
   "source": [
    "### Support Vector Machine - Label Encoded"
   ]
  },
  {
   "cell_type": "code",
   "execution_count": 27,
   "metadata": {},
   "outputs": [
    {
     "name": "stderr",
     "output_type": "stream",
     "text": [
      "/Library/Frameworks/Python.framework/Versions/3.7/lib/python3.7/site-packages/sklearn/svm/base.py:196: FutureWarning: The default value of gamma will change from 'auto' to 'scale' in version 0.22 to account better for unscaled features. Set gamma explicitly to 'auto' or 'scale' to avoid this warning.\n",
      "  \"avoid this warning.\", FutureWarning)\n"
     ]
    },
    {
     "name": "stdout",
     "output_type": "stream",
     "text": [
      "mech\n",
      "Loading CAT file...\n",
      "Loading model...\n",
      "Results:\n",
      "{'arch': 0.0346, 'arch-e': 0.0341, 'bmed': 0.0835, 'ce': 0.0599, 'chem': 0.0607, 'cive': 0.0887, 'elec': 0.0589, 'env': 0.0271, 'geo': 0.0206, 'mech': 0.169, 'msci': 0.0786, 'nano': 0.0827, 'swe': 0.0219, 'syde': 0.0556, 'tron': 0.124}\n"
     ]
    }
   ],
   "source": [
    "model_name = 'svm_le_f0_'+ experiment_model_name\n",
    "data = get_label_encoded_data(directory,model_name,column_list,'H',data_balance=data_balance)[0]\n",
    "\n",
    "x_df = data.drop(axis=1,columns=[\"program\"])\n",
    "y_df = data[\"program\"]\n",
    "\n",
    "X = np.array(x_df) # convert dataframe into np array\n",
    "Y = np.array(y_df) # convert dataframe into np array\n",
    "\n",
    "SVM = svm.SVC(probability=True)\n",
    "model = SVM.fit(X, Y) # fit the model using training data\n",
    "\n",
    "cat = data.drop('program',axis=1)\n",
    "cat = dict(zip(cat.columns,range(cat.shape[1])))\n",
    "\n",
    "print(INV_INDEX_PROGRAM[model.predict(test_vector)[0]])\n",
    "\n",
    "save_model(model,cat,model_name)\n",
    "test_model(model_name,test_vector)"
   ]
  },
  {
   "cell_type": "markdown",
   "metadata": {},
   "source": [
    "### Support Vector Machine - One Hot Encoded"
   ]
  },
  {
   "cell_type": "code",
   "execution_count": 28,
   "metadata": {},
   "outputs": [
    {
     "name": "stderr",
     "output_type": "stream",
     "text": [
      "/Library/Frameworks/Python.framework/Versions/3.7/lib/python3.7/site-packages/sklearn/svm/base.py:196: FutureWarning: The default value of gamma will change from 'auto' to 'scale' in version 0.22 to account better for unscaled features. Set gamma explicitly to 'auto' or 'scale' to avoid this warning.\n",
      "  \"avoid this warning.\", FutureWarning)\n"
     ]
    }
   ],
   "source": [
    "model_name = 'svm_ohe_f0_'+ experiment_model_name\n",
    "data = get_merged_encoded_data(directory,model_name,one_hot_encode=ohe,column_list = column_list,drop_not_happy='H',data_balance=data_balance)\n",
    "\n",
    "x_df = data.drop(axis=1,columns=[\"program\"])\n",
    "y_df = data[\"program\"]\n",
    "\n",
    "X = np.array(x_df) # convert dataframe into np array\n",
    "Y = np.array(y_df) # convert dataframe into np array\n",
    "\n",
    "SVM = svm.SVC(probability=True)\n",
    "model = SVM.fit(X, Y) # fit the model using training data\n",
    "\n",
    "cat = data.drop('program',axis=1)\n",
    "cat = dict(zip(cat.columns,range(cat.shape[1])))\n",
    "\n",
    "save_model(model,cat,model_name)"
   ]
  },
  {
   "cell_type": "markdown",
   "metadata": {},
   "source": [
    "## Binary Classifiers"
   ]
  },
  {
   "cell_type": "markdown",
   "metadata": {},
   "source": [
    "### Naive Bayes -  Label Encoded"
   ]
  },
  {
   "cell_type": "code",
   "execution_count": 29,
   "metadata": {},
   "outputs": [
    {
     "name": "stdout",
     "output_type": "stream",
     "text": [
      "nb_le_f1_test_mech created..\n",
      "nb_le_f1_test_bmed created..\n",
      "nb_le_f1_test_swe created..\n",
      "nb_le_f1_test_ce created..\n",
      "nb_le_f1_test_tron created..\n",
      "nb_le_f1_test_cive created..\n",
      "nb_le_f1_test_chem created..\n",
      "nb_le_f1_test_syde created..\n",
      "nb_le_f1_test_msci created..\n",
      "nb_le_f1_test_elec created..\n",
      "nb_le_f1_test_nano created..\n",
      "nb_le_f1_test_geo created..\n",
      "nb_le_f1_test_env created..\n",
      "nb_le_f1_test_arch-e created..\n",
      "nb_le_f1_test_arch created..\n"
     ]
    }
   ],
   "source": [
    "model_name = 'nb_le_f1_'+experiment_model_name\n",
    "data = get_label_encoded_data(directory,model_name,column_list,'H',data_balance=data_balance)[0]\n",
    "mnb = model_type = MultinomialNB()\n",
    "binary_classifier(data,model_name,data_balance_multiple,mnb)"
   ]
  },
  {
   "cell_type": "markdown",
   "metadata": {},
   "source": [
    "### Naive Bayes - One Hot Encoded"
   ]
  },
  {
   "cell_type": "code",
   "execution_count": 30,
   "metadata": {},
   "outputs": [
    {
     "name": "stdout",
     "output_type": "stream",
     "text": [
      "nb_ohe_f1_test_mech created..\n",
      "nb_ohe_f1_test_bmed created..\n",
      "nb_ohe_f1_test_swe created..\n",
      "nb_ohe_f1_test_ce created..\n",
      "nb_ohe_f1_test_tron created..\n",
      "nb_ohe_f1_test_cive created..\n",
      "nb_ohe_f1_test_chem created..\n",
      "nb_ohe_f1_test_syde created..\n",
      "nb_ohe_f1_test_msci created..\n",
      "nb_ohe_f1_test_elec created..\n",
      "nb_ohe_f1_test_nano created..\n",
      "nb_ohe_f1_test_geo created..\n",
      "nb_ohe_f1_test_env created..\n",
      "nb_ohe_f1_test_arch-e created..\n",
      "nb_ohe_f1_test_arch created..\n"
     ]
    }
   ],
   "source": [
    "model_name = 'nb_ohe_f1_'+experiment_model_name\n",
    "data = get_merged_encoded_data(directory,model_name,one_hot_encode=ohe,column_list = column_list,drop_not_happy='H',data_balance=data_balance)\n",
    "mnb = model_type = MultinomialNB()\n",
    "binary_classifier(data,model_name,data_balance_multiple,mnb)"
   ]
  },
  {
   "cell_type": "markdown",
   "metadata": {},
   "source": [
    "### Logistic Regression - Label Encoded"
   ]
  },
  {
   "cell_type": "code",
   "execution_count": 31,
   "metadata": {},
   "outputs": [
    {
     "name": "stderr",
     "output_type": "stream",
     "text": [
      "/Library/Frameworks/Python.framework/Versions/3.7/lib/python3.7/site-packages/sklearn/linear_model/logistic.py:758: ConvergenceWarning: lbfgs failed to converge. Increase the number of iterations.\n",
      "  \"of iterations.\", ConvergenceWarning)\n",
      "/Library/Frameworks/Python.framework/Versions/3.7/lib/python3.7/site-packages/sklearn/linear_model/logistic.py:758: ConvergenceWarning: lbfgs failed to converge. Increase the number of iterations.\n",
      "  \"of iterations.\", ConvergenceWarning)\n",
      "/Library/Frameworks/Python.framework/Versions/3.7/lib/python3.7/site-packages/sklearn/linear_model/logistic.py:758: ConvergenceWarning: lbfgs failed to converge. Increase the number of iterations.\n",
      "  \"of iterations.\", ConvergenceWarning)\n",
      "/Library/Frameworks/Python.framework/Versions/3.7/lib/python3.7/site-packages/sklearn/linear_model/logistic.py:758: ConvergenceWarning: lbfgs failed to converge. Increase the number of iterations.\n",
      "  \"of iterations.\", ConvergenceWarning)\n",
      "/Library/Frameworks/Python.framework/Versions/3.7/lib/python3.7/site-packages/sklearn/linear_model/logistic.py:758: ConvergenceWarning: lbfgs failed to converge. Increase the number of iterations.\n",
      "  \"of iterations.\", ConvergenceWarning)\n",
      "/Library/Frameworks/Python.framework/Versions/3.7/lib/python3.7/site-packages/sklearn/linear_model/logistic.py:758: ConvergenceWarning: lbfgs failed to converge. Increase the number of iterations.\n",
      "  \"of iterations.\", ConvergenceWarning)\n",
      "/Library/Frameworks/Python.framework/Versions/3.7/lib/python3.7/site-packages/sklearn/linear_model/logistic.py:758: ConvergenceWarning: lbfgs failed to converge. Increase the number of iterations.\n",
      "  \"of iterations.\", ConvergenceWarning)\n"
     ]
    },
    {
     "name": "stdout",
     "output_type": "stream",
     "text": [
      "lrr_le_f1_test_mech created..\n",
      "lrr_le_f1_test_bmed created..\n",
      "lrr_le_f1_test_swe created..\n",
      "lrr_le_f1_test_ce created..\n",
      "lrr_le_f1_test_tron created..\n",
      "lrr_le_f1_test_cive created..\n",
      "lrr_le_f1_test_chem created..\n"
     ]
    },
    {
     "name": "stderr",
     "output_type": "stream",
     "text": [
      "/Library/Frameworks/Python.framework/Versions/3.7/lib/python3.7/site-packages/sklearn/linear_model/logistic.py:758: ConvergenceWarning: lbfgs failed to converge. Increase the number of iterations.\n",
      "  \"of iterations.\", ConvergenceWarning)\n",
      "/Library/Frameworks/Python.framework/Versions/3.7/lib/python3.7/site-packages/sklearn/linear_model/logistic.py:758: ConvergenceWarning: lbfgs failed to converge. Increase the number of iterations.\n",
      "  \"of iterations.\", ConvergenceWarning)\n",
      "/Library/Frameworks/Python.framework/Versions/3.7/lib/python3.7/site-packages/sklearn/linear_model/logistic.py:758: ConvergenceWarning: lbfgs failed to converge. Increase the number of iterations.\n",
      "  \"of iterations.\", ConvergenceWarning)\n",
      "/Library/Frameworks/Python.framework/Versions/3.7/lib/python3.7/site-packages/sklearn/linear_model/logistic.py:758: ConvergenceWarning: lbfgs failed to converge. Increase the number of iterations.\n",
      "  \"of iterations.\", ConvergenceWarning)\n",
      "/Library/Frameworks/Python.framework/Versions/3.7/lib/python3.7/site-packages/sklearn/linear_model/logistic.py:758: ConvergenceWarning: lbfgs failed to converge. Increase the number of iterations.\n",
      "  \"of iterations.\", ConvergenceWarning)\n"
     ]
    },
    {
     "name": "stdout",
     "output_type": "stream",
     "text": [
      "lrr_le_f1_test_syde created..\n",
      "lrr_le_f1_test_msci created..\n",
      "lrr_le_f1_test_elec created..\n",
      "lrr_le_f1_test_nano created..\n",
      "lrr_le_f1_test_geo created..\n",
      "lrr_le_f1_test_env created..\n",
      "lrr_le_f1_test_arch-e created..\n",
      "lrr_le_f1_test_arch created..\n"
     ]
    },
    {
     "name": "stderr",
     "output_type": "stream",
     "text": [
      "/Library/Frameworks/Python.framework/Versions/3.7/lib/python3.7/site-packages/sklearn/linear_model/logistic.py:758: ConvergenceWarning: lbfgs failed to converge. Increase the number of iterations.\n",
      "  \"of iterations.\", ConvergenceWarning)\n",
      "/Library/Frameworks/Python.framework/Versions/3.7/lib/python3.7/site-packages/sklearn/linear_model/logistic.py:758: ConvergenceWarning: lbfgs failed to converge. Increase the number of iterations.\n",
      "  \"of iterations.\", ConvergenceWarning)\n"
     ]
    }
   ],
   "source": [
    "model_name = 'lrr_le_f1_'+experiment_model_name\n",
    "data = get_label_encoded_data(directory,model_name,column_list,'H',data_balance=data_balance)[0]\n",
    "LRR = LogisticRegression(random_state=0, solver='lbfgs',multi_class='multinomial')\n",
    "binary_classifier(data,model_name,data_balance_multiple,LRR)"
   ]
  },
  {
   "cell_type": "markdown",
   "metadata": {},
   "source": [
    "### Logistic Regression - One Hot Encoded"
   ]
  },
  {
   "cell_type": "code",
   "execution_count": 32,
   "metadata": {},
   "outputs": [
    {
     "name": "stdout",
     "output_type": "stream",
     "text": [
      "lrr_ohe_f1_test_mech created..\n",
      "lrr_ohe_f1_test_bmed created..\n",
      "lrr_ohe_f1_test_swe created..\n",
      "lrr_ohe_f1_test_ce created..\n",
      "lrr_ohe_f1_test_tron created..\n",
      "lrr_ohe_f1_test_cive created..\n",
      "lrr_ohe_f1_test_chem created..\n",
      "lrr_ohe_f1_test_syde created..\n",
      "lrr_ohe_f1_test_msci created..\n",
      "lrr_ohe_f1_test_elec created..\n",
      "lrr_ohe_f1_test_nano created..\n",
      "lrr_ohe_f1_test_geo created..\n",
      "lrr_ohe_f1_test_env created..\n",
      "lrr_ohe_f1_test_arch-e created..\n",
      "lrr_ohe_f1_test_arch created..\n"
     ]
    }
   ],
   "source": [
    "model_name = 'lrr_ohe_f1_'+experiment_model_name\n",
    "data = get_merged_encoded_data(directory,model_name,one_hot_encode=ohe,column_list = column_list,drop_not_happy='H',data_balance=data_balance)\n",
    "LRR = LogisticRegression(random_state=0, solver='lbfgs',multi_class='multinomial')\n",
    "binary_classifier(data,model_name,data_balance_multiple,LRR)"
   ]
  },
  {
   "cell_type": "markdown",
   "metadata": {},
   "source": [
    "### Support Vector Machine - Label Encoded"
   ]
  },
  {
   "cell_type": "code",
   "execution_count": 33,
   "metadata": {},
   "outputs": [
    {
     "name": "stderr",
     "output_type": "stream",
     "text": [
      "/Library/Frameworks/Python.framework/Versions/3.7/lib/python3.7/site-packages/sklearn/svm/base.py:196: FutureWarning: The default value of gamma will change from 'auto' to 'scale' in version 0.22 to account better for unscaled features. Set gamma explicitly to 'auto' or 'scale' to avoid this warning.\n",
      "  \"avoid this warning.\", FutureWarning)\n",
      "/Library/Frameworks/Python.framework/Versions/3.7/lib/python3.7/site-packages/sklearn/svm/base.py:196: FutureWarning: The default value of gamma will change from 'auto' to 'scale' in version 0.22 to account better for unscaled features. Set gamma explicitly to 'auto' or 'scale' to avoid this warning.\n",
      "  \"avoid this warning.\", FutureWarning)\n",
      "/Library/Frameworks/Python.framework/Versions/3.7/lib/python3.7/site-packages/sklearn/svm/base.py:196: FutureWarning: The default value of gamma will change from 'auto' to 'scale' in version 0.22 to account better for unscaled features. Set gamma explicitly to 'auto' or 'scale' to avoid this warning.\n",
      "  \"avoid this warning.\", FutureWarning)\n",
      "/Library/Frameworks/Python.framework/Versions/3.7/lib/python3.7/site-packages/sklearn/svm/base.py:196: FutureWarning: The default value of gamma will change from 'auto' to 'scale' in version 0.22 to account better for unscaled features. Set gamma explicitly to 'auto' or 'scale' to avoid this warning.\n",
      "  \"avoid this warning.\", FutureWarning)\n",
      "/Library/Frameworks/Python.framework/Versions/3.7/lib/python3.7/site-packages/sklearn/svm/base.py:196: FutureWarning: The default value of gamma will change from 'auto' to 'scale' in version 0.22 to account better for unscaled features. Set gamma explicitly to 'auto' or 'scale' to avoid this warning.\n",
      "  \"avoid this warning.\", FutureWarning)\n",
      "/Library/Frameworks/Python.framework/Versions/3.7/lib/python3.7/site-packages/sklearn/svm/base.py:196: FutureWarning: The default value of gamma will change from 'auto' to 'scale' in version 0.22 to account better for unscaled features. Set gamma explicitly to 'auto' or 'scale' to avoid this warning.\n",
      "  \"avoid this warning.\", FutureWarning)\n",
      "/Library/Frameworks/Python.framework/Versions/3.7/lib/python3.7/site-packages/sklearn/svm/base.py:196: FutureWarning: The default value of gamma will change from 'auto' to 'scale' in version 0.22 to account better for unscaled features. Set gamma explicitly to 'auto' or 'scale' to avoid this warning.\n",
      "  \"avoid this warning.\", FutureWarning)\n",
      "/Library/Frameworks/Python.framework/Versions/3.7/lib/python3.7/site-packages/sklearn/svm/base.py:196: FutureWarning: The default value of gamma will change from 'auto' to 'scale' in version 0.22 to account better for unscaled features. Set gamma explicitly to 'auto' or 'scale' to avoid this warning.\n",
      "  \"avoid this warning.\", FutureWarning)\n",
      "/Library/Frameworks/Python.framework/Versions/3.7/lib/python3.7/site-packages/sklearn/svm/base.py:196: FutureWarning: The default value of gamma will change from 'auto' to 'scale' in version 0.22 to account better for unscaled features. Set gamma explicitly to 'auto' or 'scale' to avoid this warning.\n",
      "  \"avoid this warning.\", FutureWarning)\n",
      "/Library/Frameworks/Python.framework/Versions/3.7/lib/python3.7/site-packages/sklearn/svm/base.py:196: FutureWarning: The default value of gamma will change from 'auto' to 'scale' in version 0.22 to account better for unscaled features. Set gamma explicitly to 'auto' or 'scale' to avoid this warning.\n",
      "  \"avoid this warning.\", FutureWarning)\n",
      "/Library/Frameworks/Python.framework/Versions/3.7/lib/python3.7/site-packages/sklearn/svm/base.py:196: FutureWarning: The default value of gamma will change from 'auto' to 'scale' in version 0.22 to account better for unscaled features. Set gamma explicitly to 'auto' or 'scale' to avoid this warning.\n",
      "  \"avoid this warning.\", FutureWarning)\n"
     ]
    },
    {
     "name": "stdout",
     "output_type": "stream",
     "text": [
      "svm_le_f1_test_mech created..\n",
      "svm_le_f1_test_bmed created..\n",
      "svm_le_f1_test_swe created..\n",
      "svm_le_f1_test_ce created..\n",
      "svm_le_f1_test_tron created..\n",
      "svm_le_f1_test_cive created..\n",
      "svm_le_f1_test_chem created..\n",
      "svm_le_f1_test_syde created..\n",
      "svm_le_f1_test_msci created..\n",
      "svm_le_f1_test_elec created..\n",
      "svm_le_f1_test_nano created..\n",
      "svm_le_f1_test_geo created..\n",
      "svm_le_f1_test_env created..\n",
      "svm_le_f1_test_arch-e created..\n",
      "svm_le_f1_test_arch created..\n"
     ]
    },
    {
     "name": "stderr",
     "output_type": "stream",
     "text": [
      "/Library/Frameworks/Python.framework/Versions/3.7/lib/python3.7/site-packages/sklearn/svm/base.py:196: FutureWarning: The default value of gamma will change from 'auto' to 'scale' in version 0.22 to account better for unscaled features. Set gamma explicitly to 'auto' or 'scale' to avoid this warning.\n",
      "  \"avoid this warning.\", FutureWarning)\n",
      "/Library/Frameworks/Python.framework/Versions/3.7/lib/python3.7/site-packages/sklearn/svm/base.py:196: FutureWarning: The default value of gamma will change from 'auto' to 'scale' in version 0.22 to account better for unscaled features. Set gamma explicitly to 'auto' or 'scale' to avoid this warning.\n",
      "  \"avoid this warning.\", FutureWarning)\n",
      "/Library/Frameworks/Python.framework/Versions/3.7/lib/python3.7/site-packages/sklearn/svm/base.py:196: FutureWarning: The default value of gamma will change from 'auto' to 'scale' in version 0.22 to account better for unscaled features. Set gamma explicitly to 'auto' or 'scale' to avoid this warning.\n",
      "  \"avoid this warning.\", FutureWarning)\n",
      "/Library/Frameworks/Python.framework/Versions/3.7/lib/python3.7/site-packages/sklearn/svm/base.py:196: FutureWarning: The default value of gamma will change from 'auto' to 'scale' in version 0.22 to account better for unscaled features. Set gamma explicitly to 'auto' or 'scale' to avoid this warning.\n",
      "  \"avoid this warning.\", FutureWarning)\n"
     ]
    }
   ],
   "source": [
    "model_name = 'svm_le_f1_'+experiment_model_name\n",
    "data = get_label_encoded_data(directory,model_name,column_list,'H',data_balance=data_balance)[0]\n",
    "SVM = svm.SVC(probability=True)\n",
    "binary_classifier(data,model_name,data_balance_multiple,SVM)"
   ]
  },
  {
   "cell_type": "markdown",
   "metadata": {},
   "source": [
    "### Support Vector Machine - One Hot Encoded"
   ]
  },
  {
   "cell_type": "code",
   "execution_count": 34,
   "metadata": {},
   "outputs": [
    {
     "name": "stderr",
     "output_type": "stream",
     "text": [
      "/Library/Frameworks/Python.framework/Versions/3.7/lib/python3.7/site-packages/sklearn/svm/base.py:196: FutureWarning: The default value of gamma will change from 'auto' to 'scale' in version 0.22 to account better for unscaled features. Set gamma explicitly to 'auto' or 'scale' to avoid this warning.\n",
      "  \"avoid this warning.\", FutureWarning)\n",
      "/Library/Frameworks/Python.framework/Versions/3.7/lib/python3.7/site-packages/sklearn/svm/base.py:196: FutureWarning: The default value of gamma will change from 'auto' to 'scale' in version 0.22 to account better for unscaled features. Set gamma explicitly to 'auto' or 'scale' to avoid this warning.\n",
      "  \"avoid this warning.\", FutureWarning)\n",
      "/Library/Frameworks/Python.framework/Versions/3.7/lib/python3.7/site-packages/sklearn/svm/base.py:196: FutureWarning: The default value of gamma will change from 'auto' to 'scale' in version 0.22 to account better for unscaled features. Set gamma explicitly to 'auto' or 'scale' to avoid this warning.\n",
      "  \"avoid this warning.\", FutureWarning)\n",
      "/Library/Frameworks/Python.framework/Versions/3.7/lib/python3.7/site-packages/sklearn/svm/base.py:196: FutureWarning: The default value of gamma will change from 'auto' to 'scale' in version 0.22 to account better for unscaled features. Set gamma explicitly to 'auto' or 'scale' to avoid this warning.\n",
      "  \"avoid this warning.\", FutureWarning)\n",
      "/Library/Frameworks/Python.framework/Versions/3.7/lib/python3.7/site-packages/sklearn/svm/base.py:196: FutureWarning: The default value of gamma will change from 'auto' to 'scale' in version 0.22 to account better for unscaled features. Set gamma explicitly to 'auto' or 'scale' to avoid this warning.\n",
      "  \"avoid this warning.\", FutureWarning)\n"
     ]
    },
    {
     "name": "stdout",
     "output_type": "stream",
     "text": [
      "svm_ohe_f1_test_mech created..\n",
      "svm_ohe_f1_test_bmed created..\n",
      "svm_ohe_f1_test_swe created..\n",
      "svm_ohe_f1_test_ce created..\n",
      "svm_ohe_f1_test_tron created..\n",
      "svm_ohe_f1_test_cive created..\n",
      "svm_ohe_f1_test_chem created..\n",
      "svm_ohe_f1_test_syde created..\n",
      "svm_ohe_f1_test_msci created..\n",
      "svm_ohe_f1_test_elec created..\n"
     ]
    },
    {
     "name": "stderr",
     "output_type": "stream",
     "text": [
      "/Library/Frameworks/Python.framework/Versions/3.7/lib/python3.7/site-packages/sklearn/svm/base.py:196: FutureWarning: The default value of gamma will change from 'auto' to 'scale' in version 0.22 to account better for unscaled features. Set gamma explicitly to 'auto' or 'scale' to avoid this warning.\n",
      "  \"avoid this warning.\", FutureWarning)\n",
      "/Library/Frameworks/Python.framework/Versions/3.7/lib/python3.7/site-packages/sklearn/svm/base.py:196: FutureWarning: The default value of gamma will change from 'auto' to 'scale' in version 0.22 to account better for unscaled features. Set gamma explicitly to 'auto' or 'scale' to avoid this warning.\n",
      "  \"avoid this warning.\", FutureWarning)\n",
      "/Library/Frameworks/Python.framework/Versions/3.7/lib/python3.7/site-packages/sklearn/svm/base.py:196: FutureWarning: The default value of gamma will change from 'auto' to 'scale' in version 0.22 to account better for unscaled features. Set gamma explicitly to 'auto' or 'scale' to avoid this warning.\n",
      "  \"avoid this warning.\", FutureWarning)\n",
      "/Library/Frameworks/Python.framework/Versions/3.7/lib/python3.7/site-packages/sklearn/svm/base.py:196: FutureWarning: The default value of gamma will change from 'auto' to 'scale' in version 0.22 to account better for unscaled features. Set gamma explicitly to 'auto' or 'scale' to avoid this warning.\n",
      "  \"avoid this warning.\", FutureWarning)\n",
      "/Library/Frameworks/Python.framework/Versions/3.7/lib/python3.7/site-packages/sklearn/svm/base.py:196: FutureWarning: The default value of gamma will change from 'auto' to 'scale' in version 0.22 to account better for unscaled features. Set gamma explicitly to 'auto' or 'scale' to avoid this warning.\n",
      "  \"avoid this warning.\", FutureWarning)\n",
      "/Library/Frameworks/Python.framework/Versions/3.7/lib/python3.7/site-packages/sklearn/svm/base.py:196: FutureWarning: The default value of gamma will change from 'auto' to 'scale' in version 0.22 to account better for unscaled features. Set gamma explicitly to 'auto' or 'scale' to avoid this warning.\n",
      "  \"avoid this warning.\", FutureWarning)\n"
     ]
    },
    {
     "name": "stdout",
     "output_type": "stream",
     "text": [
      "svm_ohe_f1_test_nano created..\n",
      "svm_ohe_f1_test_geo created..\n",
      "svm_ohe_f1_test_env created..\n",
      "svm_ohe_f1_test_arch-e created..\n",
      "svm_ohe_f1_test_arch created..\n"
     ]
    },
    {
     "name": "stderr",
     "output_type": "stream",
     "text": [
      "/Library/Frameworks/Python.framework/Versions/3.7/lib/python3.7/site-packages/sklearn/svm/base.py:196: FutureWarning: The default value of gamma will change from 'auto' to 'scale' in version 0.22 to account better for unscaled features. Set gamma explicitly to 'auto' or 'scale' to avoid this warning.\n",
      "  \"avoid this warning.\", FutureWarning)\n",
      "/Library/Frameworks/Python.framework/Versions/3.7/lib/python3.7/site-packages/sklearn/svm/base.py:196: FutureWarning: The default value of gamma will change from 'auto' to 'scale' in version 0.22 to account better for unscaled features. Set gamma explicitly to 'auto' or 'scale' to avoid this warning.\n",
      "  \"avoid this warning.\", FutureWarning)\n",
      "/Library/Frameworks/Python.framework/Versions/3.7/lib/python3.7/site-packages/sklearn/svm/base.py:196: FutureWarning: The default value of gamma will change from 'auto' to 'scale' in version 0.22 to account better for unscaled features. Set gamma explicitly to 'auto' or 'scale' to avoid this warning.\n",
      "  \"avoid this warning.\", FutureWarning)\n",
      "/Library/Frameworks/Python.framework/Versions/3.7/lib/python3.7/site-packages/sklearn/svm/base.py:196: FutureWarning: The default value of gamma will change from 'auto' to 'scale' in version 0.22 to account better for unscaled features. Set gamma explicitly to 'auto' or 'scale' to avoid this warning.\n",
      "  \"avoid this warning.\", FutureWarning)\n"
     ]
    }
   ],
   "source": [
    "model_name = 'svm_ohe_f1_'+experiment_model_name\n",
    "data = get_merged_encoded_data(directory,model_name,one_hot_encode=ohe,column_list = column_list,drop_not_happy='H',data_balance=data_balance)\n",
    "SVM = svm.SVC(probability=True)\n",
    "binary_classifier(data,model_name,data_balance_multiple,SVM)"
   ]
  },
  {
   "cell_type": "markdown",
   "metadata": {},
   "source": [
    "### Decision Tree -  Label Encoded"
   ]
  },
  {
   "cell_type": "code",
   "execution_count": 35,
   "metadata": {},
   "outputs": [
    {
     "name": "stdout",
     "output_type": "stream",
     "text": [
      "tree_le_f1_test_mech created..\n",
      "tree_le_f1_test_bmed created..\n",
      "tree_le_f1_test_swe created..\n",
      "tree_le_f1_test_ce created..\n",
      "tree_le_f1_test_tron created..\n",
      "tree_le_f1_test_cive created..\n",
      "tree_le_f1_test_chem created..\n",
      "tree_le_f1_test_syde created..\n",
      "tree_le_f1_test_msci created..\n",
      "tree_le_f1_test_elec created..\n",
      "tree_le_f1_test_nano created..\n",
      "tree_le_f1_test_geo created..\n",
      "tree_le_f1_test_env created..\n",
      "tree_le_f1_test_arch-e created..\n",
      "tree_le_f1_test_arch created..\n"
     ]
    }
   ],
   "source": [
    "model_name = 'tree_le_f1_'+experiment_model_name\n",
    "data = get_label_encoded_data(directory,model_name,column_list,'H',data_balance=data_balance)[0]\n",
    "ent = tree.DecisionTreeClassifier()\n",
    "binary_classifier(data,model_name,data_balance_multiple,ent)"
   ]
  },
  {
   "cell_type": "markdown",
   "metadata": {},
   "source": [
    "### Decision Tree - One Hot Encoded"
   ]
  },
  {
   "cell_type": "code",
   "execution_count": 36,
   "metadata": {},
   "outputs": [
    {
     "name": "stdout",
     "output_type": "stream",
     "text": [
      "tree_ohe_f1_test_mech created..\n",
      "tree_ohe_f1_test_bmed created..\n",
      "tree_ohe_f1_test_swe created..\n",
      "tree_ohe_f1_test_ce created..\n",
      "tree_ohe_f1_test_tron created..\n",
      "tree_ohe_f1_test_cive created..\n",
      "tree_ohe_f1_test_chem created..\n",
      "tree_ohe_f1_test_syde created..\n",
      "tree_ohe_f1_test_msci created..\n",
      "tree_ohe_f1_test_elec created..\n",
      "tree_ohe_f1_test_nano created..\n",
      "tree_ohe_f1_test_geo created..\n",
      "tree_ohe_f1_test_env created..\n",
      "tree_ohe_f1_test_arch-e created..\n",
      "tree_ohe_f1_test_arch created..\n"
     ]
    }
   ],
   "source": [
    "model_name = 'tree_ohe_f1_'+experiment_model_name\n",
    "data = get_merged_encoded_data(directory,model_name,one_hot_encode=ohe,column_list = column_list,drop_not_happy='H',data_balance=data_balance)\n",
    "ent = tree.DecisionTreeClassifier()\n",
    "binary_classifier(data,model_name,data_balance_multiple,ent)"
   ]
  },
  {
   "cell_type": "markdown",
   "metadata": {},
   "source": [
    "# Delete Later"
   ]
  },
  {
   "cell_type": "code",
   "execution_count": 37,
   "metadata": {},
   "outputs": [
    {
     "data": {
      "text/plain": [
       "False"
      ]
     },
     "execution_count": 37,
     "metadata": {},
     "output_type": "execute_result"
    }
   ],
   "source": [
    "directory = 'data/quiz_data.csv'\n",
    "drop_not_happy = 'H'\n",
    "data_balance"
   ]
  },
  {
   "cell_type": "code",
   "execution_count": 38,
   "metadata": {
    "scrolled": true
   },
   "outputs": [],
   "source": [
    "df = get_clean_data(directory,drop_not_happy)"
   ]
  },
  {
   "cell_type": "code",
   "execution_count": 39,
   "metadata": {},
   "outputs": [
    {
     "ename": "TypeError",
     "evalue": "'bool' object is not subscriptable",
     "output_type": "error",
     "traceback": [
      "\u001b[0;31m---------------------------------------------------------------------------\u001b[0m",
      "\u001b[0;31mTypeError\u001b[0m                                 Traceback (most recent call last)",
      "\u001b[0;32m<ipython-input-39-68a3edd6eaa1>\u001b[0m in \u001b[0;36m<module>\u001b[0;34m\u001b[0m\n\u001b[1;32m      5\u001b[0m \u001b[0;32mfor\u001b[0m \u001b[0mprogram\u001b[0m \u001b[0;32min\u001b[0m \u001b[0mprograms\u001b[0m\u001b[0;34m:\u001b[0m\u001b[0;34m\u001b[0m\u001b[0m\n\u001b[1;32m      6\u001b[0m     \u001b[0mtemp_df\u001b[0m \u001b[0;34m=\u001b[0m \u001b[0mdf\u001b[0m\u001b[0;34m.\u001b[0m\u001b[0mcopy\u001b[0m\u001b[0;34m(\u001b[0m\u001b[0;34m)\u001b[0m\u001b[0;34m[\u001b[0m\u001b[0mdf\u001b[0m\u001b[0;34m.\u001b[0m\u001b[0mprogram\u001b[0m\u001b[0;34m==\u001b[0m\u001b[0mprogram\u001b[0m\u001b[0;34m]\u001b[0m\u001b[0;34m\u001b[0m\u001b[0m\n\u001b[0;32m----> 7\u001b[0;31m     \u001b[0;32mwhile\u001b[0m \u001b[0mlen\u001b[0m\u001b[0;34m(\u001b[0m\u001b[0mtemp_df\u001b[0m\u001b[0;34m)\u001b[0m \u001b[0;34m<=\u001b[0m \u001b[0mdata_balance\u001b[0m\u001b[0;34m[\u001b[0m\u001b[0mprogram\u001b[0m\u001b[0;34m]\u001b[0m\u001b[0;34m:\u001b[0m\u001b[0;34m\u001b[0m\u001b[0m\n\u001b[0m\u001b[1;32m      8\u001b[0m         \u001b[0mtemp_df\u001b[0m \u001b[0;34m=\u001b[0m \u001b[0mtemp_df\u001b[0m\u001b[0;34m.\u001b[0m\u001b[0mappend\u001b[0m\u001b[0;34m(\u001b[0m\u001b[0mtemp_df\u001b[0m\u001b[0;34m)\u001b[0m\u001b[0;34m\u001b[0m\u001b[0m\n\u001b[1;32m      9\u001b[0m     \u001b[0mtemp_df\u001b[0m \u001b[0;34m=\u001b[0m \u001b[0mtemp_df\u001b[0m\u001b[0;34m.\u001b[0m\u001b[0msample\u001b[0m\u001b[0;34m(\u001b[0m\u001b[0mn\u001b[0m\u001b[0;34m=\u001b[0m\u001b[0mdata_balance\u001b[0m\u001b[0;34m[\u001b[0m\u001b[0mprogram\u001b[0m\u001b[0;34m]\u001b[0m\u001b[0;34m)\u001b[0m\u001b[0;34m\u001b[0m\u001b[0m\n",
      "\u001b[0;31mTypeError\u001b[0m: 'bool' object is not subscriptable"
     ]
    }
   ],
   "source": [
    "programs = list(READ_PROGRAMS.values())\n",
    "b_df = df.copy()\n",
    "b_df = b_df.sample(n=0)\n",
    "\n",
    "for program in programs:\n",
    "    temp_df = df.copy()[df.program==program]\n",
    "    while len(temp_df) <= data_balance[program]:\n",
    "        temp_df = temp_df.append(temp_df)\n",
    "    temp_df = temp_df.sample(n=data_balance[program])\n",
    "    b_df = b_df.append(temp_df)\n",
    "    b_df = b_df.sample(frac=1).reset_index(drop=True)"
   ]
  },
  {
   "cell_type": "code",
   "execution_count": 21,
   "metadata": {},
   "outputs": [
    {
     "name": "stdout",
     "output_type": "stream",
     "text": [
      "    program problem_type           creative  outdoors        career  \\\n",
      "0    arch-e      defined  somewhat_creative  outdoors     buildings   \n",
      "1      nano  investigate  somewhat_creative   limited     molecules   \n",
      "2        ce  investigate  somewhat_creative   limited   programming   \n",
      "3      mech  investigate  somewhat_creative  outdoors    optimizing   \n",
      "4        ce  investigate       not_creative   limited   programming   \n",
      "5      mech  investigate  somewhat_creative  outdoors  moving_parts   \n",
      "6      syde  investigate  somewhat_creative   indoors   programming   \n",
      "7       env      defined  somewhat_creative   limited     resources   \n",
      "8    arch-e  investigate           creative   limited     buildings   \n",
      "9      msci  investigate  somewhat_creative   limited    optimizing   \n",
      "10     cive      defined           creative   indoors     buildings   \n",
      "11      swe  investigate  somewhat_creative   limited   programming   \n",
      "12     cive      defined  somewhat_creative  outdoors     resources   \n",
      "13      geo  investigate           creative  outdoors     resources   \n",
      "14     msci     discover           creative   indoors    optimizing   \n",
      "15      swe  investigate  somewhat_creative   indoors   programming   \n",
      "16     syde     discover           creative   indoors       sensors   \n",
      "17     nano  investigate  somewhat_creative   indoors     molecules   \n",
      "18     arch  investigate           creative  outdoors     resources   \n",
      "19      geo  investigate  somewhat_creative  outdoors     resources   \n",
      "20     elec  investigate  somewhat_creative   indoors     resources   \n",
      "21     syde  investigate  somewhat_creative  outdoors    optimizing   \n",
      "22     tron  investigate  somewhat_creative   limited   programming   \n",
      "23     bmed      defined           creative   limited       sensors   \n",
      "24     tron      defined       not_creative   limited       sensors   \n",
      "25     elec  investigate           creative  outdoors       sensors   \n",
      "26     elec      defined  somewhat_creative   limited  moving_parts   \n",
      "27     bmed  investigate  somewhat_creative   limited   programming   \n",
      "28      geo  investigate           creative  outdoors     resources   \n",
      "29     bmed  investigate  somewhat_creative  outdoors       sensors   \n",
      "..      ...          ...                ...       ...           ...   \n",
      "120    bmed      defined       not_creative   limited       sensors   \n",
      "121    tron  investigate  somewhat_creative   limited       sensors   \n",
      "122    tron      defined           creative   limited  moving_parts   \n",
      "123    cive  investigate           creative  outdoors     buildings   \n",
      "124     geo  investigate  somewhat_creative  outdoors     resources   \n",
      "125    cive  investigate       not_creative   limited     buildings   \n",
      "126  arch-e      defined  somewhat_creative  outdoors     buildings   \n",
      "127    syde      defined  somewhat_creative   indoors   programming   \n",
      "128    bmed  investigate           creative   indoors       sensors   \n",
      "129    tron  investigate           creative   limited  moving_parts   \n",
      "130      ce  investigate  somewhat_creative   indoors    optimizing   \n",
      "131    elec      defined       not_creative   limited   programming   \n",
      "132      ce  investigate  somewhat_creative  outdoors     resources   \n",
      "133    arch      defined  somewhat_creative   indoors     buildings   \n",
      "134    cive  investigate  somewhat_creative  outdoors  moving_parts   \n",
      "135    nano  investigate  somewhat_creative   limited     molecules   \n",
      "136     env  investigate  somewhat_creative   limited     resources   \n",
      "137    nano  investigate  somewhat_creative  outdoors     molecules   \n",
      "138     env  investigate  somewhat_creative  outdoors     resources   \n",
      "139    elec      defined           creative  outdoors   programming   \n",
      "140      ce      defined  somewhat_creative   limited       sensors   \n",
      "141  arch-e  investigate           creative   limited     buildings   \n",
      "142    arch     discover           creative  outdoors     buildings   \n",
      "143     env      defined  somewhat_creative  outdoors     resources   \n",
      "144    syde     discover  somewhat_creative  outdoors     resources   \n",
      "145      ce  investigate  somewhat_creative   limited   programming   \n",
      "146     swe      defined  somewhat_creative   limited   programming   \n",
      "147    chem  investigate  somewhat_creative   limited     molecules   \n",
      "148    arch  investigate           creative  outdoors     buildings   \n",
      "149    chem  investigate  somewhat_creative   limited   programming   \n",
      "\n",
      "       group_work     liked_courses  disliked_courses programming  \\\n",
      "0             yes         chemistry  computer_science          no   \n",
      "1              no              math     language_arts    complete   \n",
      "2             yes  computer_science     language_arts    complete   \n",
      "3             yes           history          business    complete   \n",
      "4    occasionally         chemistry     language_arts    complete   \n",
      "5    occasionally              math          business     partial   \n",
      "6             yes  computer_science     language_arts    complete   \n",
      "7             yes         chemistry          business     partial   \n",
      "8    occasionally              math         geography     partial   \n",
      "9    occasionally           physics     language_arts  interested   \n",
      "10            yes         chemistry     language_arts     partial   \n",
      "11            yes  computer_science       visual_arts    complete   \n",
      "12            yes  computer_science     language_arts    complete   \n",
      "13            yes         geography           history          no   \n",
      "14            yes              math         chemistry    complete   \n",
      "15   occasionally  computer_science     language_arts    complete   \n",
      "16            yes     language_arts           physics     partial   \n",
      "17            yes         chemistry     language_arts  interested   \n",
      "18            yes       visual_arts           biology  interested   \n",
      "19            yes           physics     language_arts     partial   \n",
      "20            yes              math         chemistry     partial   \n",
      "21            yes           physics           biology  interested   \n",
      "22   occasionally           physics           biology    complete   \n",
      "23   occasionally           biology     language_arts    complete   \n",
      "24   occasionally              math     language_arts     partial   \n",
      "25            yes          autoshop           biology     partial   \n",
      "26   occasionally           physics           biology  interested   \n",
      "27   occasionally  computer_science     language_arts    complete   \n",
      "28   occasionally              math          autoshop  interested   \n",
      "29            yes           physics          autoshop     partial   \n",
      "..            ...               ...               ...         ...   \n",
      "120  occasionally              math           physics     partial   \n",
      "121           yes           physics     language_arts     partial   \n",
      "122           yes           physics         geography     partial   \n",
      "123           yes              math           history     partial   \n",
      "124  occasionally  computer_science     language_arts    complete   \n",
      "125            no           physics           biology    complete   \n",
      "126  occasionally              math           biology     partial   \n",
      "127  occasionally  computer_science           biology    complete   \n",
      "128           yes           biology              math     partial   \n",
      "129  occasionally  computer_science           biology    complete   \n",
      "130           yes              math           history    complete   \n",
      "131  occasionally              math     language_arts     partial   \n",
      "132  occasionally  computer_science              math    complete   \n",
      "133  occasionally       visual_arts         chemistry          no   \n",
      "134  occasionally           history     language_arts     partial   \n",
      "135            no              math          business  interested   \n",
      "136  occasionally              math         chemistry     partial   \n",
      "137           yes          autoshop     language_arts    complete   \n",
      "138  occasionally           biology     language_arts          no   \n",
      "139           yes           physics     language_arts    complete   \n",
      "140           yes  computer_science     language_arts    complete   \n",
      "141           yes              math           biology          no   \n",
      "142           yes              math     language_arts  interested   \n",
      "143  occasionally           biology           history     partial   \n",
      "144           yes           physics     language_arts     partial   \n",
      "145  occasionally  computer_science           history    complete   \n",
      "146  occasionally         chemistry           biology    complete   \n",
      "147  occasionally           physics           biology     partial   \n",
      "148           yes              math         chemistry  interested   \n",
      "149  occasionally              math           history    complete   \n",
      "\n",
      "          join_clubs    ...      drawing    essay architecture automotive  \\\n",
      "0           business    ...         good      yes            1          0   \n",
      "1        hacker_club    ...         good  partial            0          0   \n",
      "2        hacker_club    ...          bad       no            0          0   \n",
      "3           autoshop    ...      partial      yes            0          1   \n",
      "4         consulting    ...      partial  partial            0          0   \n",
      "5           autoshop    ...      partial       no            0          0   \n",
      "6    student_council    ...      partial  partial            0          0   \n",
      "7        environment    ...      partial       no            0          0   \n",
      "8    student_council    ...         good      yes            1          0   \n",
      "9                NaN    ...      partial       no            0          0   \n",
      "10          robotics    ...         good       no            1          1   \n",
      "11       hacker_club    ...          bad      yes            0          0   \n",
      "12   student_council    ...          bad  partial            0          0   \n",
      "13       environment    ...      partial       no            0          0   \n",
      "14   student_council    ...         good      yes            0          0   \n",
      "15       hacker_club    ...          bad  partial            0          0   \n",
      "16   student_council    ...      partial  partial            0          0   \n",
      "17          robotics    ...      partial       no            0          0   \n",
      "18       environment    ...         good  partial            1          0   \n",
      "19       environment    ...          bad       no            1          0   \n",
      "20          business    ...      partial      yes            0          0   \n",
      "21        consulting    ...          bad  partial            0          0   \n",
      "22          robotics    ...      partial  partial            0          1   \n",
      "23          robotics    ...          bad      yes            0          1   \n",
      "24          robotics    ...      partial  partial            0          1   \n",
      "25          robotics    ...      partial       no            0          0   \n",
      "26          robotics    ...          bad  partial            0          1   \n",
      "27          robotics    ...      partial       no            0          0   \n",
      "28   student_council    ...         good      yes            1          0   \n",
      "29       environment    ...      partial      yes            0          0   \n",
      "..               ...    ...          ...      ...          ...        ...   \n",
      "120  student_council    ...      partial      yes            0          0   \n",
      "121         robotics    ...      partial  partial            0          1   \n",
      "122         autoshop    ...      partial       no            0          1   \n",
      "123  student_council    ...      partial      yes            1          0   \n",
      "124      environment    ...      partial       no            1          0   \n",
      "125       art/design    ...          bad       no            1          1   \n",
      "126         autoshop    ...          bad  partial            0          0   \n",
      "127         robotics    ...      partial       no            0          0   \n",
      "128         robotics    ...         good      yes            0          0   \n",
      "129         robotics    ...      partial  partial            0          1   \n",
      "130      hacker_club    ...         good  partial            0          0   \n",
      "131         robotics    ...          bad  partial            0          0   \n",
      "132         robotics    ...         good  partial            0          1   \n",
      "133  student_council    ...         good  partial            1          0   \n",
      "134         autoshop    ...      partial       no            0          0   \n",
      "135         robotics    ...          bad  partial            1          1   \n",
      "136      environment    ...         good      yes            0          0   \n",
      "137         autoshop    ...      partial       no            0          0   \n",
      "138      environment    ...      partial  partial            0          0   \n",
      "139         autoshop    ...      partial  partial            0          1   \n",
      "140         robotics    ...      partial       no            0          1   \n",
      "141  student_council    ...         good      yes            1          0   \n",
      "142         autoshop    ...         good      yes            1          0   \n",
      "143      environment    ...      partial      yes            0          0   \n",
      "144       consulting    ...          bad  partial            0          0   \n",
      "145      hacker_club    ...          bad      yes            0          0   \n",
      "146         robotics    ...      partial  partial            0          1   \n",
      "147         autoshop    ...      partial  partial            1          0   \n",
      "148       art/design    ...         good  partial            1          0   \n",
      "149       art/design    ...      partial  partial            0          0   \n",
      "\n",
      "    business construction health environment manufacturing technology  \n",
      "0          1            1      0           0             0          0  \n",
      "1          0            0      0           1             1          1  \n",
      "2          0            0      0           0             0          1  \n",
      "3          0            0      1           1             1          1  \n",
      "4          1            0      0           0             0          1  \n",
      "5          0            0      0           1             1          0  \n",
      "6          1            0      1           0             0          1  \n",
      "7          0            0      0           1             0          0  \n",
      "8          1            1      0           1             0          1  \n",
      "9          1            0      0           0             1          0  \n",
      "10         0            1      0           0             0          1  \n",
      "11         1            0      0           0             0          1  \n",
      "12         0            1      0           0             0          0  \n",
      "13         0            1      0           1             0          0  \n",
      "14         1            0      0           1             1          1  \n",
      "15         0            0      0           0             0          1  \n",
      "16         1            0      0           0             0          1  \n",
      "17         0            0      1           1             0          0  \n",
      "18         0            0      0           1             0          0  \n",
      "19         0            1      0           1             0          0  \n",
      "20         1            0      0           1             0          1  \n",
      "21         1            1      0           0             0          1  \n",
      "22         0            0      0           0             0          1  \n",
      "23         0            0      1           0             0          1  \n",
      "24         1            0      1           0             1          1  \n",
      "25         1            0      0           0             0          1  \n",
      "26         0            0      0           0             1          1  \n",
      "27         0            0      1           0             1          1  \n",
      "28         0            0      0           1             0          0  \n",
      "29         0            0      1           0             0          0  \n",
      "..       ...          ...    ...         ...           ...        ...  \n",
      "120        1            0      1           0             0          0  \n",
      "121        1            0      0           0             1          1  \n",
      "122        1            0      1           1             0          0  \n",
      "123        0            1      0           1             0          0  \n",
      "124        0            1      0           1             0          0  \n",
      "125        0            1      0           0             0          0  \n",
      "126        0            1      0           0             0          0  \n",
      "127        0            0      0           0             0          1  \n",
      "128        1            0      1           1             0          0  \n",
      "129        1            1      0           0             1          1  \n",
      "130        0            0      0           0             0          1  \n",
      "131        0            0      0           0             1          1  \n",
      "132        1            0      1           1             1          1  \n",
      "133        0            0      0           0             0          0  \n",
      "134        1            1      0           0             0          0  \n",
      "135        0            1      0           0             1          1  \n",
      "136        1            0      1           1             0          0  \n",
      "137        0            0      0           0             0          1  \n",
      "138        0            0      0           1             0          0  \n",
      "139        0            0      1           1             1          1  \n",
      "140        0            1      1           1             1          1  \n",
      "141        0            1      0           0             0          0  \n",
      "142        0            0      0           0             0          0  \n",
      "143        0            0      0           1             0          0  \n",
      "144        1            0      1           0             1          1  \n",
      "145        0            0      0           0             0          1  \n",
      "146        0            0      0           0             0          1  \n",
      "147        1            1      0           1             1          0  \n",
      "148        0            0      0           0             0          0  \n",
      "149        0            0      1           1             0          1  \n",
      "\n",
      "[150 rows x 26 columns]\n"
     ]
    }
   ],
   "source": [
    "print(b_df)"
   ]
  },
  {
   "cell_type": "code",
   "execution_count": null,
   "metadata": {},
   "outputs": [],
   "source": []
  },
  {
   "cell_type": "code",
   "execution_count": null,
   "metadata": {},
   "outputs": [],
   "source": []
  },
  {
   "cell_type": "code",
   "execution_count": null,
   "metadata": {},
   "outputs": [],
   "source": []
  }
 ],
 "metadata": {
  "kernelspec": {
   "display_name": "Python 3",
   "language": "python",
   "name": "python3"
  },
  "language_info": {
   "codemirror_mode": {
    "name": "ipython",
    "version": 3
   },
   "file_extension": ".py",
   "mimetype": "text/x-python",
   "name": "python",
   "nbconvert_exporter": "python",
   "pygments_lexer": "ipython3",
   "version": "3.7.0"
  }
 },
 "nbformat": 4,
 "nbformat_minor": 2
}
