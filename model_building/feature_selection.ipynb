{
 "cells": [
  {
   "cell_type": "code",
   "execution_count": 28,
   "metadata": {},
   "outputs": [],
   "source": [
    "import numpy as np\n",
    "import pandas as pd\n",
    "from sklearn import preprocessing, svm\n",
    "from sklearn.metrics import accuracy_score\n",
    "from sklearn.model_selection import cross_val_score,train_test_split,LeaveOneOut\n",
    "from sklearn.neighbors import KNeighborsClassifier\n",
    "\n",
    "from data_load import *\n",
    "\n",
    "from sklearn.svm import LinearSVC\n",
    "from sklearn.feature_selection import RFE\n",
    "from sklearn import datasets\n",
    "\n",
    "import numpy as np\n",
    "import pandas as pd\n",
    "import pickle\n",
    "from sklearn import metrics\n",
    "from sklearn.model_selection import cross_val_score,train_test_split,LeaveOneOut\n",
    "from sklearn.naive_bayes import MultinomialNB\n",
    "\n",
    "from data_load import *\n",
    "from dictionaries import *\n"
   ]
  },
  {
   "cell_type": "code",
   "execution_count": 67,
   "metadata": {},
   "outputs": [
    {
     "name": "stdout",
     "output_type": "stream",
     "text": [
      "Num Features: 24\n",
      "Selected Features: [ True  True  True  True  True False  True  True  True  True  True  True\n",
      "  True  True  True  True  True  True  True  True  True  True  True  True\n",
      "  True]\n",
      "Feature Ranking: [1 1 1 1 1 2 1 1 1 1 1 1 1 1 1 1 1 1 1 1 1 1 1 1 1]\n",
      "['problem_type', 'creative', 'outdoors', 'career', 'group_work', 'disliked_courses', 'programming', 'join_clubs', 'not_clubs', 'liked_projects', 'disliked_projects', 'tv_shows', 'alternate_degree', 'expensive_equipment', 'drawing', 'essay', 'architecture', 'automotive', 'business', 'construction', 'health', 'environment', 'manufacturing', 'technology']\n"
     ]
    }
   ],
   "source": [
    "model_name = 'nb_model_basic'\n",
    "data = get_encoded_data('quiz_data.csv',model_name,True)[0]\n",
    "\n",
    "x_df = data.drop(axis=1,columns=[\"program\"])\n",
    "y_df = data[\"program\"]\n",
    "\n",
    "X = np.array(x_df) # convert dataframe into np array\n",
    "Y = np.array(y_df) # convert dataframe into np array\n",
    "\n",
    "mnb = MultinomialNB()\n",
    "\n",
    "rfe = RFE(mnb, 24)\n",
    "fit = rfe.fit(X, Y)\n",
    "print(\"Num Features: %d\"% fit.n_features_)\n",
    "print(\"Selected Features: %s\"% fit.support_)\n",
    "print(\"Feature Ranking: %s\"% fit.ranking_)\n",
    "featureidx = fit.get_support()\n",
    "feature_names = x_df.columns[featureidx]\n",
    "\n",
    "feature_names = list(feature_names)\n",
    "print(feature_names)\n",
    "feature_names.append('program')\n",
    "s_data = data[feature_names]"
   ]
  },
  {
   "cell_type": "code",
   "execution_count": 65,
   "metadata": {},
   "outputs": [],
   "source": [
    "x_df = s_data.drop(axis=1,columns=[\"program\"])\n",
    "y_df = s_data[\"program\"]\n",
    "\n",
    "X = np.array(x_df) # convert dataframe into np array\n",
    "Y = np.array(y_df) # convert dataframe into np array\n",
    "\n",
    "mnb = MultinomialNB()\n",
    "model = mnb.fit(X, Y) # fit the model using training data"
   ]
  },
  {
   "cell_type": "code",
   "execution_count": 66,
   "metadata": {},
   "outputs": [
    {
     "name": "stdout",
     "output_type": "stream",
     "text": [
      "nb_model_basic Accuracy: 0.3594 (+/- 0.9596)\n"
     ]
    }
   ],
   "source": [
    "# Leave One Out Validation\n",
    "loo = LeaveOneOut()\n",
    "loo.get_n_splits(X)\n",
    "accuracy = []\n",
    "for train_index, test_index in loo.split(X):\n",
    "  X_train, X_test = pd.DataFrame(X[train_index]), pd.DataFrame(X[test_index]) # use this for training the model\n",
    "  y_train, y_test = Y[train_index].ravel(), Y[test_index].ravel() # use this for testing the model\n",
    "\n",
    "  mnb = MultinomialNB()\n",
    "  model = mnb.fit(X_train, y_train) # fit the model using training data\n",
    "  accuracy.append(mnb.score(X_test, y_test))\n",
    "\n",
    "# Calculate accuracy\n",
    "mean = np.array(accuracy).mean()\n",
    "variance = np.array(accuracy).std() * 2\n",
    "\n",
    "print(\"nb_model_basic Accuracy: %0.4f (+/- %0.4f)\" % (mean, variance))"
   ]
  },
  {
   "cell_type": "code",
   "execution_count": null,
   "metadata": {},
   "outputs": [],
   "source": []
  },
  {
   "cell_type": "code",
   "execution_count": null,
   "metadata": {},
   "outputs": [],
   "source": []
  },
  {
   "cell_type": "code",
   "execution_count": null,
   "metadata": {},
   "outputs": [],
   "source": []
  },
  {
   "cell_type": "code",
   "execution_count": null,
   "metadata": {},
   "outputs": [],
   "source": []
  }
 ],
 "metadata": {
  "kernelspec": {
   "display_name": "Python 3",
   "language": "python",
   "name": "python3"
  },
  "language_info": {
   "codemirror_mode": {
    "name": "ipython",
    "version": 3
   },
   "file_extension": ".py",
   "mimetype": "text/x-python",
   "name": "python",
   "nbconvert_exporter": "python",
   "pygments_lexer": "ipython3",
   "version": "3.7.0"
  }
 },
 "nbformat": 4,
 "nbformat_minor": 2
}
