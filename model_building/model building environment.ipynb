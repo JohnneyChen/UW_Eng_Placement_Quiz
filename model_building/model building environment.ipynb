{
 "cells": [
  {
   "cell_type": "code",
   "execution_count": null,
   "metadata": {},
   "outputs": [],
   "source": [
    "import matplotlib.pyplot as plt\n",
    "from matplotlib.pyplot import figure\n",
    "import numpy as np\n",
    "import pandas as pd\n",
    "import pickle\n",
    "from sklearn import metrics, tree, svm\n",
    "from sklearn.linear_model import LogisticRegression\n",
    "from sklearn.model_selection import KFold,cross_val_score,train_test_split,LeaveOneOut\n",
    "from sklearn.naive_bayes import MultinomialNB\n",
    "\n",
    "from data_load import *\n",
    "from dictionaries import *"
   ]
  },
  {
   "cell_type": "markdown",
   "metadata": {},
   "source": [
    "# Define the Model Parameters"
   ]
  },
  {
   "cell_type": "markdown",
   "metadata": {},
   "source": [
    "model_naming_convention = model-type_encoding_directory_datastructure_column-set_version\n",
    "\n",
    "\n",
    "example: nb_le_f0_d0_b0_c0_v0 is a  model which is label encoded using data set 1, column set 1, version 1 on the basic untreated data set with no data treatment for a family of multi-label classifiers\n",
    "\n",
    "model_type will be appended to the front of the model name as it is run through each of the \n",
    "\n",
    "Link to model building log: https://docs.google.com/spreadsheets/d/1py4RVZ0er_JDeJo-oxY29QT6__EWHIeU6zBgp-q8Wog/edit?usp=sharing"
   ]
  },
  {
   "cell_type": "markdown",
   "metadata": {},
   "source": [
    "### Define Directory"
   ]
  },
  {
   "cell_type": "code",
   "execution_count": null,
   "metadata": {},
   "outputs": [],
   "source": [
    "d0 = 'data/d0.csv'"
   ]
  },
  {
   "cell_type": "markdown",
   "metadata": {},
   "source": [
    "### Define Columns"
   ]
  },
  {
   "cell_type": "code",
   "execution_count": null,
   "metadata": {},
   "outputs": [],
   "source": [
    "c0 = [\n",
    "        'problem_type', \n",
    "        'creative', \n",
    "        'outdoors', \n",
    "        'career',\n",
    "        'group_work', \n",
    "        'liked_courses', \n",
    "        'disliked_courses', \n",
    "        'programming',\n",
    "        'join_clubs', \n",
    "        'not_clubs', \n",
    "        'liked_projects',\n",
    "        'disliked_projects',\n",
    "        'tv_shows', \n",
    "        'alternate_degree', \n",
    "        'expensive_equipment', \n",
    "        'drawing',\n",
    "        'essay', \n",
    "        'architecture', \n",
    "        'automotive', \n",
    "        'business', \n",
    "        'construction',\n",
    "        'health',\n",
    "        'environment', \n",
    "        'manufacturing', \n",
    "        'technology',\n",
    "        'program'\n",
    "        ]\n",
    "\n",
    "\n",
    "c1 = [\n",
    "        'architecture', \n",
    "        'automotive', \n",
    "        'business', \n",
    "        'construction',\n",
    "        'health',\n",
    "        'environment', \n",
    "        'manufacturing', \n",
    "        'technology',\n",
    "        'program'\n",
    "        ]\n",
    "\n",
    "c2 =    [\n",
    "        'problem_type', \n",
    "        'creative', \n",
    "        'outdoors', \n",
    "        'career',\n",
    "        'group_work', \n",
    "        'liked_courses', \n",
    "        'disliked_courses', \n",
    "        'join_clubs', \n",
    "        'not_clubs', \n",
    "        'liked_projects',\n",
    "        'disliked_projects',\n",
    "        'tv_shows', \n",
    "        'alternate_degree', \n",
    "        'expensive_equipment', \n",
    "        'drawing',\n",
    "        'essay', \n",
    "        'architecture', \n",
    "        'automotive', \n",
    "        'business', \n",
    "        'construction',\n",
    "        'health',\n",
    "        'environment', \n",
    "        'manufacturing', \n",
    "        'technology',\n",
    "        'program'\n",
    "        ]\n",
    "\n",
    "c3 = [\n",
    "    'architecture', \n",
    "    'automotive', \n",
    "    'business', \n",
    "    'construction', \n",
    "    'health', \n",
    "    'environment', \n",
    "    'manufacturing', \n",
    "    'technology',\n",
    "    'program',\n",
    "    'outdoors',\n",
    "    'career',\n",
    "    'liked_courses', \n",
    "    'disliked_courses',\n",
    "    'join_clubs',\n",
    "    'not_clubs',\n",
    "    'liked_projects',\n",
    "    'disliked_projects',\n",
    "    'drawing'\n",
    "        ]\n",
    "\n",
    "c4 = [\n",
    "        'alternate_degree',\n",
    "        'architecture', \n",
    "        'automotive', \n",
    "        'business', \n",
    "        'construction',\n",
    "        'health',\n",
    "        'environment', \n",
    "        'manufacturing', \n",
    "        'technology',\n",
    "        'program'\n",
    "        ]\n",
    "\n",
    "c5 = [\n",
    "        'outdoors',\n",
    "        'career',\n",
    "        'programming',\n",
    "        'join_clubs',\n",
    "        'not_clubs',\n",
    "        'liked_projects',\n",
    "        'disliked_projects',\n",
    "        'alternate_degree',\n",
    "        'program'\n",
    "        ]\n",
    "\n",
    "\n",
    "c29 = [\n",
    "        'problem_type', \n",
    "        'creative', \n",
    "        'outdoors', \n",
    "        'career',\n",
    "        'group_work', \n",
    "        'liked_courses', \n",
    "        'disliked_courses', \n",
    "        'join_clubs', \n",
    "        'not_clubs', \n",
    "        'liked_projects',\n",
    "        'disliked_projects',\n",
    "        'alternate_degree', \n",
    "        'expensive_equipment', \n",
    "        'drawing',\n",
    "        'essay', \n",
    "        'architecture', \n",
    "        'automotive', \n",
    "        'business', \n",
    "        'construction',\n",
    "        'health',\n",
    "        'environment', \n",
    "        'manufacturing', \n",
    "        'technology',\n",
    "        'program'\n",
    "        ]\n",
    "\n",
    "c36 = ['creative',\n",
    "       'outdoors',\n",
    "       'career',\n",
    "       'group_work',\n",
    "       'liked_courses',\n",
    "       'disliked_courses',\n",
    "       'join_clubs',\n",
    "       'not_clubs',\n",
    "       'liked_projects',\n",
    "       'disliked_projects',\n",
    "       'alternate_degree',\n",
    "       'drawing',\n",
    "       'essay',\n",
    "       'architecture',\n",
    "       'automotive',\n",
    "       'business',\n",
    "       'construction',\n",
    "       'health',\n",
    "       'environment',\n",
    "       'manufacturing',\n",
    "       'technology',\n",
    "       'program'\n",
    "]"
   ]
  },
  {
   "cell_type": "markdown",
   "metadata": {},
   "source": [
    "### Define Data Balance Dictionary"
   ]
  },
  {
   "cell_type": "code",
   "execution_count": null,
   "metadata": {},
   "outputs": [],
   "source": [
    "b0 = False # this is only relevant when we want to use untreated data for code d0\n",
    "\n",
    "b1 = {\n",
    "    'mech': 100,\n",
    "    'bmed': 100,\n",
    "    'swe': 100,\n",
    "    'tron': 100,\n",
    "    'cive': 100,\n",
    "    'chem': 100,\n",
    "    'syde': 100,\n",
    "    'msci': 100,\n",
    "    'ce': 100,\n",
    "    'elec': 100,\n",
    "    'nano': 100,\n",
    "    'geo': 100,\n",
    "    'env': 100,\n",
    "    'arch-e': 100,\n",
    "    'arch': 100\n",
    "    }\n",
    "\n",
    "b4 = {\n",
    "    'mech': 100,\n",
    "    'bmed': 100,\n",
    "    'swe': 30,\n",
    "    'tron': 100,\n",
    "    'cive': 100,\n",
    "    'chem': 100,\n",
    "    'syde': 100,\n",
    "    'msci': 100,\n",
    "    'ce': 100,\n",
    "    'elec': 100,\n",
    "    'nano': 100,\n",
    "    'geo': 100,\n",
    "    'env': 100,\n",
    "    'arch-e': 100,\n",
    "    'arch': 100\n",
    "    }\n"
   ]
  },
  {
   "cell_type": "markdown",
   "metadata": {},
   "source": [
    "### Define Data Balance Multiple"
   ]
  },
  {
   "cell_type": "code",
   "execution_count": null,
   "metadata": {},
   "outputs": [],
   "source": [
    "# Ratio of other programs to program in binary classifier. 2 means double of other programs, 0.5 means half\n",
    "v0 = 1"
   ]
  },
  {
   "cell_type": "markdown",
   "metadata": {},
   "source": [
    " # <font color='red'> Set Up Parameters for the Current Experiment</font> "
   ]
  },
  {
   "cell_type": "code",
   "execution_count": null,
   "metadata": {},
   "outputs": [],
   "source": [
    "#model_name = 'model-type_encoding_directory_datastructure_column-set_version'\n",
    "# experiment_model_name = 'dataSet_dataBalance_columnSet_dataBalanceMultiple'\n",
    "experiment_model_name = 'd0_b0_c36_v0'\n",
    "directory = d0\n",
    "data_balance = b0\n",
    "column_list = c36\n",
    "data_balance_multiple = v0 # Ratio of other programs to program in binary classifier. 2 means double of other programs, 0.5 means half\n",
    "\n",
    "test_vector = [0] * (len(column_list)-1)\n",
    "test_vector = np.array(test_vector).reshape(1, -1)"
   ]
  },
  {
   "cell_type": "markdown",
   "metadata": {},
   "source": [
    "### Define Encoding\n",
    "\n",
    " For each new type of encoding defined (other than the default label encoding) we need to define a new list of variables which are to be one hot encoded. This list name should match the encoding code that you will place in the dictionary in the model building google sheet.\n",
    "\n",
    " For each new type of encoding created, a new code block needs to be added under each model under each classfier family. Then, copy the code for the one hot encoded models and change the one_hot_encode list to the new list you created for this type of encoding. Once all the code blocks are added, you can run those cells!"
   ]
  },
  {
   "cell_type": "code",
   "execution_count": null,
   "metadata": {},
   "outputs": [],
   "source": [
    "ohe =  [\n",
    "        'problem_type', \n",
    "        'creative', \n",
    "        'outdoors', \n",
    "        'career',\n",
    "        'group_work', \n",
    "        'liked_courses', \n",
    "        'disliked_courses', \n",
    "        'programming',\n",
    "        'join_clubs', \n",
    "        'not_clubs', \n",
    "        'liked_projects',\n",
    "        'disliked_projects',\n",
    "        'tv_shows', \n",
    "        'alternate_degree', \n",
    "        'expensive_equipment', \n",
    "        'drawing',\n",
    "        'essay'\n",
    "        ]\n",
    "\n",
    "ohe = [value for value in ohe if value in  column_list]\n",
    "\n",
    "m0 =  [\n",
    "        'problem_type', \n",
    "        'creative', \n",
    "        'outdoors', \n",
    "        'career',\n",
    "        'group_work', \n",
    "        'liked_courses', \n",
    "        'disliked_courses', \n",
    "        'programming',\n",
    "        'join_clubs', \n",
    "        'not_clubs', \n",
    "        'liked_projects',\n",
    "        'disliked_projects',\n",
    "        'tv_shows', \n",
    "        'alternate_degree', \n",
    "        'expensive_equipment', \n",
    "        'drawing',\n",
    "        'essay'\n",
    "        ]\n",
    "m0 = [value for value in m0 if value in  column_list]\n",
    "\n",
    "m2 =  [\n",
    "        'career',\n",
    "        'liked_courses', \n",
    "        'join_clubs', \n",
    "        'alternate_degree' \n",
    "        ] \n",
    "m2 = [value for value in m2 if value in  column_list]\n",
    "\n",
    "m3 =  [\n",
    "        'career'\n",
    "        ] \n",
    "m3 = [value for value in m3 if value in  column_list]\n",
    "\n",
    "m4 =  [\n",
    "        'liked_courses'\n",
    "        ] \n",
    "m4 = [value for value in m4 if value in  column_list]\n",
    "\n",
    "m5 =  [\n",
    "        'join_clubs'\n",
    "        ] \n",
    "m5 = [value for value in m5 if value in  column_list]\n",
    "\n",
    "m6 =  [\n",
    "        'alternate_degree' \n",
    "        ] \n",
    "m6 = [value for value in m6 if value in  column_list]\n",
    "\n",
    "m7 =  [\n",
    "        'career',\n",
    "        'liked_courses'\n",
    "        ] \n",
    "m7 = [value for value in m7 if value in  column_list]\n",
    "\n",
    "m8 =  [\n",
    "        'career',\n",
    "        'join_clubs'\n",
    "        ] \n",
    "m8 = [value for value in m8 if value in  column_list]\n",
    "\n",
    "m9 =  [\n",
    "        'career',\n",
    "        'alternate_degree' \n",
    "        ] \n",
    "m9 = [value for value in m9 if value in  column_list]\n",
    "\n",
    "m10 =  [\n",
    "        'liked_courses', \n",
    "        'join_clubs'\n",
    "        ]\n",
    "m10 = [value for value in m10 if value in  column_list]\n",
    "\n",
    "m11 =  [\n",
    "        'liked_courses',  \n",
    "        'alternate_degree'\n",
    "        ] \n",
    "m11 = [value for value in m11 if value in  column_list]\n",
    "\n",
    "m12 =  [\n",
    "        'join_clubs', \n",
    "        'alternate_degree'\n",
    "        ] \n",
    "m12 = [value for value in m12 if value in  column_list]\n",
    "\n",
    "m13 =  [\n",
    "        'career',\n",
    "        'liked_courses', \n",
    "        'join_clubs'\n",
    "        ]\n",
    "m13 = [value for value in m13 if value in  column_list]\n",
    "\n",
    "m14 =  [\n",
    "        'career',\n",
    "        'join_clubs', \n",
    "        'alternate_degree'\n",
    "        ] \n",
    "m14 = [value for value in m14 if value in  column_list]\n",
    "\n",
    "m15 =  [\n",
    "        'career',\n",
    "        'liked_courses', \n",
    "        'alternate_degree'\n",
    "        ] \n",
    "m15 = [value for value in m15 if value in  column_list]\n",
    "\n",
    "m16 =  [\n",
    "        'liked_courses', \n",
    "        'join_clubs', \n",
    "        'alternate_degree'\n",
    "        ] \n",
    "m16 = [value for value in m16 if value in  column_list]"
   ]
  },
  {
   "cell_type": "markdown",
   "metadata": {},
   "source": [
    "## Multilabel Classifiers"
   ]
  },
  {
   "cell_type": "markdown",
   "metadata": {},
   "source": [
    "### Naive Bayes - Label Encoded"
   ]
  },
  {
   "cell_type": "code",
   "execution_count": null,
   "metadata": {},
   "outputs": [],
   "source": [
    "model_name = 'nb_le_f0_'+ experiment_model_name\n",
    "data = get_label_encoded_data(directory,model_name,column_list,'H',data_balance=data_balance)[0]\n",
    "\n",
    "x_df = data.drop(axis=1,columns=[\"program\"])\n",
    "y_df = data[\"program\"]\n",
    "\n",
    "X = np.array(x_df) # convert dataframe into np array\n",
    "Y = np.array(y_df) # convert dataframe into np array\n",
    "\n",
    "mnb = MultinomialNB()\n",
    "model = mnb.fit(X, Y) # fit the model using training data\n",
    "\n",
    "cat = data.drop('program',axis=1)\n",
    "cat = dict(zip(cat.columns,range(cat.shape[1])))\n",
    "\n",
    "print(INV_INDEX_PROGRAM[model.predict(test_vector)[0]])\n",
    "\n",
    "save_model(data,model,cat,model_name)\n",
    "test_model(model_name,test_vector)"
   ]
  },
  {
   "cell_type": "markdown",
   "metadata": {},
   "source": [
    "### Naive Bayes - One Hot Encoded"
   ]
  },
  {
   "cell_type": "code",
   "execution_count": null,
   "metadata": {
    "scrolled": true
   },
   "outputs": [],
   "source": [
    "model_name = 'nb_ohe_f0_'+ experiment_model_name\n",
    "data = get_merged_encoded_data(directory,model_name,one_hot_encode=ohe,column_list = column_list,drop_not_happy='H',data_balance=data_balance)\n",
    "\n",
    "x_df = data.drop(axis=1,columns=[\"program\"])\n",
    "y_df = data[\"program\"]\n",
    "\n",
    "X = np.array(x_df) # convert dataframe into np array\n",
    "Y = np.array(y_df) # convert dataframe into np array\n",
    "\n",
    "mnb = MultinomialNB()\n",
    "model = mnb.fit(X, Y) # fit the model using training data\n",
    "\n",
    "cat = data.drop('program',axis=1)\n",
    "cat = dict(zip(cat.columns,range(cat.shape[1])))\n",
    "\n",
    "save_model(data,model,cat,model_name)"
   ]
  },
  {
   "cell_type": "markdown",
   "metadata": {},
   "source": [
    "### Naive Bayes - m2"
   ]
  },
  {
   "cell_type": "code",
   "execution_count": null,
   "metadata": {},
   "outputs": [],
   "source": [
    "model_name = 'nb_m2_f0_'+ experiment_model_name\n",
    "data = get_merged_encoded_data(directory,model_name,one_hot_encode=m2,column_list = column_list,drop_not_happy='H',data_balance=data_balance)\n",
    "\n",
    "x_df = data.drop(axis=1,columns=[\"program\"])\n",
    "y_df = data[\"program\"]\n",
    "\n",
    "X = np.array(x_df) # convert dataframe into np array\n",
    "Y = np.array(y_df) # convert dataframe into np array\n",
    "\n",
    "mnb = MultinomialNB()\n",
    "model = mnb.fit(X, Y) # fit the model using training data\n",
    "\n",
    "cat = data.drop('program',axis=1)\n",
    "cat = dict(zip(cat.columns,range(cat.shape[1])))\n",
    "\n",
    "save_model(data,model,cat,model_name)"
   ]
  },
  {
   "cell_type": "markdown",
   "metadata": {},
   "source": [
    "### Naive Bayes - m3"
   ]
  },
  {
   "cell_type": "code",
   "execution_count": null,
   "metadata": {},
   "outputs": [],
   "source": [
    "model_name = 'nb_m3_f0_'+ experiment_model_name\n",
    "data = get_merged_encoded_data(directory,model_name,one_hot_encode=m3,column_list = column_list,drop_not_happy='H',data_balance=data_balance)\n",
    "\n",
    "x_df = data.drop(axis=1,columns=[\"program\"])\n",
    "y_df = data[\"program\"]\n",
    "\n",
    "X = np.array(x_df) # convert dataframe into np array\n",
    "Y = np.array(y_df) # convert dataframe into np array\n",
    "\n",
    "mnb = MultinomialNB()\n",
    "model = mnb.fit(X, Y) # fit the model using training data\n",
    "\n",
    "cat = data.drop('program',axis=1)\n",
    "cat = dict(zip(cat.columns,range(cat.shape[1])))\n",
    "\n",
    "save_model(data,model,cat,model_name)"
   ]
  },
  {
   "cell_type": "markdown",
   "metadata": {},
   "source": [
    "### Naive Bayes - m4"
   ]
  },
  {
   "cell_type": "code",
   "execution_count": null,
   "metadata": {},
   "outputs": [],
   "source": [
    "model_name = 'nb_m4_f0_'+ experiment_model_name\n",
    "data = get_merged_encoded_data(directory,model_name,one_hot_encode=m4,column_list = column_list,drop_not_happy='H',data_balance=data_balance)\n",
    "\n",
    "x_df = data.drop(axis=1,columns=[\"program\"])\n",
    "y_df = data[\"program\"]\n",
    "\n",
    "X = np.array(x_df) # convert dataframe into np array\n",
    "Y = np.array(y_df) # convert dataframe into np array\n",
    "\n",
    "mnb = MultinomialNB()\n",
    "model = mnb.fit(X, Y) # fit the model using training data\n",
    "\n",
    "cat = data.drop('program',axis=1)\n",
    "cat = dict(zip(cat.columns,range(cat.shape[1])))\n",
    "\n",
    "save_model(data,model,cat,model_name)"
   ]
  },
  {
   "cell_type": "markdown",
   "metadata": {},
   "source": [
    "### Naive Bayes - m5"
   ]
  },
  {
   "cell_type": "code",
   "execution_count": null,
   "metadata": {},
   "outputs": [],
   "source": [
    "model_name = 'nb_m5_f0_'+ experiment_model_name\n",
    "data = get_merged_encoded_data(directory,model_name,one_hot_encode=m5,column_list = column_list,drop_not_happy='H',data_balance=data_balance)\n",
    "\n",
    "x_df = data.drop(axis=1,columns=[\"program\"])\n",
    "y_df = data[\"program\"]\n",
    "\n",
    "X = np.array(x_df) # convert dataframe into np array\n",
    "Y = np.array(y_df) # convert dataframe into np array\n",
    "\n",
    "mnb = MultinomialNB()\n",
    "model = mnb.fit(X, Y) # fit the model using training data\n",
    "\n",
    "cat = data.drop('program',axis=1)\n",
    "cat = dict(zip(cat.columns,range(cat.shape[1])))\n",
    "\n",
    "save_model(data,model,cat,model_name)"
   ]
  },
  {
   "cell_type": "markdown",
   "metadata": {},
   "source": [
    "### Naive Bayes - m6"
   ]
  },
  {
   "cell_type": "code",
   "execution_count": null,
   "metadata": {},
   "outputs": [],
   "source": [
    "model_name = 'nb_m6_f0_'+ experiment_model_name\n",
    "data = get_merged_encoded_data(directory,model_name,one_hot_encode=m6,column_list = column_list,drop_not_happy='H',data_balance=data_balance)\n",
    "\n",
    "x_df = data.drop(axis=1,columns=[\"program\"])\n",
    "y_df = data[\"program\"]\n",
    "\n",
    "X = np.array(x_df) # convert dataframe into np array\n",
    "Y = np.array(y_df) # convert dataframe into np array\n",
    "\n",
    "mnb = MultinomialNB()\n",
    "model = mnb.fit(X, Y) # fit the model using training data\n",
    "\n",
    "cat = data.drop('program',axis=1)\n",
    "cat = dict(zip(cat.columns,range(cat.shape[1])))\n",
    "\n",
    "save_model(data,model,cat,model_name)"
   ]
  },
  {
   "cell_type": "markdown",
   "metadata": {},
   "source": [
    "### Naive Bayes - m7"
   ]
  },
  {
   "cell_type": "code",
   "execution_count": null,
   "metadata": {},
   "outputs": [],
   "source": [
    "model_name = 'nb_m7_f0_'+ experiment_model_name\n",
    "data = get_merged_encoded_data(directory,model_name,one_hot_encode=m7,column_list = column_list,drop_not_happy='H',data_balance=data_balance)\n",
    "\n",
    "x_df = data.drop(axis=1,columns=[\"program\"])\n",
    "y_df = data[\"program\"]\n",
    "\n",
    "X = np.array(x_df) # convert dataframe into np array\n",
    "Y = np.array(y_df) # convert dataframe into np array\n",
    "\n",
    "mnb = MultinomialNB()\n",
    "model = mnb.fit(X, Y) # fit the model using training data\n",
    "\n",
    "cat = data.drop('program',axis=1)\n",
    "cat = dict(zip(cat.columns,range(cat.shape[1])))\n",
    "\n",
    "save_model(data,model,cat,model_name)"
   ]
  },
  {
   "cell_type": "markdown",
   "metadata": {},
   "source": [
    "### Naive Bayes - m8"
   ]
  },
  {
   "cell_type": "code",
   "execution_count": null,
   "metadata": {},
   "outputs": [],
   "source": [
    "model_name = 'nb_m8_f0_'+ experiment_model_name\n",
    "data = get_merged_encoded_data(directory,model_name,one_hot_encode=m8,column_list = column_list,drop_not_happy='H',data_balance=data_balance)\n",
    "\n",
    "x_df = data.drop(axis=1,columns=[\"program\"])\n",
    "y_df = data[\"program\"]\n",
    "\n",
    "X = np.array(x_df) # convert dataframe into np array\n",
    "Y = np.array(y_df) # convert dataframe into np array\n",
    "\n",
    "mnb = MultinomialNB()\n",
    "model = mnb.fit(X, Y) # fit the model using training data\n",
    "\n",
    "cat = data.drop('program',axis=1)\n",
    "cat = dict(zip(cat.columns,range(cat.shape[1])))\n",
    "\n",
    "save_model(data,model,cat,model_name)"
   ]
  },
  {
   "cell_type": "markdown",
   "metadata": {},
   "source": [
    "### Naive Bayes - m9"
   ]
  },
  {
   "cell_type": "code",
   "execution_count": null,
   "metadata": {},
   "outputs": [],
   "source": [
    "model_name = 'nb_m9_f0_'+ experiment_model_name\n",
    "data = get_merged_encoded_data(directory,model_name,one_hot_encode=m9,column_list = column_list,drop_not_happy='H',data_balance=data_balance)\n",
    "\n",
    "x_df = data.drop(axis=1,columns=[\"program\"])\n",
    "y_df = data[\"program\"]\n",
    "\n",
    "X = np.array(x_df) # convert dataframe into np array\n",
    "Y = np.array(y_df) # convert dataframe into np array\n",
    "\n",
    "mnb = MultinomialNB()\n",
    "model = mnb.fit(X, Y) # fit the model using training data\n",
    "\n",
    "cat = data.drop('program',axis=1)\n",
    "cat = dict(zip(cat.columns,range(cat.shape[1])))\n",
    "\n",
    "save_model(data,model,cat,model_name)"
   ]
  },
  {
   "cell_type": "markdown",
   "metadata": {},
   "source": [
    "### Naive Bayes - m10"
   ]
  },
  {
   "cell_type": "code",
   "execution_count": null,
   "metadata": {},
   "outputs": [],
   "source": [
    "model_name = 'nb_m10_f0_'+ experiment_model_name\n",
    "data = get_merged_encoded_data(directory,model_name,one_hot_encode=m10,column_list = column_list,drop_not_happy='H',data_balance=data_balance)\n",
    "\n",
    "x_df = data.drop(axis=1,columns=[\"program\"])\n",
    "y_df = data[\"program\"]\n",
    "\n",
    "X = np.array(x_df) # convert dataframe into np array\n",
    "Y = np.array(y_df) # convert dataframe into np array\n",
    "\n",
    "mnb = MultinomialNB()\n",
    "model = mnb.fit(X, Y) # fit the model using training data\n",
    "\n",
    "cat = data.drop('program',axis=1)\n",
    "cat = dict(zip(cat.columns,range(cat.shape[1])))\n",
    "\n",
    "save_model(data,model,cat,model_name)"
   ]
  },
  {
   "cell_type": "markdown",
   "metadata": {},
   "source": [
    "### Naive Bayes - m11"
   ]
  },
  {
   "cell_type": "code",
   "execution_count": null,
   "metadata": {},
   "outputs": [],
   "source": [
    "model_name = 'nb_m11_f0_'+ experiment_model_name\n",
    "data = get_merged_encoded_data(directory,model_name,one_hot_encode=m11,column_list = column_list,drop_not_happy='H',data_balance=data_balance)\n",
    "\n",
    "x_df = data.drop(axis=1,columns=[\"program\"])\n",
    "y_df = data[\"program\"]\n",
    "\n",
    "X = np.array(x_df) # convert dataframe into np array\n",
    "Y = np.array(y_df) # convert dataframe into np array\n",
    "\n",
    "mnb = MultinomialNB()\n",
    "model = mnb.fit(X, Y) # fit the model using training data\n",
    "\n",
    "cat = data.drop('program',axis=1)\n",
    "cat = dict(zip(cat.columns,range(cat.shape[1])))\n",
    "\n",
    "save_model(data,model,cat,model_name)"
   ]
  },
  {
   "cell_type": "markdown",
   "metadata": {},
   "source": [
    "### Naive Bayes - m12"
   ]
  },
  {
   "cell_type": "code",
   "execution_count": null,
   "metadata": {},
   "outputs": [],
   "source": [
    "model_name = 'nb_m12_f0_'+ experiment_model_name\n",
    "data = get_merged_encoded_data(directory,model_name,one_hot_encode=m12,column_list = column_list,drop_not_happy='H',data_balance=data_balance)\n",
    "\n",
    "x_df = data.drop(axis=1,columns=[\"program\"])\n",
    "y_df = data[\"program\"]\n",
    "\n",
    "X = np.array(x_df) # convert dataframe into np array\n",
    "Y = np.array(y_df) # convert dataframe into np array\n",
    "\n",
    "mnb = MultinomialNB()\n",
    "model = mnb.fit(X, Y) # fit the model using training data\n",
    "\n",
    "cat = data.drop('program',axis=1)\n",
    "cat = dict(zip(cat.columns,range(cat.shape[1])))\n",
    "\n",
    "save_model(data,model,cat,model_name)"
   ]
  },
  {
   "cell_type": "markdown",
   "metadata": {},
   "source": [
    "### Naive Bayes - m13"
   ]
  },
  {
   "cell_type": "code",
   "execution_count": null,
   "metadata": {},
   "outputs": [],
   "source": [
    "model_name = 'nb_m13_f0_'+ experiment_model_name\n",
    "data = get_merged_encoded_data(directory,model_name,one_hot_encode=m13,column_list = column_list,drop_not_happy='H',data_balance=data_balance)\n",
    "\n",
    "x_df = data.drop(axis=1,columns=[\"program\"])\n",
    "y_df = data[\"program\"]\n",
    "\n",
    "X = np.array(x_df) # convert dataframe into np array\n",
    "Y = np.array(y_df) # convert dataframe into np array\n",
    "\n",
    "mnb = MultinomialNB()\n",
    "model = mnb.fit(X, Y) # fit the model using training data\n",
    "\n",
    "cat = data.drop('program',axis=1)\n",
    "cat = dict(zip(cat.columns,range(cat.shape[1])))\n",
    "\n",
    "save_model(data,model,cat,model_name)"
   ]
  },
  {
   "cell_type": "markdown",
   "metadata": {},
   "source": [
    "### Naive Bayes - m14"
   ]
  },
  {
   "cell_type": "code",
   "execution_count": null,
   "metadata": {},
   "outputs": [],
   "source": [
    "model_name = 'nb_m14_f0_'+ experiment_model_name\n",
    "data = get_merged_encoded_data(directory,model_name,one_hot_encode=m14,column_list = column_list,drop_not_happy='H',data_balance=data_balance)\n",
    "\n",
    "x_df = data.drop(axis=1,columns=[\"program\"])\n",
    "y_df = data[\"program\"]\n",
    "\n",
    "X = np.array(x_df) # convert dataframe into np array\n",
    "Y = np.array(y_df) # convert dataframe into np array\n",
    "\n",
    "mnb = MultinomialNB()\n",
    "model = mnb.fit(X, Y) # fit the model using training data\n",
    "\n",
    "cat = data.drop('program',axis=1)\n",
    "cat = dict(zip(cat.columns,range(cat.shape[1])))\n",
    "\n",
    "save_model(data,model,cat,model_name)"
   ]
  },
  {
   "cell_type": "markdown",
   "metadata": {},
   "source": [
    "### Naive Bayes - m15"
   ]
  },
  {
   "cell_type": "code",
   "execution_count": null,
   "metadata": {},
   "outputs": [],
   "source": [
    "model_name = 'nb_m15_f0_'+ experiment_model_name\n",
    "data = get_merged_encoded_data(directory,model_name,one_hot_encode=m15,column_list = column_list,drop_not_happy='H',data_balance=data_balance)\n",
    "\n",
    "x_df = data.drop(axis=1,columns=[\"program\"])\n",
    "y_df = data[\"program\"]\n",
    "\n",
    "X = np.array(x_df) # convert dataframe into np array\n",
    "Y = np.array(y_df) # convert dataframe into np array\n",
    "\n",
    "mnb = MultinomialNB()\n",
    "model = mnb.fit(X, Y) # fit the model using training data\n",
    "\n",
    "cat = data.drop('program',axis=1)\n",
    "cat = dict(zip(cat.columns,range(cat.shape[1])))\n",
    "\n",
    "save_model(data,model,cat,model_name)"
   ]
  },
  {
   "cell_type": "markdown",
   "metadata": {},
   "source": [
    "### Naive Bayes - m16"
   ]
  },
  {
   "cell_type": "code",
   "execution_count": null,
   "metadata": {},
   "outputs": [],
   "source": [
    "model_name = 'nb_m16_f0_'+ experiment_model_name\n",
    "data = get_merged_encoded_data(directory,model_name,one_hot_encode=m16,column_list = column_list,drop_not_happy='H',data_balance=data_balance)\n",
    "\n",
    "x_df = data.drop(axis=1,columns=[\"program\"])\n",
    "y_df = data[\"program\"]\n",
    "\n",
    "X = np.array(x_df) # convert dataframe into np array\n",
    "Y = np.array(y_df) # convert dataframe into np array\n",
    "\n",
    "mnb = MultinomialNB()\n",
    "model = mnb.fit(X, Y) # fit the model using training data\n",
    "\n",
    "cat = data.drop('program',axis=1)\n",
    "cat = dict(zip(cat.columns,range(cat.shape[1])))\n",
    "\n",
    "save_model(data,model,cat,model_name)"
   ]
  },
  {
   "cell_type": "markdown",
   "metadata": {},
   "source": [
    "### Logistic Regression - Label Encoded"
   ]
  },
  {
   "cell_type": "code",
   "execution_count": null,
   "metadata": {},
   "outputs": [],
   "source": [
    "model_name = 'lrr_le_f0_'+ experiment_model_name\n",
    "data = get_label_encoded_data(directory,model_name,column_list,'H',data_balance=data_balance)[0]\n",
    "\n",
    "x_df = data.drop(axis=1,columns=[\"program\"])\n",
    "y_df = data[\"program\"]\n",
    "\n",
    "X = np.array(x_df) # convert dataframe into np array\n",
    "Y = np.array(y_df) # convert dataframe into np array\n",
    "\n",
    "LRR = LogisticRegression(random_state=0, solver='lbfgs',multi_class='multinomial')\n",
    "model = LRR.fit(X, Y) # fit the model using training data\n",
    "\n",
    "cat = data.drop('program',axis=1)\n",
    "cat = dict(zip(cat.columns,range(cat.shape[1])))\n",
    "\n",
    "print(INV_INDEX_PROGRAM[model.predict(test_vector)[0]])\n",
    "\n",
    "save_model(data,model,cat,model_name)\n",
    "test_model(model_name,test_vector)"
   ]
  },
  {
   "cell_type": "markdown",
   "metadata": {},
   "source": [
    "### Logistic Regression - One Hot Encoded"
   ]
  },
  {
   "cell_type": "code",
   "execution_count": null,
   "metadata": {},
   "outputs": [],
   "source": [
    "model_name = 'lrr_ohe_f0_'+ experiment_model_name\n",
    "data = get_merged_encoded_data(directory,model_name,one_hot_encode=ohe,column_list = column_list,drop_not_happy='H',data_balance=data_balance)\n",
    "\n",
    "x_df = data.drop(axis=1,columns=[\"program\"])\n",
    "y_df = data[\"program\"]\n",
    "\n",
    "X = np.array(x_df) # convert dataframe into np array\n",
    "Y = np.array(y_df) # convert dataframe into np array\n",
    "\n",
    "LRR = LogisticRegression(random_state=0, solver='lbfgs',multi_class='multinomial')\n",
    "model = LRR.fit(X, Y) # fit the model using training data\n",
    "\n",
    "cat = data.drop('program',axis=1)\n",
    "cat = dict(zip(cat.columns,range(cat.shape[1])))\n",
    "\n",
    "save_model(data,model,cat,model_name)"
   ]
  },
  {
   "cell_type": "markdown",
   "metadata": {},
   "source": [
    "### Logistic Regression - m2"
   ]
  },
  {
   "cell_type": "code",
   "execution_count": null,
   "metadata": {},
   "outputs": [],
   "source": [
    "model_name = 'lrr_m2_f0_'+ experiment_model_name\n",
    "data = get_merged_encoded_data(directory,model_name,one_hot_encode=m2,column_list = column_list,drop_not_happy='H',data_balance=data_balance)\n",
    "\n",
    "x_df = data.drop(axis=1,columns=[\"program\"])\n",
    "y_df = data[\"program\"]\n",
    "\n",
    "X = np.array(x_df) # convert dataframe into np array\n",
    "Y = np.array(y_df) # convert dataframe into np array\n",
    "\n",
    "LRR = LogisticRegression(random_state=0, solver='lbfgs',multi_class='multinomial')\n",
    "model = LRR.fit(X, Y) # fit the model using training data\n",
    "\n",
    "cat = data.drop('program',axis=1)\n",
    "cat = dict(zip(cat.columns,range(cat.shape[1])))\n",
    "\n",
    "save_model(data,model,cat,model_name)"
   ]
  },
  {
   "cell_type": "markdown",
   "metadata": {},
   "source": [
    "### Logistic Regression - m3"
   ]
  },
  {
   "cell_type": "code",
   "execution_count": null,
   "metadata": {},
   "outputs": [],
   "source": [
    "model_name = 'lrr_m3_f0_'+ experiment_model_name\n",
    "data = get_merged_encoded_data(directory,model_name,one_hot_encode=m3,column_list = column_list,drop_not_happy='H',data_balance=data_balance)\n",
    "\n",
    "x_df = data.drop(axis=1,columns=[\"program\"])\n",
    "y_df = data[\"program\"]\n",
    "\n",
    "X = np.array(x_df) # convert dataframe into np array\n",
    "Y = np.array(y_df) # convert dataframe into np array\n",
    "\n",
    "LRR = LogisticRegression(random_state=0, solver='lbfgs',multi_class='multinomial')\n",
    "model = LRR.fit(X, Y) # fit the model using training data\n",
    "\n",
    "cat = data.drop('program',axis=1)\n",
    "cat = dict(zip(cat.columns,range(cat.shape[1])))\n",
    "\n",
    "save_model(data,model,cat,model_name)"
   ]
  },
  {
   "cell_type": "markdown",
   "metadata": {},
   "source": [
    "### Logistic Regression - m4"
   ]
  },
  {
   "cell_type": "code",
   "execution_count": null,
   "metadata": {},
   "outputs": [],
   "source": [
    "model_name = 'lrr_m4_f0_'+ experiment_model_name\n",
    "data = get_merged_encoded_data(directory,model_name,one_hot_encode=m4,column_list = column_list,drop_not_happy='H',data_balance=data_balance)\n",
    "\n",
    "x_df = data.drop(axis=1,columns=[\"program\"])\n",
    "y_df = data[\"program\"]\n",
    "\n",
    "X = np.array(x_df) # convert dataframe into np array\n",
    "Y = np.array(y_df) # convert dataframe into np array\n",
    "\n",
    "LRR = LogisticRegression(random_state=0, solver='lbfgs',multi_class='multinomial')\n",
    "model = LRR.fit(X, Y) # fit the model using training data\n",
    "\n",
    "cat = data.drop('program',axis=1)\n",
    "cat = dict(zip(cat.columns,range(cat.shape[1])))\n",
    "\n",
    "save_model(data,model,cat,model_name)"
   ]
  },
  {
   "cell_type": "markdown",
   "metadata": {},
   "source": [
    "### Logistic Regression - m5"
   ]
  },
  {
   "cell_type": "code",
   "execution_count": null,
   "metadata": {},
   "outputs": [],
   "source": [
    "model_name = 'lrr_m5_f0_'+ experiment_model_name\n",
    "data = get_merged_encoded_data(directory,model_name,one_hot_encode=m5,column_list = column_list,drop_not_happy='H',data_balance=data_balance)\n",
    "\n",
    "x_df = data.drop(axis=1,columns=[\"program\"])\n",
    "y_df = data[\"program\"]\n",
    "\n",
    "X = np.array(x_df) # convert dataframe into np array\n",
    "Y = np.array(y_df) # convert dataframe into np array\n",
    "\n",
    "LRR = LogisticRegression(random_state=0, solver='lbfgs',multi_class='multinomial')\n",
    "model = LRR.fit(X, Y) # fit the model using training data\n",
    "\n",
    "cat = data.drop('program',axis=1)\n",
    "cat = dict(zip(cat.columns,range(cat.shape[1])))\n",
    "\n",
    "save_model(data,model,cat,model_name)"
   ]
  },
  {
   "cell_type": "markdown",
   "metadata": {},
   "source": [
    "### Logistic Regression - m6"
   ]
  },
  {
   "cell_type": "code",
   "execution_count": null,
   "metadata": {},
   "outputs": [],
   "source": [
    "model_name = 'lrr_m6_f0_'+ experiment_model_name\n",
    "data = get_merged_encoded_data(directory,model_name,one_hot_encode=m6,column_list = column_list,drop_not_happy='H',data_balance=data_balance)\n",
    "\n",
    "x_df = data.drop(axis=1,columns=[\"program\"])\n",
    "y_df = data[\"program\"]\n",
    "\n",
    "X = np.array(x_df) # convert dataframe into np array\n",
    "Y = np.array(y_df) # convert dataframe into np array\n",
    "\n",
    "LRR = LogisticRegression(random_state=0, solver='lbfgs',multi_class='multinomial')\n",
    "model = LRR.fit(X, Y) # fit the model using training data\n",
    "\n",
    "cat = data.drop('program',axis=1)\n",
    "cat = dict(zip(cat.columns,range(cat.shape[1])))\n",
    "\n",
    "save_model(data,model,cat,model_name)"
   ]
  },
  {
   "cell_type": "markdown",
   "metadata": {},
   "source": [
    "### Logistic Regression - m7"
   ]
  },
  {
   "cell_type": "code",
   "execution_count": null,
   "metadata": {},
   "outputs": [],
   "source": [
    "model_name = 'lrr_m7_f0_'+ experiment_model_name\n",
    "data = get_merged_encoded_data(directory,model_name,one_hot_encode=m7,column_list = column_list,drop_not_happy='H',data_balance=data_balance)\n",
    "\n",
    "x_df = data.drop(axis=1,columns=[\"program\"])\n",
    "y_df = data[\"program\"]\n",
    "\n",
    "X = np.array(x_df) # convert dataframe into np array\n",
    "Y = np.array(y_df) # convert dataframe into np array\n",
    "\n",
    "LRR = LogisticRegression(random_state=0, solver='lbfgs',multi_class='multinomial')\n",
    "model = LRR.fit(X, Y) # fit the model using training data\n",
    "\n",
    "cat = data.drop('program',axis=1)\n",
    "cat = dict(zip(cat.columns,range(cat.shape[1])))\n",
    "\n",
    "save_model(data,model,cat,model_name)"
   ]
  },
  {
   "cell_type": "markdown",
   "metadata": {},
   "source": [
    "### Logistic Regression - m8"
   ]
  },
  {
   "cell_type": "code",
   "execution_count": null,
   "metadata": {},
   "outputs": [],
   "source": [
    "model_name = 'lrr_m8_f0_'+ experiment_model_name\n",
    "data = get_merged_encoded_data(directory,model_name,one_hot_encode=m8,column_list = column_list,drop_not_happy='H',data_balance=data_balance)\n",
    "\n",
    "x_df = data.drop(axis=1,columns=[\"program\"])\n",
    "y_df = data[\"program\"]\n",
    "\n",
    "X = np.array(x_df) # convert dataframe into np array\n",
    "Y = np.array(y_df) # convert dataframe into np array\n",
    "\n",
    "LRR = LogisticRegression(random_state=0, solver='lbfgs',multi_class='multinomial')\n",
    "model = LRR.fit(X, Y) # fit the model using training data\n",
    "\n",
    "cat = data.drop('program',axis=1)\n",
    "cat = dict(zip(cat.columns,range(cat.shape[1])))\n",
    "\n",
    "save_model(data,model,cat,model_name)"
   ]
  },
  {
   "cell_type": "markdown",
   "metadata": {},
   "source": [
    "### Logistic Regression - m9"
   ]
  },
  {
   "cell_type": "code",
   "execution_count": null,
   "metadata": {},
   "outputs": [],
   "source": [
    "model_name = 'lrr_m9_f0_'+ experiment_model_name\n",
    "data = get_merged_encoded_data(directory,model_name,one_hot_encode=m9,column_list = column_list,drop_not_happy='H',data_balance=data_balance)\n",
    "\n",
    "x_df = data.drop(axis=1,columns=[\"program\"])\n",
    "y_df = data[\"program\"]\n",
    "\n",
    "X = np.array(x_df) # convert dataframe into np array\n",
    "Y = np.array(y_df) # convert dataframe into np array\n",
    "\n",
    "LRR = LogisticRegression(random_state=0, solver='lbfgs',multi_class='multinomial')\n",
    "model = LRR.fit(X, Y) # fit the model using training data\n",
    "\n",
    "cat = data.drop('program',axis=1)\n",
    "cat = dict(zip(cat.columns,range(cat.shape[1])))\n",
    "\n",
    "save_model(data,model,cat,model_name)"
   ]
  },
  {
   "cell_type": "markdown",
   "metadata": {},
   "source": [
    "### Logistic Regression - m10"
   ]
  },
  {
   "cell_type": "code",
   "execution_count": null,
   "metadata": {},
   "outputs": [],
   "source": [
    "model_name = 'lrr_m10_f0_'+ experiment_model_name\n",
    "data = get_merged_encoded_data(directory,model_name,one_hot_encode=m10,column_list = column_list,drop_not_happy='H',data_balance=data_balance)\n",
    "\n",
    "x_df = data.drop(axis=1,columns=[\"program\"])\n",
    "y_df = data[\"program\"]\n",
    "\n",
    "X = np.array(x_df) # convert dataframe into np array\n",
    "Y = np.array(y_df) # convert dataframe into np array\n",
    "\n",
    "LRR = LogisticRegression(random_state=0, solver='lbfgs',multi_class='multinomial')\n",
    "model = LRR.fit(X, Y) # fit the model using training data\n",
    "\n",
    "cat = data.drop('program',axis=1)\n",
    "cat = dict(zip(cat.columns,range(cat.shape[1])))\n",
    "\n",
    "save_model(data,model,cat,model_name)"
   ]
  },
  {
   "cell_type": "markdown",
   "metadata": {},
   "source": [
    "### Logistic Regression - m11"
   ]
  },
  {
   "cell_type": "code",
   "execution_count": null,
   "metadata": {},
   "outputs": [],
   "source": [
    "model_name = 'lrr_m11_f0_'+ experiment_model_name\n",
    "data = get_merged_encoded_data(directory,model_name,one_hot_encode=m11,column_list = column_list,drop_not_happy='H',data_balance=data_balance)\n",
    "\n",
    "x_df = data.drop(axis=1,columns=[\"program\"])\n",
    "y_df = data[\"program\"]\n",
    "\n",
    "X = np.array(x_df) # convert dataframe into np array\n",
    "Y = np.array(y_df) # convert dataframe into np array\n",
    "\n",
    "LRR = LogisticRegression(random_state=0, solver='lbfgs',multi_class='multinomial')\n",
    "model = LRR.fit(X, Y) # fit the model using training data\n",
    "\n",
    "cat = data.drop('program',axis=1)\n",
    "cat = dict(zip(cat.columns,range(cat.shape[1])))\n",
    "\n",
    "save_model(data,model,cat,model_name)"
   ]
  },
  {
   "cell_type": "markdown",
   "metadata": {},
   "source": [
    "### Logistic Regression - m12"
   ]
  },
  {
   "cell_type": "code",
   "execution_count": null,
   "metadata": {},
   "outputs": [],
   "source": [
    "model_name = 'lrr_m12_f0_'+ experiment_model_name\n",
    "data = get_merged_encoded_data(directory,model_name,one_hot_encode=m12,column_list = column_list,drop_not_happy='H',data_balance=data_balance)\n",
    "\n",
    "x_df = data.drop(axis=1,columns=[\"program\"])\n",
    "y_df = data[\"program\"]\n",
    "\n",
    "X = np.array(x_df) # convert dataframe into np array\n",
    "Y = np.array(y_df) # convert dataframe into np array\n",
    "\n",
    "LRR = LogisticRegression(random_state=0, solver='lbfgs',multi_class='multinomial')\n",
    "model = LRR.fit(X, Y) # fit the model using training data\n",
    "\n",
    "cat = data.drop('program',axis=1)\n",
    "cat = dict(zip(cat.columns,range(cat.shape[1])))\n",
    "\n",
    "save_model(data,model,cat,model_name)"
   ]
  },
  {
   "cell_type": "markdown",
   "metadata": {},
   "source": [
    "### Logistic Regression - m13"
   ]
  },
  {
   "cell_type": "code",
   "execution_count": null,
   "metadata": {},
   "outputs": [],
   "source": [
    "model_name = 'lrr_m13_f0_'+ experiment_model_name\n",
    "data = get_merged_encoded_data(directory,model_name,one_hot_encode=m13,column_list = column_list,drop_not_happy='H',data_balance=data_balance)\n",
    "\n",
    "x_df = data.drop(axis=1,columns=[\"program\"])\n",
    "y_df = data[\"program\"]\n",
    "\n",
    "X = np.array(x_df) # convert dataframe into np array\n",
    "Y = np.array(y_df) # convert dataframe into np array\n",
    "\n",
    "LRR = LogisticRegression(random_state=0, solver='lbfgs',multi_class='multinomial')\n",
    "model = LRR.fit(X, Y) # fit the model using training data\n",
    "\n",
    "cat = data.drop('program',axis=1)\n",
    "cat = dict(zip(cat.columns,range(cat.shape[1])))\n",
    "\n",
    "save_model(data,model,cat,model_name)"
   ]
  },
  {
   "cell_type": "markdown",
   "metadata": {},
   "source": [
    "### Logistic Regression - m14"
   ]
  },
  {
   "cell_type": "code",
   "execution_count": null,
   "metadata": {},
   "outputs": [],
   "source": [
    "model_name = 'lrr_m14_f0_'+ experiment_model_name\n",
    "data = get_merged_encoded_data(directory,model_name,one_hot_encode=m14,column_list = column_list,drop_not_happy='H',data_balance=data_balance)\n",
    "\n",
    "x_df = data.drop(axis=1,columns=[\"program\"])\n",
    "y_df = data[\"program\"]\n",
    "\n",
    "X = np.array(x_df) # convert dataframe into np array\n",
    "Y = np.array(y_df) # convert dataframe into np array\n",
    "\n",
    "LRR = LogisticRegression(random_state=0, solver='lbfgs',multi_class='multinomial')\n",
    "model = LRR.fit(X, Y) # fit the model using training data\n",
    "\n",
    "cat = data.drop('program',axis=1)\n",
    "cat = dict(zip(cat.columns,range(cat.shape[1])))\n",
    "\n",
    "save_model(data,model,cat,model_name)"
   ]
  },
  {
   "cell_type": "markdown",
   "metadata": {},
   "source": [
    "### Logistic Regression - m15"
   ]
  },
  {
   "cell_type": "code",
   "execution_count": null,
   "metadata": {},
   "outputs": [],
   "source": [
    "model_name = 'lrr_m15_f0_'+ experiment_model_name\n",
    "data = get_merged_encoded_data(directory,model_name,one_hot_encode=m15,column_list = column_list,drop_not_happy='H',data_balance=data_balance)\n",
    "\n",
    "x_df = data.drop(axis=1,columns=[\"program\"])\n",
    "y_df = data[\"program\"]\n",
    "\n",
    "X = np.array(x_df) # convert dataframe into np array\n",
    "Y = np.array(y_df) # convert dataframe into np array\n",
    "\n",
    "LRR = LogisticRegression(random_state=0, solver='lbfgs',multi_class='multinomial')\n",
    "model = LRR.fit(X, Y) # fit the model using training data\n",
    "\n",
    "cat = data.drop('program',axis=1)\n",
    "cat = dict(zip(cat.columns,range(cat.shape[1])))\n",
    "\n",
    "save_model(data,model,cat,model_name)"
   ]
  },
  {
   "cell_type": "markdown",
   "metadata": {},
   "source": [
    "### Logistic Regression - m16"
   ]
  },
  {
   "cell_type": "code",
   "execution_count": null,
   "metadata": {},
   "outputs": [],
   "source": [
    "model_name = 'lrr_m16_f0_'+ experiment_model_name\n",
    "data = get_merged_encoded_data(directory,model_name,one_hot_encode=m16,column_list = column_list,drop_not_happy='H',data_balance=data_balance)\n",
    "\n",
    "x_df = data.drop(axis=1,columns=[\"program\"])\n",
    "y_df = data[\"program\"]\n",
    "\n",
    "X = np.array(x_df) # convert dataframe into np array\n",
    "Y = np.array(y_df) # convert dataframe into np array\n",
    "\n",
    "LRR = LogisticRegression(random_state=0, solver='lbfgs',multi_class='multinomial')\n",
    "model = LRR.fit(X, Y) # fit the model using training data\n",
    "\n",
    "cat = data.drop('program',axis=1)\n",
    "cat = dict(zip(cat.columns,range(cat.shape[1])))\n",
    "\n",
    "save_model(data,model,cat,model_name)"
   ]
  },
  {
   "cell_type": "markdown",
   "metadata": {},
   "source": [
    "### Support Vector Machine - Label Encoded"
   ]
  },
  {
   "cell_type": "code",
   "execution_count": null,
   "metadata": {},
   "outputs": [],
   "source": [
    "model_name = 'svm_le_f0_'+ experiment_model_name\n",
    "data = get_label_encoded_data(directory,model_name,column_list,'H',data_balance=data_balance)[0]\n",
    "\n",
    "x_df = data.drop(axis=1,columns=[\"program\"])\n",
    "y_df = data[\"program\"]\n",
    "\n",
    "X = np.array(x_df) # convert dataframe into np array\n",
    "Y = np.array(y_df) # convert dataframe into np array\n",
    "\n",
    "SVM = svm.SVC(probability=True)\n",
    "model = SVM.fit(X, Y) # fit the model using training data\n",
    "\n",
    "cat = data.drop('program',axis=1)\n",
    "cat = dict(zip(cat.columns,range(cat.shape[1])))\n",
    "\n",
    "print(INV_INDEX_PROGRAM[model.predict(test_vector)[0]])\n",
    "\n",
    "save_model(data,model,cat,model_name)\n",
    "test_model(model_name,test_vector)"
   ]
  },
  {
   "cell_type": "markdown",
   "metadata": {},
   "source": [
    "### Support Vector Machine - One Hot Encoded"
   ]
  },
  {
   "cell_type": "code",
   "execution_count": null,
   "metadata": {},
   "outputs": [],
   "source": [
    "model_name = 'svm_ohe_f0_'+ experiment_model_name\n",
    "data = get_merged_encoded_data(directory,model_name,one_hot_encode=ohe,column_list = column_list,drop_not_happy='H',data_balance=data_balance)\n",
    "\n",
    "x_df = data.drop(axis=1,columns=[\"program\"])\n",
    "y_df = data[\"program\"]\n",
    "\n",
    "X = np.array(x_df) # convert dataframe into np array\n",
    "Y = np.array(y_df) # convert dataframe into np array\n",
    "\n",
    "SVM = svm.SVC(probability=True)\n",
    "model = SVM.fit(X, Y) # fit the model using training data\n",
    "\n",
    "cat = data.drop('program',axis=1)\n",
    "cat = dict(zip(cat.columns,range(cat.shape[1])))\n",
    "\n",
    "save_model(data,model,cat,model_name)"
   ]
  },
  {
   "cell_type": "markdown",
   "metadata": {},
   "source": [
    "### Support Vector Machine - m2"
   ]
  },
  {
   "cell_type": "code",
   "execution_count": null,
   "metadata": {},
   "outputs": [],
   "source": [
    "model_name = 'svm_m2_f0_'+ experiment_model_name\n",
    "data = get_merged_encoded_data(directory,model_name,one_hot_encode=m2,column_list = column_list,drop_not_happy='H',data_balance=data_balance)\n",
    "\n",
    "x_df = data.drop(axis=1,columns=[\"program\"])\n",
    "y_df = data[\"program\"]\n",
    "\n",
    "X = np.array(x_df) # convert dataframe into np array\n",
    "Y = np.array(y_df) # convert dataframe into np array\n",
    "\n",
    "SVM = svm.SVC(probability=True)\n",
    "model = SVM.fit(X, Y) # fit the model using training data\n",
    "\n",
    "cat = data.drop('program',axis=1)\n",
    "cat = dict(zip(cat.columns,range(cat.shape[1])))\n",
    "\n",
    "save_model(data,model,cat,model_name)"
   ]
  },
  {
   "cell_type": "markdown",
   "metadata": {},
   "source": [
    "### Support Vector Machine - m3"
   ]
  },
  {
   "cell_type": "code",
   "execution_count": null,
   "metadata": {},
   "outputs": [],
   "source": [
    "model_name = 'svm_m3_f0_'+ experiment_model_name\n",
    "data = get_merged_encoded_data(directory,model_name,one_hot_encode=m3,column_list = column_list,drop_not_happy='H',data_balance=data_balance)\n",
    "\n",
    "x_df = data.drop(axis=1,columns=[\"program\"])\n",
    "y_df = data[\"program\"]\n",
    "\n",
    "X = np.array(x_df) # convert dataframe into np array\n",
    "Y = np.array(y_df) # convert dataframe into np array\n",
    "\n",
    "SVM = svm.SVC(probability=True)\n",
    "model = SVM.fit(X, Y) # fit the model using training data\n",
    "\n",
    "cat = data.drop('program',axis=1)\n",
    "cat = dict(zip(cat.columns,range(cat.shape[1])))\n",
    "\n",
    "save_model(data,model,cat,model_name)"
   ]
  },
  {
   "cell_type": "markdown",
   "metadata": {},
   "source": [
    "### Support Vector Machine - m4"
   ]
  },
  {
   "cell_type": "code",
   "execution_count": null,
   "metadata": {},
   "outputs": [],
   "source": [
    "model_name = 'svm_m4_f0_'+ experiment_model_name\n",
    "data = get_merged_encoded_data(directory,model_name,one_hot_encode=m4,column_list = column_list,drop_not_happy='H',data_balance=data_balance)\n",
    "\n",
    "x_df = data.drop(axis=1,columns=[\"program\"])\n",
    "y_df = data[\"program\"]\n",
    "\n",
    "X = np.array(x_df) # convert dataframe into np array\n",
    "Y = np.array(y_df) # convert dataframe into np array\n",
    "\n",
    "SVM = svm.SVC(probability=True)\n",
    "model = SVM.fit(X, Y) # fit the model using training data\n",
    "\n",
    "cat = data.drop('program',axis=1)\n",
    "cat = dict(zip(cat.columns,range(cat.shape[1])))\n",
    "\n",
    "save_model(data,model,cat,model_name)"
   ]
  },
  {
   "cell_type": "markdown",
   "metadata": {},
   "source": [
    "### Support Vector Machine - m5"
   ]
  },
  {
   "cell_type": "code",
   "execution_count": null,
   "metadata": {},
   "outputs": [],
   "source": [
    "model_name = 'svm_m5_f0_'+ experiment_model_name\n",
    "data = get_merged_encoded_data(directory,model_name,one_hot_encode=m5,column_list = column_list,drop_not_happy='H',data_balance=data_balance)\n",
    "\n",
    "x_df = data.drop(axis=1,columns=[\"program\"])\n",
    "y_df = data[\"program\"]\n",
    "\n",
    "X = np.array(x_df) # convert dataframe into np array\n",
    "Y = np.array(y_df) # convert dataframe into np array\n",
    "\n",
    "SVM = svm.SVC(probability=True)\n",
    "model = SVM.fit(X, Y) # fit the model using training data\n",
    "\n",
    "cat = data.drop('program',axis=1)\n",
    "cat = dict(zip(cat.columns,range(cat.shape[1])))\n",
    "\n",
    "save_model(data,model,cat,model_name)"
   ]
  },
  {
   "cell_type": "markdown",
   "metadata": {},
   "source": [
    "### Support Vector Machine - m6"
   ]
  },
  {
   "cell_type": "code",
   "execution_count": null,
   "metadata": {},
   "outputs": [],
   "source": [
    "model_name = 'svm_m6_f0_'+ experiment_model_name\n",
    "data = get_merged_encoded_data(directory,model_name,one_hot_encode=m6,column_list = column_list,drop_not_happy='H',data_balance=data_balance)\n",
    "\n",
    "x_df = data.drop(axis=1,columns=[\"program\"])\n",
    "y_df = data[\"program\"]\n",
    "\n",
    "X = np.array(x_df) # convert dataframe into np array\n",
    "Y = np.array(y_df) # convert dataframe into np array\n",
    "\n",
    "SVM = svm.SVC(probability=True)\n",
    "model = SVM.fit(X, Y) # fit the model using training data\n",
    "\n",
    "cat = data.drop('program',axis=1)\n",
    "cat = dict(zip(cat.columns,range(cat.shape[1])))\n",
    "\n",
    "save_model(data,model,cat,model_name)"
   ]
  },
  {
   "cell_type": "markdown",
   "metadata": {},
   "source": [
    "### Support Vector Machine - m7"
   ]
  },
  {
   "cell_type": "code",
   "execution_count": null,
   "metadata": {},
   "outputs": [],
   "source": [
    "model_name = 'svm_m7_f0_'+ experiment_model_name\n",
    "data = get_merged_encoded_data(directory,model_name,one_hot_encode=m7,column_list = column_list,drop_not_happy='H',data_balance=data_balance)\n",
    "\n",
    "x_df = data.drop(axis=1,columns=[\"program\"])\n",
    "y_df = data[\"program\"]\n",
    "\n",
    "X = np.array(x_df) # convert dataframe into np array\n",
    "Y = np.array(y_df) # convert dataframe into np array\n",
    "\n",
    "SVM = svm.SVC(probability=True)\n",
    "model = SVM.fit(X, Y) # fit the model using training data\n",
    "\n",
    "cat = data.drop('program',axis=1)\n",
    "cat = dict(zip(cat.columns,range(cat.shape[1])))\n",
    "\n",
    "save_model(data,model,cat,model_name)"
   ]
  },
  {
   "cell_type": "markdown",
   "metadata": {},
   "source": [
    "### Support Vector Machine - m8"
   ]
  },
  {
   "cell_type": "code",
   "execution_count": null,
   "metadata": {},
   "outputs": [],
   "source": [
    "model_name = 'svm_m8_f0_'+ experiment_model_name\n",
    "data = get_merged_encoded_data(directory,model_name,one_hot_encode=m8,column_list = column_list,drop_not_happy='H',data_balance=data_balance)\n",
    "\n",
    "x_df = data.drop(axis=1,columns=[\"program\"])\n",
    "y_df = data[\"program\"]\n",
    "\n",
    "X = np.array(x_df) # convert dataframe into np array\n",
    "Y = np.array(y_df) # convert dataframe into np array\n",
    "\n",
    "SVM = svm.SVC(probability=True)\n",
    "model = SVM.fit(X, Y) # fit the model using training data\n",
    "\n",
    "cat = data.drop('program',axis=1)\n",
    "cat = dict(zip(cat.columns,range(cat.shape[1])))\n",
    "\n",
    "save_model(data,model,cat,model_name)"
   ]
  },
  {
   "cell_type": "markdown",
   "metadata": {},
   "source": [
    "### Support Vector Machine - m9"
   ]
  },
  {
   "cell_type": "code",
   "execution_count": null,
   "metadata": {},
   "outputs": [],
   "source": [
    "model_name = 'svm_m9_f0_'+ experiment_model_name\n",
    "data = get_merged_encoded_data(directory,model_name,one_hot_encode=m9,column_list = column_list,drop_not_happy='H',data_balance=data_balance)\n",
    "\n",
    "x_df = data.drop(axis=1,columns=[\"program\"])\n",
    "y_df = data[\"program\"]\n",
    "\n",
    "X = np.array(x_df) # convert dataframe into np array\n",
    "Y = np.array(y_df) # convert dataframe into np array\n",
    "\n",
    "SVM = svm.SVC(probability=True)\n",
    "model = SVM.fit(X, Y) # fit the model using training data\n",
    "\n",
    "cat = data.drop('program',axis=1)\n",
    "cat = dict(zip(cat.columns,range(cat.shape[1])))\n",
    "\n",
    "save_model(data,model,cat,model_name)"
   ]
  },
  {
   "cell_type": "markdown",
   "metadata": {},
   "source": [
    "### Support Vector Machine - m10"
   ]
  },
  {
   "cell_type": "code",
   "execution_count": null,
   "metadata": {},
   "outputs": [],
   "source": [
    "model_name = 'svm_m10_f0_'+ experiment_model_name\n",
    "data = get_merged_encoded_data(directory,model_name,one_hot_encode=m10,column_list = column_list,drop_not_happy='H',data_balance=data_balance)\n",
    "\n",
    "x_df = data.drop(axis=1,columns=[\"program\"])\n",
    "y_df = data[\"program\"]\n",
    "\n",
    "X = np.array(x_df) # convert dataframe into np array\n",
    "Y = np.array(y_df) # convert dataframe into np array\n",
    "\n",
    "SVM = svm.SVC(probability=True)\n",
    "model = SVM.fit(X, Y) # fit the model using training data\n",
    "\n",
    "cat = data.drop('program',axis=1)\n",
    "cat = dict(zip(cat.columns,range(cat.shape[1])))\n",
    "\n",
    "save_model(data,model,cat,model_name)"
   ]
  },
  {
   "cell_type": "markdown",
   "metadata": {},
   "source": [
    "### Support Vector Machine - m11"
   ]
  },
  {
   "cell_type": "code",
   "execution_count": null,
   "metadata": {},
   "outputs": [],
   "source": [
    "model_name = 'svm_m11_f0_'+ experiment_model_name\n",
    "data = get_merged_encoded_data(directory,model_name,one_hot_encode=m11,column_list = column_list,drop_not_happy='H',data_balance=data_balance)\n",
    "\n",
    "x_df = data.drop(axis=1,columns=[\"program\"])\n",
    "y_df = data[\"program\"]\n",
    "\n",
    "X = np.array(x_df) # convert dataframe into np array\n",
    "Y = np.array(y_df) # convert dataframe into np array\n",
    "\n",
    "SVM = svm.SVC(probability=True)\n",
    "model = SVM.fit(X, Y) # fit the model using training data\n",
    "\n",
    "cat = data.drop('program',axis=1)\n",
    "cat = dict(zip(cat.columns,range(cat.shape[1])))\n",
    "\n",
    "save_model(data,model,cat,model_name)"
   ]
  },
  {
   "cell_type": "markdown",
   "metadata": {},
   "source": [
    "### Support Vector Machine - m12"
   ]
  },
  {
   "cell_type": "code",
   "execution_count": null,
   "metadata": {},
   "outputs": [],
   "source": [
    "model_name = 'svm_m12_f0_'+ experiment_model_name\n",
    "data = get_merged_encoded_data(directory,model_name,one_hot_encode=m12,column_list = column_list,drop_not_happy='H',data_balance=data_balance)\n",
    "\n",
    "x_df = data.drop(axis=1,columns=[\"program\"])\n",
    "y_df = data[\"program\"]\n",
    "\n",
    "X = np.array(x_df) # convert dataframe into np array\n",
    "Y = np.array(y_df) # convert dataframe into np array\n",
    "\n",
    "SVM = svm.SVC(probability=True)\n",
    "model = SVM.fit(X, Y) # fit the model using training data\n",
    "\n",
    "cat = data.drop('program',axis=1)\n",
    "cat = dict(zip(cat.columns,range(cat.shape[1])))\n",
    "\n",
    "save_model(data,model,cat,model_name)"
   ]
  },
  {
   "cell_type": "markdown",
   "metadata": {},
   "source": [
    "### Support Vector Machine - m13"
   ]
  },
  {
   "cell_type": "code",
   "execution_count": null,
   "metadata": {},
   "outputs": [],
   "source": [
    "model_name = 'svm_m13_f0_'+ experiment_model_name\n",
    "data = get_merged_encoded_data(directory,model_name,one_hot_encode=m13,column_list = column_list,drop_not_happy='H',data_balance=data_balance)\n",
    "\n",
    "x_df = data.drop(axis=1,columns=[\"program\"])\n",
    "y_df = data[\"program\"]\n",
    "\n",
    "X = np.array(x_df) # convert dataframe into np array\n",
    "Y = np.array(y_df) # convert dataframe into np array\n",
    "\n",
    "SVM = svm.SVC(probability=True)\n",
    "model = SVM.fit(X, Y) # fit the model using training data\n",
    "\n",
    "cat = data.drop('program',axis=1)\n",
    "cat = dict(zip(cat.columns,range(cat.shape[1])))\n",
    "\n",
    "save_model(data,model,cat,model_name)"
   ]
  },
  {
   "cell_type": "markdown",
   "metadata": {},
   "source": [
    "### Support Vector Machine - m14"
   ]
  },
  {
   "cell_type": "code",
   "execution_count": null,
   "metadata": {},
   "outputs": [],
   "source": [
    "model_name = 'svm_m14_f0_'+ experiment_model_name\n",
    "data = get_merged_encoded_data(directory,model_name,one_hot_encode=m14,column_list = column_list,drop_not_happy='H',data_balance=data_balance)\n",
    "\n",
    "x_df = data.drop(axis=1,columns=[\"program\"])\n",
    "y_df = data[\"program\"]\n",
    "\n",
    "X = np.array(x_df) # convert dataframe into np array\n",
    "Y = np.array(y_df) # convert dataframe into np array\n",
    "\n",
    "SVM = svm.SVC(probability=True)\n",
    "model = SVM.fit(X, Y) # fit the model using training data\n",
    "\n",
    "cat = data.drop('program',axis=1)\n",
    "cat = dict(zip(cat.columns,range(cat.shape[1])))\n",
    "\n",
    "save_model(data,model,cat,model_name)"
   ]
  },
  {
   "cell_type": "markdown",
   "metadata": {},
   "source": [
    "### Support Vector Machine - m15"
   ]
  },
  {
   "cell_type": "code",
   "execution_count": null,
   "metadata": {},
   "outputs": [],
   "source": [
    "model_name = 'svm_m15_f0_'+ experiment_model_name\n",
    "data = get_merged_encoded_data(directory,model_name,one_hot_encode=m15,column_list = column_list,drop_not_happy='H',data_balance=data_balance)\n",
    "\n",
    "x_df = data.drop(axis=1,columns=[\"program\"])\n",
    "y_df = data[\"program\"]\n",
    "\n",
    "X = np.array(x_df) # convert dataframe into np array\n",
    "Y = np.array(y_df) # convert dataframe into np array\n",
    "\n",
    "SVM = svm.SVC(probability=True)\n",
    "model = SVM.fit(X, Y) # fit the model using training data\n",
    "\n",
    "cat = data.drop('program',axis=1)\n",
    "cat = dict(zip(cat.columns,range(cat.shape[1])))\n",
    "\n",
    "save_model(data,model,cat,model_name)"
   ]
  },
  {
   "cell_type": "markdown",
   "metadata": {},
   "source": [
    "### Support Vector Machine - m16"
   ]
  },
  {
   "cell_type": "code",
   "execution_count": null,
   "metadata": {},
   "outputs": [],
   "source": [
    "model_name = 'svm_m16_f0_'+ experiment_model_name\n",
    "data = get_merged_encoded_data(directory,model_name,one_hot_encode=m16,column_list = column_list,drop_not_happy='H',data_balance=data_balance)\n",
    "\n",
    "x_df = data.drop(axis=1,columns=[\"program\"])\n",
    "y_df = data[\"program\"]\n",
    "\n",
    "X = np.array(x_df) # convert dataframe into np array\n",
    "Y = np.array(y_df) # convert dataframe into np array\n",
    "\n",
    "SVM = svm.SVC(probability=True)\n",
    "model = SVM.fit(X, Y) # fit the model using training data\n",
    "\n",
    "cat = data.drop('program',axis=1)\n",
    "cat = dict(zip(cat.columns,range(cat.shape[1])))\n",
    "\n",
    "save_model(data,model,cat,model_name)"
   ]
  },
  {
   "cell_type": "markdown",
   "metadata": {},
   "source": [
    "## Binary Classifiers"
   ]
  },
  {
   "cell_type": "markdown",
   "metadata": {},
   "source": [
    "### Naive Bayes -  Label Encoded"
   ]
  },
  {
   "cell_type": "code",
   "execution_count": null,
   "metadata": {},
   "outputs": [],
   "source": [
    "model_name = 'nb_le_f1_'+experiment_model_name\n",
    "data = get_label_encoded_data(directory,model_name,column_list,'H',data_balance=data_balance)[0]\n",
    "mnb = model_type = MultinomialNB()\n",
    "binary_classifier(data,model_name,data_balance_multiple,mnb)"
   ]
  },
  {
   "cell_type": "markdown",
   "metadata": {},
   "source": [
    "### Naive Bayes - One Hot Encoded"
   ]
  },
  {
   "cell_type": "code",
   "execution_count": null,
   "metadata": {},
   "outputs": [],
   "source": [
    "model_name = 'nb_ohe_f1_'+experiment_model_name\n",
    "data = get_merged_encoded_data(directory,model_name,one_hot_encode=ohe,column_list = column_list,drop_not_happy='H',data_balance=data_balance)\n",
    "mnb = model_type = MultinomialNB()\n",
    "binary_classifier(data,model_name,data_balance_multiple,mnb)"
   ]
  },
  {
   "cell_type": "markdown",
   "metadata": {},
   "source": [
    "### Logistic Regression - Label Encoded"
   ]
  },
  {
   "cell_type": "code",
   "execution_count": null,
   "metadata": {},
   "outputs": [],
   "source": [
    "model_name = 'lrr_le_f1_'+experiment_model_name\n",
    "data = get_label_encoded_data(directory,model_name,column_list,'H',data_balance=data_balance)[0]\n",
    "LRR = LogisticRegression(random_state=0, solver='lbfgs',multi_class='multinomial')\n",
    "binary_classifier(data,model_name,data_balance_multiple,LRR)"
   ]
  },
  {
   "cell_type": "markdown",
   "metadata": {},
   "source": [
    "### Logistic Regression - One Hot Encoded"
   ]
  },
  {
   "cell_type": "code",
   "execution_count": null,
   "metadata": {},
   "outputs": [],
   "source": [
    "model_name = 'lrr_ohe_f1_'+experiment_model_name\n",
    "data = get_merged_encoded_data(directory,model_name,one_hot_encode=ohe,column_list = column_list,drop_not_happy='H',data_balance=data_balance)\n",
    "LRR = LogisticRegression(random_state=0, solver='lbfgs',multi_class='multinomial')\n",
    "binary_classifier(data,model_name,data_balance_multiple,LRR)"
   ]
  },
  {
   "cell_type": "markdown",
   "metadata": {},
   "source": [
    "### Support Vector Machine - Label Encoded"
   ]
  },
  {
   "cell_type": "code",
   "execution_count": null,
   "metadata": {
    "scrolled": false
   },
   "outputs": [],
   "source": [
    "model_name = 'svm_le_f1_'+experiment_model_name\n",
    "data = get_label_encoded_data(directory,model_name,column_list,'H',data_balance=data_balance)[0]\n",
    "SVM = svm.SVC(probability=True)\n",
    "binary_classifier(data,model_name,data_balance_multiple,SVM)"
   ]
  },
  {
   "cell_type": "markdown",
   "metadata": {},
   "source": [
    "### Support Vector Machine - One Hot Encoded"
   ]
  },
  {
   "cell_type": "code",
   "execution_count": null,
   "metadata": {
    "scrolled": false
   },
   "outputs": [],
   "source": [
    "model_name = 'svm_ohe_f1_'+experiment_model_name\n",
    "data = get_merged_encoded_data(directory,model_name,one_hot_encode=ohe,column_list = column_list,drop_not_happy='H',data_balance=data_balance)\n",
    "SVM = svm.SVC(probability=True)\n",
    "binary_classifier(data,model_name,data_balance_multiple,SVM)"
   ]
  },
  {
   "cell_type": "markdown",
   "metadata": {},
   "source": [
    "### Decision Tree -  Label Encoded"
   ]
  },
  {
   "cell_type": "code",
   "execution_count": null,
   "metadata": {},
   "outputs": [],
   "source": [
    "model_name = 'tree_le_f1_'+experiment_model_name\n",
    "data = get_label_encoded_data(directory,model_name,column_list,'H',data_balance=data_balance)[0]\n",
    "ent = tree.DecisionTreeClassifier()\n",
    "binary_classifier(data,model_name,data_balance_multiple,ent)"
   ]
  },
  {
   "cell_type": "markdown",
   "metadata": {},
   "source": [
    "### Decision Tree - One Hot Encoded"
   ]
  },
  {
   "cell_type": "code",
   "execution_count": null,
   "metadata": {},
   "outputs": [],
   "source": [
    "model_name = 'tree_ohe_f1_'+experiment_model_name\n",
    "data = get_merged_encoded_data(directory,model_name,one_hot_encode=ohe,column_list = column_list,drop_not_happy='H',data_balance=data_balance)\n",
    "ent = tree.DecisionTreeClassifier()\n",
    "binary_classifier(data,model_name,data_balance_multiple,ent)"
   ]
  },
  {
   "cell_type": "code",
   "execution_count": null,
   "metadata": {},
   "outputs": [],
   "source": []
  }
 ],
 "metadata": {
  "kernelspec": {
   "display_name": "Python 3",
   "language": "python",
   "name": "python3"
  },
  "language_info": {
   "codemirror_mode": {
    "name": "ipython",
    "version": 3
   },
   "file_extension": ".py",
   "mimetype": "text/x-python",
   "name": "python",
   "nbconvert_exporter": "python",
   "pygments_lexer": "ipython3",
   "version": "3.7.6"
  }
 },
 "nbformat": 4,
 "nbformat_minor": 2
}
