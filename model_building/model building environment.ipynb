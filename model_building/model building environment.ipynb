{
 "cells": [
  {
   "cell_type": "code",
   "execution_count": 2,
   "metadata": {},
   "outputs": [],
   "source": [
    "import matplotlib.pyplot as plt\n",
    "from matplotlib.pyplot import figure\n",
    "import numpy as np\n",
    "import pandas as pd\n",
    "import pickle\n",
    "from sklearn import metrics, tree, svm\n",
    "from sklearn.linear_model import LogisticRegression\n",
    "from sklearn.model_selection import KFold,cross_val_score,train_test_split,LeaveOneOut\n",
    "from sklearn.naive_bayes import MultinomialNB\n",
    "\n",
    "from data_load import *\n",
    "from dictionaries import *"
   ]
  },
  {
   "cell_type": "markdown",
   "metadata": {},
   "source": [
    "# Define the Model Parameters"
   ]
  },
  {
   "cell_type": "markdown",
   "metadata": {},
   "source": [
    "model_naming_convention = model-type_encoding_directory_datastructure_column-set_version\n",
    "\n",
    "\n",
    "example: nb_le_f0_d0_b0_c0_v0 is a  model which is label encoded using data set 1, column set 1, version 1 on the basic untreated data set with no data treatment for a family of multi-label classifiers\n",
    "\n",
    "model_type will be appended to the front of the model name as it is run through each of the \n",
    "\n",
    "Link to model building log: https://docs.google.com/spreadsheets/d/1py4RVZ0er_JDeJo-oxY29QT6__EWHIeU6zBgp-q8Wog/edit?usp=sharing"
   ]
  },
  {
   "cell_type": "markdown",
   "metadata": {},
   "source": [
    "### Define Directory"
   ]
  },
  {
   "cell_type": "code",
   "execution_count": 3,
   "metadata": {},
   "outputs": [],
   "source": [
    "d0 = 'data/d0.csv'"
   ]
  },
  {
   "cell_type": "markdown",
   "metadata": {},
   "source": [
    "### Define Columns"
   ]
  },
  {
   "cell_type": "code",
   "execution_count": 4,
   "metadata": {},
   "outputs": [],
   "source": [
    "c0 = [\n",
    "        'problem_type', \n",
    "        'creative', \n",
    "        'outdoors', \n",
    "        'career',\n",
    "        'group_work', \n",
    "        'liked_courses', \n",
    "        'disliked_courses', \n",
    "        'programming',\n",
    "        'join_clubs', \n",
    "        'not_clubs', \n",
    "        'liked_projects',\n",
    "        'disliked_projects',\n",
    "        'tv_shows', \n",
    "        'alternate_degree', \n",
    "        'expensive_equipment', \n",
    "        'drawing',\n",
    "        'essay', \n",
    "        'architecture', \n",
    "        'automotive', \n",
    "        'business', \n",
    "        'construction',\n",
    "        'health',\n",
    "        'environment', \n",
    "        'manufacturing', \n",
    "        'technology',\n",
    "        'program'\n",
    "        ]\n",
    "\n",
    "\n",
    "c1 = [\n",
    "        'architecture', \n",
    "        'automotive', \n",
    "        'business', \n",
    "        'construction',\n",
    "        'health',\n",
    "        'environment', \n",
    "        'manufacturing', \n",
    "        'technology',\n",
    "        'program'\n",
    "        ]\n",
    "\n",
    "c2 =    [\n",
    "        'problem_type', \n",
    "        'creative', \n",
    "        'outdoors', \n",
    "        'career',\n",
    "        'group_work', \n",
    "        'liked_courses', \n",
    "        'disliked_courses', \n",
    "        'join_clubs', \n",
    "        'not_clubs', \n",
    "        'liked_projects',\n",
    "        'disliked_projects',\n",
    "        'tv_shows', \n",
    "        'alternate_degree', \n",
    "        'expensive_equipment', \n",
    "        'drawing',\n",
    "        'essay', \n",
    "        'architecture', \n",
    "        'automotive', \n",
    "        'business', \n",
    "        'construction',\n",
    "        'health',\n",
    "        'environment', \n",
    "        'manufacturing', \n",
    "        'technology',\n",
    "        'program'\n",
    "        ]\n",
    "\n",
    "c3 = [\n",
    "    'architecture', \n",
    "    'automotive', \n",
    "    'business', \n",
    "    'construction', \n",
    "    'health', \n",
    "    'environment', \n",
    "    'manufacturing', \n",
    "    'technology',\n",
    "    'program',\n",
    "    'outdoors',\n",
    "    'career',\n",
    "    'liked_courses', \n",
    "    'disliked_courses',\n",
    "    'join_clubs',\n",
    "    'not_clubs',\n",
    "    'liked_projects',\n",
    "    'disliked_projects',\n",
    "    'drawing'\n",
    "        ]\n",
    "\n",
    "c4 = [\n",
    "        'alternate_degree',\n",
    "        'architecture', \n",
    "        'automotive', \n",
    "        'business', \n",
    "        'construction',\n",
    "        'health',\n",
    "        'environment', \n",
    "        'manufacturing', \n",
    "        'technology',\n",
    "        'program'\n",
    "        ]\n"
   ]
  },
  {
   "cell_type": "markdown",
   "metadata": {},
   "source": [
    "### Define Data Balance Dictionary"
   ]
  },
  {
   "cell_type": "code",
   "execution_count": 5,
   "metadata": {},
   "outputs": [],
   "source": [
    "b0 = False # this is only relevant when we want to use untreated data for code d0\n",
    "\n",
    "b1 = {\n",
    "    'mech': 100,\n",
    "    'bmed': 100,\n",
    "    'swe': 100,\n",
    "    'tron': 100,\n",
    "    'cive': 100,\n",
    "    'chem': 100,\n",
    "    'syde': 100,\n",
    "    'msci': 100,\n",
    "    'ce': 100,\n",
    "    'elec': 100,\n",
    "    'nano': 100,\n",
    "    'geo': 100,\n",
    "    'env': 100,\n",
    "    'arch-e': 100,\n",
    "    'arch': 100\n",
    "    }"
   ]
  },
  {
   "cell_type": "markdown",
   "metadata": {},
   "source": [
    "### Define Data Balance Multiple"
   ]
  },
  {
   "cell_type": "code",
   "execution_count": 6,
   "metadata": {},
   "outputs": [],
   "source": [
    "# Ratio of other programs to program in binary classifier. 2 means double of other programs, 0.5 means half\n",
    "v0 = 1"
   ]
  },
  {
   "cell_type": "markdown",
   "metadata": {},
   "source": [
    " # <font color='red'> Set Up Parameters for the Current Experiment</font> "
   ]
  },
  {
   "cell_type": "code",
   "execution_count": 7,
   "metadata": {},
   "outputs": [],
   "source": [
    "#model_name = 'model-type_encoding_directory_datastructure_column-set_version'\n",
    "# experiment_model_name = 'dataSet_dataBalance_columnSet_dataBalanceMultiple'\n",
    "experiment_model_name = 'd0_b0_c4_v0'\n",
    "directory = d0\n",
    "data_balance = b0\n",
    "column_list = c4\n",
    "data_balance_multiple = v0 # Ratio of other programs to program in binary classifier. 2 means double of other programs, 0.5 means half\n",
    "\n",
    "test_vector = [0] * (len(column_list)-1)\n",
    "test_vector = np.array(test_vector).reshape(1, -1)"
   ]
  },
  {
   "cell_type": "markdown",
   "metadata": {},
   "source": [
    "### Define Encoding\n",
    "\n",
    " For each new type of encoding defined (other than the default label encoding) we need to define a new list of variables which are to be one hot encoded. This list name should match the encoding code that you will place in the dictionary in the model building google sheet.\n",
    "\n",
    " For each new type of encoding created, a new code block needs to be added under each model under each classfier family. Then, copy the code for the one hot encoded models and change the one_hot_encode list to the new list you created for this type of encoding. Once all the code blocks are added, you can run those cells!"
   ]
  },
  {
   "cell_type": "code",
   "execution_count": 8,
   "metadata": {},
   "outputs": [],
   "source": [
    "ohe =  [\n",
    "        'problem_type', \n",
    "        'creative', \n",
    "        'outdoors', \n",
    "        'career',\n",
    "        'group_work', \n",
    "        'liked_courses', \n",
    "        'disliked_courses', \n",
    "        'programming',\n",
    "        'join_clubs', \n",
    "        'not_clubs', \n",
    "        'liked_projects',\n",
    "        'disliked_projects',\n",
    "        'tv_shows', \n",
    "        'alternate_degree', \n",
    "        'expensive_equipment', \n",
    "        'drawing',\n",
    "        'essay'\n",
    "        ]\n",
    "\n",
    "ohe = [value for value in ohe if value in  column_list]\n",
    "\n",
    "m0 =  [\n",
    "        'problem_type', \n",
    "        'creative', \n",
    "        'outdoors', \n",
    "        'career',\n",
    "        'group_work', \n",
    "        'liked_courses', \n",
    "        'disliked_courses', \n",
    "        'programming',\n",
    "        'join_clubs', \n",
    "        'not_clubs', \n",
    "        'liked_projects',\n",
    "        'disliked_projects',\n",
    "        'tv_shows', \n",
    "        'alternate_degree', \n",
    "        'expensive_equipment', \n",
    "        'drawing',\n",
    "        'essay'\n",
    "        ]\n",
    "m0 = [value for value in m0 if value in  column_list]\n",
    "\n",
    "# m1 =  [\n",
    "#         'problem_type', \n",
    "#         'creative', \n",
    "#         'outdoors', \n",
    "#         'career',\n",
    "#         'group_work', \n",
    "#         'liked_courses', \n",
    "#         'disliked_courses', \n",
    "#         'programming',\n",
    "#         'join_clubs', \n",
    "#         'not_clubs', \n",
    "#         'liked_projects',\n",
    "#         'disliked_projects',\n",
    "#         'tv_shows', \n",
    "#         'alternate_degree', \n",
    "#         'expensive_equipment', \n",
    "#         'drawing',\n",
    "#         'essay'\n",
    "#         ] "
   ]
  },
  {
   "cell_type": "markdown",
   "metadata": {},
   "source": [
    "## Multilabel Classifiers"
   ]
  },
  {
   "cell_type": "markdown",
   "metadata": {},
   "source": [
    "### Naive Bayes - Label Encoded"
   ]
  },
  {
   "cell_type": "code",
   "execution_count": 9,
   "metadata": {},
   "outputs": [
    {
     "name": "stdout",
     "output_type": "stream",
     "text": [
      "tron\n",
      "nb_le_f0_d0_b0_c4_v0 created..\n",
      "Loading CAT file...\n",
      "Loading model...\n",
      "Results:\n",
      "{'arch': 0.0419, 'arch-e': 0.034, 'bmed': 0.0672, 'ce': 0.1041, 'chem': 0.0629, 'cive': 0.0658, 'elec': 0.0521, 'env': 0.0521, 'geo': 0.0188, 'mech': 0.1142, 'msci': 0.0853, 'nano': 0.0651, 'swe': 0.0564, 'syde': 0.0607, 'tron': 0.1193}\n"
     ]
    }
   ],
   "source": [
    "model_name = 'nb_le_f0_'+ experiment_model_name\n",
    "data = get_label_encoded_data(directory,model_name,column_list,'H',data_balance=data_balance)[0]\n",
    "\n",
    "x_df = data.drop(axis=1,columns=[\"program\"])\n",
    "y_df = data[\"program\"]\n",
    "\n",
    "X = np.array(x_df) # convert dataframe into np array\n",
    "Y = np.array(y_df) # convert dataframe into np array\n",
    "\n",
    "mnb = MultinomialNB()\n",
    "model = mnb.fit(X, Y) # fit the model using training data\n",
    "\n",
    "cat = data.drop('program',axis=1)\n",
    "cat = dict(zip(cat.columns,range(cat.shape[1])))\n",
    "\n",
    "print(INV_INDEX_PROGRAM[model.predict(test_vector)[0]])\n",
    "\n",
    "save_model(data,model,cat,model_name)\n",
    "test_model(model_name,test_vector)"
   ]
  },
  {
   "cell_type": "markdown",
   "metadata": {},
   "source": [
    "### Naive Bayes - One Hot Encoded"
   ]
  },
  {
   "cell_type": "code",
   "execution_count": 10,
   "metadata": {
    "scrolled": true
   },
   "outputs": [
    {
     "name": "stdout",
     "output_type": "stream",
     "text": [
      "nb_ohe_f0_d0_b0_c4_v0 created..\n"
     ]
    }
   ],
   "source": [
    "model_name = 'nb_ohe_f0_'+ experiment_model_name\n",
    "data = get_merged_encoded_data(directory,model_name,one_hot_encode=ohe,column_list = column_list,drop_not_happy='H',data_balance=data_balance)\n",
    "\n",
    "x_df = data.drop(axis=1,columns=[\"program\"])\n",
    "y_df = data[\"program\"]\n",
    "\n",
    "X = np.array(x_df) # convert dataframe into np array\n",
    "Y = np.array(y_df) # convert dataframe into np array\n",
    "\n",
    "mnb = MultinomialNB()\n",
    "model = mnb.fit(X, Y) # fit the model using training data\n",
    "\n",
    "cat = data.drop('program',axis=1)\n",
    "cat = dict(zip(cat.columns,range(cat.shape[1])))\n",
    "\n",
    "save_model(data,model,cat,model_name)"
   ]
  },
  {
   "cell_type": "markdown",
   "metadata": {},
   "source": [
    "### Logistic Regression - Label Encoded"
   ]
  },
  {
   "cell_type": "code",
   "execution_count": 11,
   "metadata": {},
   "outputs": [
    {
     "name": "stdout",
     "output_type": "stream",
     "text": [
      "mech\n",
      "lrr_le_f0_d0_b0_c4_v0 created..\n",
      "Loading CAT file...\n",
      "Loading model...\n",
      "Results:\n",
      "{'arch': 0.0392, 'arch-e': 0.0361, 'bmed': 0.0362, 'ce': 0.0639, 'chem': 0.0874, 'cive': 0.1392, 'elec': 0.0451, 'env': 0.0354, 'geo': 0.0303, 'mech': 0.1724, 'msci': 0.059, 'nano': 0.1212, 'swe': 0.0351, 'syde': 0.0321, 'tron': 0.0674}\n"
     ]
    },
    {
     "name": "stderr",
     "output_type": "stream",
     "text": [
      "/Library/Frameworks/Python.framework/Versions/3.7/lib/python3.7/site-packages/sklearn/linear_model/logistic.py:758: ConvergenceWarning: lbfgs failed to converge. Increase the number of iterations.\n",
      "  \"of iterations.\", ConvergenceWarning)\n"
     ]
    }
   ],
   "source": [
    "model_name = 'lrr_le_f0_'+ experiment_model_name\n",
    "data = get_label_encoded_data(directory,model_name,column_list,'H',data_balance=data_balance)[0]\n",
    "\n",
    "x_df = data.drop(axis=1,columns=[\"program\"])\n",
    "y_df = data[\"program\"]\n",
    "\n",
    "X = np.array(x_df) # convert dataframe into np array\n",
    "Y = np.array(y_df) # convert dataframe into np array\n",
    "\n",
    "LRR = LogisticRegression(random_state=0, solver='lbfgs',multi_class='multinomial')\n",
    "model = LRR.fit(X, Y) # fit the model using training data\n",
    "\n",
    "cat = data.drop('program',axis=1)\n",
    "cat = dict(zip(cat.columns,range(cat.shape[1])))\n",
    "\n",
    "print(INV_INDEX_PROGRAM[model.predict(test_vector)[0]])\n",
    "\n",
    "save_model(data,model,cat,model_name)\n",
    "test_model(model_name,test_vector)"
   ]
  },
  {
   "cell_type": "markdown",
   "metadata": {},
   "source": [
    "### Logistic Regression - One Hot Encoded"
   ]
  },
  {
   "cell_type": "code",
   "execution_count": 12,
   "metadata": {},
   "outputs": [
    {
     "name": "stdout",
     "output_type": "stream",
     "text": [
      "lrr_ohe_f0_d0_b0_c4_v0 created..\n"
     ]
    }
   ],
   "source": [
    "model_name = 'lrr_ohe_f0_'+ experiment_model_name\n",
    "data = get_merged_encoded_data(directory,model_name,one_hot_encode=ohe,column_list = column_list,drop_not_happy='H',data_balance=data_balance)\n",
    "\n",
    "x_df = data.drop(axis=1,columns=[\"program\"])\n",
    "y_df = data[\"program\"]\n",
    "\n",
    "X = np.array(x_df) # convert dataframe into np array\n",
    "Y = np.array(y_df) # convert dataframe into np array\n",
    "\n",
    "LRR = LogisticRegression(random_state=0, solver='lbfgs',multi_class='multinomial')\n",
    "model = LRR.fit(X, Y) # fit the model using training data\n",
    "\n",
    "cat = data.drop('program',axis=1)\n",
    "cat = dict(zip(cat.columns,range(cat.shape[1])))\n",
    "\n",
    "save_model(data,model,cat,model_name)"
   ]
  },
  {
   "cell_type": "markdown",
   "metadata": {},
   "source": [
    "### Support Vector Machine - Label Encoded"
   ]
  },
  {
   "cell_type": "code",
   "execution_count": 13,
   "metadata": {},
   "outputs": [
    {
     "name": "stderr",
     "output_type": "stream",
     "text": [
      "/Library/Frameworks/Python.framework/Versions/3.7/lib/python3.7/site-packages/sklearn/svm/base.py:196: FutureWarning: The default value of gamma will change from 'auto' to 'scale' in version 0.22 to account better for unscaled features. Set gamma explicitly to 'auto' or 'scale' to avoid this warning.\n",
      "  \"avoid this warning.\", FutureWarning)\n"
     ]
    },
    {
     "name": "stdout",
     "output_type": "stream",
     "text": [
      "nano\n",
      "svm_le_f0_d0_b0_c4_v0 created..\n",
      "Loading CAT file...\n",
      "Loading model...\n",
      "Results:\n",
      "{'arch': 0.025, 'arch-e': 0.0187, 'bmed': 0.0401, 'ce': 0.0524, 'chem': 0.1186, 'cive': 0.0654, 'elec': 0.0662, 'env': 0.0772, 'geo': 0.0499, 'mech': 0.133, 'msci': 0.0594, 'nano': 0.1824, 'swe': 0.0168, 'syde': 0.0367, 'tron': 0.0581}\n"
     ]
    }
   ],
   "source": [
    "model_name = 'svm_le_f0_'+ experiment_model_name\n",
    "data = get_label_encoded_data(directory,model_name,column_list,'H',data_balance=data_balance)[0]\n",
    "\n",
    "x_df = data.drop(axis=1,columns=[\"program\"])\n",
    "y_df = data[\"program\"]\n",
    "\n",
    "X = np.array(x_df) # convert dataframe into np array\n",
    "Y = np.array(y_df) # convert dataframe into np array\n",
    "\n",
    "SVM = svm.SVC(probability=True)\n",
    "model = SVM.fit(X, Y) # fit the model using training data\n",
    "\n",
    "cat = data.drop('program',axis=1)\n",
    "cat = dict(zip(cat.columns,range(cat.shape[1])))\n",
    "\n",
    "print(INV_INDEX_PROGRAM[model.predict(test_vector)[0]])\n",
    "\n",
    "save_model(data,model,cat,model_name)\n",
    "test_model(model_name,test_vector)"
   ]
  },
  {
   "cell_type": "markdown",
   "metadata": {},
   "source": [
    "### Support Vector Machine - One Hot Encoded"
   ]
  },
  {
   "cell_type": "code",
   "execution_count": 14,
   "metadata": {},
   "outputs": [
    {
     "name": "stderr",
     "output_type": "stream",
     "text": [
      "/Library/Frameworks/Python.framework/Versions/3.7/lib/python3.7/site-packages/sklearn/svm/base.py:196: FutureWarning: The default value of gamma will change from 'auto' to 'scale' in version 0.22 to account better for unscaled features. Set gamma explicitly to 'auto' or 'scale' to avoid this warning.\n",
      "  \"avoid this warning.\", FutureWarning)\n"
     ]
    },
    {
     "name": "stdout",
     "output_type": "stream",
     "text": [
      "svm_ohe_f0_d0_b0_c4_v0 created..\n"
     ]
    }
   ],
   "source": [
    "model_name = 'svm_ohe_f0_'+ experiment_model_name\n",
    "data = get_merged_encoded_data(directory,model_name,one_hot_encode=ohe,column_list = column_list,drop_not_happy='H',data_balance=data_balance)\n",
    "\n",
    "x_df = data.drop(axis=1,columns=[\"program\"])\n",
    "y_df = data[\"program\"]\n",
    "\n",
    "X = np.array(x_df) # convert dataframe into np array\n",
    "Y = np.array(y_df) # convert dataframe into np array\n",
    "\n",
    "SVM = svm.SVC(probability=True)\n",
    "model = SVM.fit(X, Y) # fit the model using training data\n",
    "\n",
    "cat = data.drop('program',axis=1)\n",
    "cat = dict(zip(cat.columns,range(cat.shape[1])))\n",
    "\n",
    "save_model(data,model,cat,model_name)"
   ]
  },
  {
   "cell_type": "markdown",
   "metadata": {},
   "source": [
    "## Binary Classifiers"
   ]
  },
  {
   "cell_type": "markdown",
   "metadata": {},
   "source": [
    "### Naive Bayes -  Label Encoded"
   ]
  },
  {
   "cell_type": "code",
   "execution_count": 15,
   "metadata": {},
   "outputs": [
    {
     "name": "stdout",
     "output_type": "stream",
     "text": [
      "nb_le_f1_d0_b0_c4_v0_mech created..\n",
      "nb_le_f1_d0_b0_c4_v0_bmed created..\n",
      "nb_le_f1_d0_b0_c4_v0_swe created..\n",
      "nb_le_f1_d0_b0_c4_v0_ce created..\n",
      "nb_le_f1_d0_b0_c4_v0_tron created..\n",
      "nb_le_f1_d0_b0_c4_v0_cive created..\n",
      "nb_le_f1_d0_b0_c4_v0_chem created..\n",
      "nb_le_f1_d0_b0_c4_v0_syde created..\n",
      "nb_le_f1_d0_b0_c4_v0_msci created..\n",
      "nb_le_f1_d0_b0_c4_v0_elec created..\n",
      "nb_le_f1_d0_b0_c4_v0_nano created..\n",
      "nb_le_f1_d0_b0_c4_v0_geo created..\n",
      "nb_le_f1_d0_b0_c4_v0_env created..\n",
      "nb_le_f1_d0_b0_c4_v0_arch-e created..\n",
      "nb_le_f1_d0_b0_c4_v0_arch created..\n"
     ]
    }
   ],
   "source": [
    "model_name = 'nb_le_f1_'+experiment_model_name\n",
    "data = get_label_encoded_data(directory,model_name,column_list,'H',data_balance=data_balance)[0]\n",
    "mnb = model_type = MultinomialNB()\n",
    "binary_classifier(data,model_name,data_balance_multiple,mnb)"
   ]
  },
  {
   "cell_type": "markdown",
   "metadata": {},
   "source": [
    "### Naive Bayes - One Hot Encoded"
   ]
  },
  {
   "cell_type": "code",
   "execution_count": 16,
   "metadata": {},
   "outputs": [
    {
     "name": "stdout",
     "output_type": "stream",
     "text": [
      "nb_ohe_f1_d0_b0_c4_v0_mech created..\n",
      "nb_ohe_f1_d0_b0_c4_v0_bmed created..\n",
      "nb_ohe_f1_d0_b0_c4_v0_swe created..\n",
      "nb_ohe_f1_d0_b0_c4_v0_ce created..\n",
      "nb_ohe_f1_d0_b0_c4_v0_tron created..\n",
      "nb_ohe_f1_d0_b0_c4_v0_cive created..\n",
      "nb_ohe_f1_d0_b0_c4_v0_chem created..\n",
      "nb_ohe_f1_d0_b0_c4_v0_syde created..\n",
      "nb_ohe_f1_d0_b0_c4_v0_msci created..\n",
      "nb_ohe_f1_d0_b0_c4_v0_elec created..\n",
      "nb_ohe_f1_d0_b0_c4_v0_nano created..\n",
      "nb_ohe_f1_d0_b0_c4_v0_geo created..\n",
      "nb_ohe_f1_d0_b0_c4_v0_env created..\n",
      "nb_ohe_f1_d0_b0_c4_v0_arch-e created..\n",
      "nb_ohe_f1_d0_b0_c4_v0_arch created..\n"
     ]
    }
   ],
   "source": [
    "model_name = 'nb_ohe_f1_'+experiment_model_name\n",
    "data = get_merged_encoded_data(directory,model_name,one_hot_encode=ohe,column_list = column_list,drop_not_happy='H',data_balance=data_balance)\n",
    "mnb = model_type = MultinomialNB()\n",
    "binary_classifier(data,model_name,data_balance_multiple,mnb)"
   ]
  },
  {
   "cell_type": "markdown",
   "metadata": {},
   "source": [
    "### Logistic Regression - Label Encoded"
   ]
  },
  {
   "cell_type": "code",
   "execution_count": 17,
   "metadata": {},
   "outputs": [
    {
     "name": "stdout",
     "output_type": "stream",
     "text": [
      "lrr_le_f1_d0_b0_c4_v0_mech created..\n",
      "lrr_le_f1_d0_b0_c4_v0_bmed created..\n",
      "lrr_le_f1_d0_b0_c4_v0_swe created..\n",
      "lrr_le_f1_d0_b0_c4_v0_ce created..\n",
      "lrr_le_f1_d0_b0_c4_v0_tron created..\n",
      "lrr_le_f1_d0_b0_c4_v0_cive created..\n",
      "lrr_le_f1_d0_b0_c4_v0_chem created..\n",
      "lrr_le_f1_d0_b0_c4_v0_syde created..\n",
      "lrr_le_f1_d0_b0_c4_v0_msci created..\n",
      "lrr_le_f1_d0_b0_c4_v0_elec created..\n",
      "lrr_le_f1_d0_b0_c4_v0_nano created..\n",
      "lrr_le_f1_d0_b0_c4_v0_geo created..\n",
      "lrr_le_f1_d0_b0_c4_v0_env created..\n",
      "lrr_le_f1_d0_b0_c4_v0_arch-e created..\n",
      "lrr_le_f1_d0_b0_c4_v0_arch created..\n"
     ]
    }
   ],
   "source": [
    "model_name = 'lrr_le_f1_'+experiment_model_name\n",
    "data = get_label_encoded_data(directory,model_name,column_list,'H',data_balance=data_balance)[0]\n",
    "LRR = LogisticRegression(random_state=0, solver='lbfgs',multi_class='multinomial')\n",
    "binary_classifier(data,model_name,data_balance_multiple,LRR)"
   ]
  },
  {
   "cell_type": "markdown",
   "metadata": {},
   "source": [
    "### Logistic Regression - One Hot Encoded"
   ]
  },
  {
   "cell_type": "code",
   "execution_count": 18,
   "metadata": {},
   "outputs": [
    {
     "name": "stdout",
     "output_type": "stream",
     "text": [
      "lrr_ohe_f1_d0_b0_c4_v0_mech created..\n",
      "lrr_ohe_f1_d0_b0_c4_v0_bmed created..\n",
      "lrr_ohe_f1_d0_b0_c4_v0_swe created..\n",
      "lrr_ohe_f1_d0_b0_c4_v0_ce created..\n",
      "lrr_ohe_f1_d0_b0_c4_v0_tron created..\n",
      "lrr_ohe_f1_d0_b0_c4_v0_cive created..\n",
      "lrr_ohe_f1_d0_b0_c4_v0_chem created..\n",
      "lrr_ohe_f1_d0_b0_c4_v0_syde created..\n",
      "lrr_ohe_f1_d0_b0_c4_v0_msci created..\n",
      "lrr_ohe_f1_d0_b0_c4_v0_elec created..\n",
      "lrr_ohe_f1_d0_b0_c4_v0_nano created..\n",
      "lrr_ohe_f1_d0_b0_c4_v0_geo created..\n",
      "lrr_ohe_f1_d0_b0_c4_v0_env created..\n",
      "lrr_ohe_f1_d0_b0_c4_v0_arch-e created..\n",
      "lrr_ohe_f1_d0_b0_c4_v0_arch created..\n"
     ]
    }
   ],
   "source": [
    "model_name = 'lrr_ohe_f1_'+experiment_model_name\n",
    "data = get_merged_encoded_data(directory,model_name,one_hot_encode=ohe,column_list = column_list,drop_not_happy='H',data_balance=data_balance)\n",
    "LRR = LogisticRegression(random_state=0, solver='lbfgs',multi_class='multinomial')\n",
    "binary_classifier(data,model_name,data_balance_multiple,LRR)"
   ]
  },
  {
   "cell_type": "markdown",
   "metadata": {},
   "source": [
    "### Support Vector Machine - Label Encoded"
   ]
  },
  {
   "cell_type": "code",
   "execution_count": 19,
   "metadata": {},
   "outputs": [
    {
     "name": "stderr",
     "output_type": "stream",
     "text": [
      "/Library/Frameworks/Python.framework/Versions/3.7/lib/python3.7/site-packages/sklearn/svm/base.py:196: FutureWarning: The default value of gamma will change from 'auto' to 'scale' in version 0.22 to account better for unscaled features. Set gamma explicitly to 'auto' or 'scale' to avoid this warning.\n",
      "  \"avoid this warning.\", FutureWarning)\n",
      "/Library/Frameworks/Python.framework/Versions/3.7/lib/python3.7/site-packages/sklearn/svm/base.py:196: FutureWarning: The default value of gamma will change from 'auto' to 'scale' in version 0.22 to account better for unscaled features. Set gamma explicitly to 'auto' or 'scale' to avoid this warning.\n",
      "  \"avoid this warning.\", FutureWarning)\n",
      "/Library/Frameworks/Python.framework/Versions/3.7/lib/python3.7/site-packages/sklearn/svm/base.py:196: FutureWarning: The default value of gamma will change from 'auto' to 'scale' in version 0.22 to account better for unscaled features. Set gamma explicitly to 'auto' or 'scale' to avoid this warning.\n",
      "  \"avoid this warning.\", FutureWarning)\n",
      "/Library/Frameworks/Python.framework/Versions/3.7/lib/python3.7/site-packages/sklearn/svm/base.py:196: FutureWarning: The default value of gamma will change from 'auto' to 'scale' in version 0.22 to account better for unscaled features. Set gamma explicitly to 'auto' or 'scale' to avoid this warning.\n",
      "  \"avoid this warning.\", FutureWarning)\n",
      "/Library/Frameworks/Python.framework/Versions/3.7/lib/python3.7/site-packages/sklearn/svm/base.py:196: FutureWarning: The default value of gamma will change from 'auto' to 'scale' in version 0.22 to account better for unscaled features. Set gamma explicitly to 'auto' or 'scale' to avoid this warning.\n",
      "  \"avoid this warning.\", FutureWarning)\n",
      "/Library/Frameworks/Python.framework/Versions/3.7/lib/python3.7/site-packages/sklearn/svm/base.py:196: FutureWarning: The default value of gamma will change from 'auto' to 'scale' in version 0.22 to account better for unscaled features. Set gamma explicitly to 'auto' or 'scale' to avoid this warning.\n",
      "  \"avoid this warning.\", FutureWarning)\n"
     ]
    },
    {
     "name": "stdout",
     "output_type": "stream",
     "text": [
      "svm_le_f1_d0_b0_c4_v0_mech created..\n",
      "svm_le_f1_d0_b0_c4_v0_bmed created..\n",
      "svm_le_f1_d0_b0_c4_v0_swe created..\n",
      "svm_le_f1_d0_b0_c4_v0_ce created..\n",
      "svm_le_f1_d0_b0_c4_v0_tron created..\n",
      "svm_le_f1_d0_b0_c4_v0_cive created..\n",
      "svm_le_f1_d0_b0_c4_v0_chem created..\n",
      "svm_le_f1_d0_b0_c4_v0_syde created..\n",
      "svm_le_f1_d0_b0_c4_v0_msci created..\n",
      "svm_le_f1_d0_b0_c4_v0_elec created..\n",
      "svm_le_f1_d0_b0_c4_v0_nano created..\n",
      "svm_le_f1_d0_b0_c4_v0_geo created..\n",
      "svm_le_f1_d0_b0_c4_v0_env created..\n",
      "svm_le_f1_d0_b0_c4_v0_arch-e created..\n",
      "svm_le_f1_d0_b0_c4_v0_arch created..\n"
     ]
    },
    {
     "name": "stderr",
     "output_type": "stream",
     "text": [
      "/Library/Frameworks/Python.framework/Versions/3.7/lib/python3.7/site-packages/sklearn/svm/base.py:196: FutureWarning: The default value of gamma will change from 'auto' to 'scale' in version 0.22 to account better for unscaled features. Set gamma explicitly to 'auto' or 'scale' to avoid this warning.\n",
      "  \"avoid this warning.\", FutureWarning)\n",
      "/Library/Frameworks/Python.framework/Versions/3.7/lib/python3.7/site-packages/sklearn/svm/base.py:196: FutureWarning: The default value of gamma will change from 'auto' to 'scale' in version 0.22 to account better for unscaled features. Set gamma explicitly to 'auto' or 'scale' to avoid this warning.\n",
      "  \"avoid this warning.\", FutureWarning)\n",
      "/Library/Frameworks/Python.framework/Versions/3.7/lib/python3.7/site-packages/sklearn/svm/base.py:196: FutureWarning: The default value of gamma will change from 'auto' to 'scale' in version 0.22 to account better for unscaled features. Set gamma explicitly to 'auto' or 'scale' to avoid this warning.\n",
      "  \"avoid this warning.\", FutureWarning)\n",
      "/Library/Frameworks/Python.framework/Versions/3.7/lib/python3.7/site-packages/sklearn/svm/base.py:196: FutureWarning: The default value of gamma will change from 'auto' to 'scale' in version 0.22 to account better for unscaled features. Set gamma explicitly to 'auto' or 'scale' to avoid this warning.\n",
      "  \"avoid this warning.\", FutureWarning)\n",
      "/Library/Frameworks/Python.framework/Versions/3.7/lib/python3.7/site-packages/sklearn/svm/base.py:196: FutureWarning: The default value of gamma will change from 'auto' to 'scale' in version 0.22 to account better for unscaled features. Set gamma explicitly to 'auto' or 'scale' to avoid this warning.\n",
      "  \"avoid this warning.\", FutureWarning)\n",
      "/Library/Frameworks/Python.framework/Versions/3.7/lib/python3.7/site-packages/sklearn/svm/base.py:196: FutureWarning: The default value of gamma will change from 'auto' to 'scale' in version 0.22 to account better for unscaled features. Set gamma explicitly to 'auto' or 'scale' to avoid this warning.\n",
      "  \"avoid this warning.\", FutureWarning)\n",
      "/Library/Frameworks/Python.framework/Versions/3.7/lib/python3.7/site-packages/sklearn/svm/base.py:196: FutureWarning: The default value of gamma will change from 'auto' to 'scale' in version 0.22 to account better for unscaled features. Set gamma explicitly to 'auto' or 'scale' to avoid this warning.\n",
      "  \"avoid this warning.\", FutureWarning)\n",
      "/Library/Frameworks/Python.framework/Versions/3.7/lib/python3.7/site-packages/sklearn/svm/base.py:196: FutureWarning: The default value of gamma will change from 'auto' to 'scale' in version 0.22 to account better for unscaled features. Set gamma explicitly to 'auto' or 'scale' to avoid this warning.\n",
      "  \"avoid this warning.\", FutureWarning)\n",
      "/Library/Frameworks/Python.framework/Versions/3.7/lib/python3.7/site-packages/sklearn/svm/base.py:196: FutureWarning: The default value of gamma will change from 'auto' to 'scale' in version 0.22 to account better for unscaled features. Set gamma explicitly to 'auto' or 'scale' to avoid this warning.\n",
      "  \"avoid this warning.\", FutureWarning)\n"
     ]
    }
   ],
   "source": [
    "model_name = 'svm_le_f1_'+experiment_model_name\n",
    "data = get_label_encoded_data(directory,model_name,column_list,'H',data_balance=data_balance)[0]\n",
    "SVM = svm.SVC(probability=True)\n",
    "binary_classifier(data,model_name,data_balance_multiple,SVM)"
   ]
  },
  {
   "cell_type": "markdown",
   "metadata": {},
   "source": [
    "### Support Vector Machine - One Hot Encoded"
   ]
  },
  {
   "cell_type": "code",
   "execution_count": 20,
   "metadata": {},
   "outputs": [
    {
     "name": "stderr",
     "output_type": "stream",
     "text": [
      "/Library/Frameworks/Python.framework/Versions/3.7/lib/python3.7/site-packages/sklearn/svm/base.py:196: FutureWarning: The default value of gamma will change from 'auto' to 'scale' in version 0.22 to account better for unscaled features. Set gamma explicitly to 'auto' or 'scale' to avoid this warning.\n",
      "  \"avoid this warning.\", FutureWarning)\n",
      "/Library/Frameworks/Python.framework/Versions/3.7/lib/python3.7/site-packages/sklearn/svm/base.py:196: FutureWarning: The default value of gamma will change from 'auto' to 'scale' in version 0.22 to account better for unscaled features. Set gamma explicitly to 'auto' or 'scale' to avoid this warning.\n",
      "  \"avoid this warning.\", FutureWarning)\n",
      "/Library/Frameworks/Python.framework/Versions/3.7/lib/python3.7/site-packages/sklearn/svm/base.py:196: FutureWarning: The default value of gamma will change from 'auto' to 'scale' in version 0.22 to account better for unscaled features. Set gamma explicitly to 'auto' or 'scale' to avoid this warning.\n",
      "  \"avoid this warning.\", FutureWarning)\n",
      "/Library/Frameworks/Python.framework/Versions/3.7/lib/python3.7/site-packages/sklearn/svm/base.py:196: FutureWarning: The default value of gamma will change from 'auto' to 'scale' in version 0.22 to account better for unscaled features. Set gamma explicitly to 'auto' or 'scale' to avoid this warning.\n",
      "  \"avoid this warning.\", FutureWarning)\n",
      "/Library/Frameworks/Python.framework/Versions/3.7/lib/python3.7/site-packages/sklearn/svm/base.py:196: FutureWarning: The default value of gamma will change from 'auto' to 'scale' in version 0.22 to account better for unscaled features. Set gamma explicitly to 'auto' or 'scale' to avoid this warning.\n",
      "  \"avoid this warning.\", FutureWarning)\n",
      "/Library/Frameworks/Python.framework/Versions/3.7/lib/python3.7/site-packages/sklearn/svm/base.py:196: FutureWarning: The default value of gamma will change from 'auto' to 'scale' in version 0.22 to account better for unscaled features. Set gamma explicitly to 'auto' or 'scale' to avoid this warning.\n",
      "  \"avoid this warning.\", FutureWarning)\n"
     ]
    },
    {
     "name": "stdout",
     "output_type": "stream",
     "text": [
      "svm_ohe_f1_d0_b0_c4_v0_mech created..\n",
      "svm_ohe_f1_d0_b0_c4_v0_bmed created..\n",
      "svm_ohe_f1_d0_b0_c4_v0_swe created..\n",
      "svm_ohe_f1_d0_b0_c4_v0_ce created..\n",
      "svm_ohe_f1_d0_b0_c4_v0_tron created..\n",
      "svm_ohe_f1_d0_b0_c4_v0_cive created..\n",
      "svm_ohe_f1_d0_b0_c4_v0_chem created..\n"
     ]
    },
    {
     "name": "stderr",
     "output_type": "stream",
     "text": [
      "/Library/Frameworks/Python.framework/Versions/3.7/lib/python3.7/site-packages/sklearn/svm/base.py:196: FutureWarning: The default value of gamma will change from 'auto' to 'scale' in version 0.22 to account better for unscaled features. Set gamma explicitly to 'auto' or 'scale' to avoid this warning.\n",
      "  \"avoid this warning.\", FutureWarning)\n",
      "/Library/Frameworks/Python.framework/Versions/3.7/lib/python3.7/site-packages/sklearn/svm/base.py:196: FutureWarning: The default value of gamma will change from 'auto' to 'scale' in version 0.22 to account better for unscaled features. Set gamma explicitly to 'auto' or 'scale' to avoid this warning.\n",
      "  \"avoid this warning.\", FutureWarning)\n",
      "/Library/Frameworks/Python.framework/Versions/3.7/lib/python3.7/site-packages/sklearn/svm/base.py:196: FutureWarning: The default value of gamma will change from 'auto' to 'scale' in version 0.22 to account better for unscaled features. Set gamma explicitly to 'auto' or 'scale' to avoid this warning.\n",
      "  \"avoid this warning.\", FutureWarning)\n",
      "/Library/Frameworks/Python.framework/Versions/3.7/lib/python3.7/site-packages/sklearn/svm/base.py:196: FutureWarning: The default value of gamma will change from 'auto' to 'scale' in version 0.22 to account better for unscaled features. Set gamma explicitly to 'auto' or 'scale' to avoid this warning.\n",
      "  \"avoid this warning.\", FutureWarning)\n",
      "/Library/Frameworks/Python.framework/Versions/3.7/lib/python3.7/site-packages/sklearn/svm/base.py:196: FutureWarning: The default value of gamma will change from 'auto' to 'scale' in version 0.22 to account better for unscaled features. Set gamma explicitly to 'auto' or 'scale' to avoid this warning.\n",
      "  \"avoid this warning.\", FutureWarning)\n"
     ]
    },
    {
     "name": "stdout",
     "output_type": "stream",
     "text": [
      "svm_ohe_f1_d0_b0_c4_v0_syde created..\n",
      "svm_ohe_f1_d0_b0_c4_v0_msci created..\n",
      "svm_ohe_f1_d0_b0_c4_v0_elec created..\n",
      "svm_ohe_f1_d0_b0_c4_v0_nano created..\n",
      "svm_ohe_f1_d0_b0_c4_v0_geo created..\n",
      "svm_ohe_f1_d0_b0_c4_v0_env created..\n",
      "svm_ohe_f1_d0_b0_c4_v0_arch-e created..\n",
      "svm_ohe_f1_d0_b0_c4_v0_arch created..\n"
     ]
    },
    {
     "name": "stderr",
     "output_type": "stream",
     "text": [
      "/Library/Frameworks/Python.framework/Versions/3.7/lib/python3.7/site-packages/sklearn/svm/base.py:196: FutureWarning: The default value of gamma will change from 'auto' to 'scale' in version 0.22 to account better for unscaled features. Set gamma explicitly to 'auto' or 'scale' to avoid this warning.\n",
      "  \"avoid this warning.\", FutureWarning)\n",
      "/Library/Frameworks/Python.framework/Versions/3.7/lib/python3.7/site-packages/sklearn/svm/base.py:196: FutureWarning: The default value of gamma will change from 'auto' to 'scale' in version 0.22 to account better for unscaled features. Set gamma explicitly to 'auto' or 'scale' to avoid this warning.\n",
      "  \"avoid this warning.\", FutureWarning)\n",
      "/Library/Frameworks/Python.framework/Versions/3.7/lib/python3.7/site-packages/sklearn/svm/base.py:196: FutureWarning: The default value of gamma will change from 'auto' to 'scale' in version 0.22 to account better for unscaled features. Set gamma explicitly to 'auto' or 'scale' to avoid this warning.\n",
      "  \"avoid this warning.\", FutureWarning)\n",
      "/Library/Frameworks/Python.framework/Versions/3.7/lib/python3.7/site-packages/sklearn/svm/base.py:196: FutureWarning: The default value of gamma will change from 'auto' to 'scale' in version 0.22 to account better for unscaled features. Set gamma explicitly to 'auto' or 'scale' to avoid this warning.\n",
      "  \"avoid this warning.\", FutureWarning)\n"
     ]
    }
   ],
   "source": [
    "model_name = 'svm_ohe_f1_'+experiment_model_name\n",
    "data = get_merged_encoded_data(directory,model_name,one_hot_encode=ohe,column_list = column_list,drop_not_happy='H',data_balance=data_balance)\n",
    "SVM = svm.SVC(probability=True)\n",
    "binary_classifier(data,model_name,data_balance_multiple,SVM)"
   ]
  },
  {
   "cell_type": "markdown",
   "metadata": {},
   "source": [
    "### Decision Tree -  Label Encoded"
   ]
  },
  {
   "cell_type": "code",
   "execution_count": 21,
   "metadata": {},
   "outputs": [
    {
     "name": "stdout",
     "output_type": "stream",
     "text": [
      "tree_le_f1_d0_b0_c4_v0_mech created..\n",
      "tree_le_f1_d0_b0_c4_v0_bmed created..\n",
      "tree_le_f1_d0_b0_c4_v0_swe created..\n",
      "tree_le_f1_d0_b0_c4_v0_ce created..\n",
      "tree_le_f1_d0_b0_c4_v0_tron created..\n",
      "tree_le_f1_d0_b0_c4_v0_cive created..\n",
      "tree_le_f1_d0_b0_c4_v0_chem created..\n",
      "tree_le_f1_d0_b0_c4_v0_syde created..\n",
      "tree_le_f1_d0_b0_c4_v0_msci created..\n",
      "tree_le_f1_d0_b0_c4_v0_elec created..\n",
      "tree_le_f1_d0_b0_c4_v0_nano created..\n",
      "tree_le_f1_d0_b0_c4_v0_geo created..\n",
      "tree_le_f1_d0_b0_c4_v0_env created..\n",
      "tree_le_f1_d0_b0_c4_v0_arch-e created..\n",
      "tree_le_f1_d0_b0_c4_v0_arch created..\n"
     ]
    }
   ],
   "source": [
    "model_name = 'tree_le_f1_'+experiment_model_name\n",
    "data = get_label_encoded_data(directory,model_name,column_list,'H',data_balance=data_balance)[0]\n",
    "ent = tree.DecisionTreeClassifier()\n",
    "binary_classifier(data,model_name,data_balance_multiple,ent)"
   ]
  },
  {
   "cell_type": "markdown",
   "metadata": {},
   "source": [
    "### Decision Tree - One Hot Encoded"
   ]
  },
  {
   "cell_type": "code",
   "execution_count": 22,
   "metadata": {},
   "outputs": [
    {
     "name": "stdout",
     "output_type": "stream",
     "text": [
      "tree_ohe_f1_d0_b0_c4_v0_mech created..\n",
      "tree_ohe_f1_d0_b0_c4_v0_bmed created..\n",
      "tree_ohe_f1_d0_b0_c4_v0_swe created..\n",
      "tree_ohe_f1_d0_b0_c4_v0_ce created..\n",
      "tree_ohe_f1_d0_b0_c4_v0_tron created..\n",
      "tree_ohe_f1_d0_b0_c4_v0_cive created..\n",
      "tree_ohe_f1_d0_b0_c4_v0_chem created..\n",
      "tree_ohe_f1_d0_b0_c4_v0_syde created..\n",
      "tree_ohe_f1_d0_b0_c4_v0_msci created..\n",
      "tree_ohe_f1_d0_b0_c4_v0_elec created..\n",
      "tree_ohe_f1_d0_b0_c4_v0_nano created..\n",
      "tree_ohe_f1_d0_b0_c4_v0_geo created..\n",
      "tree_ohe_f1_d0_b0_c4_v0_env created..\n",
      "tree_ohe_f1_d0_b0_c4_v0_arch-e created..\n",
      "tree_ohe_f1_d0_b0_c4_v0_arch created..\n"
     ]
    }
   ],
   "source": [
    "model_name = 'tree_ohe_f1_'+experiment_model_name\n",
    "data = get_merged_encoded_data(directory,model_name,one_hot_encode=ohe,column_list = column_list,drop_not_happy='H',data_balance=data_balance)\n",
    "ent = tree.DecisionTreeClassifier()\n",
    "binary_classifier(data,model_name,data_balance_multiple,ent)"
   ]
  },
  {
   "cell_type": "markdown",
   "metadata": {},
   "source": [
    "# "
   ]
  },
  {
   "cell_type": "code",
   "execution_count": null,
   "metadata": {},
   "outputs": [],
   "source": []
  }
 ],
 "metadata": {
  "kernelspec": {
   "display_name": "Python 3",
   "language": "python",
   "name": "python3"
  },
  "language_info": {
   "codemirror_mode": {
    "name": "ipython",
    "version": 3
   },
   "file_extension": ".py",
   "mimetype": "text/x-python",
   "name": "python",
   "nbconvert_exporter": "python",
   "pygments_lexer": "ipython3",
   "version": "3.7.0"
  }
 },
 "nbformat": 4,
 "nbformat_minor": 2
}
