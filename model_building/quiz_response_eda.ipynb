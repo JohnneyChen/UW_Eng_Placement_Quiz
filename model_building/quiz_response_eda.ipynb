{
 "cells": [
  {
   "cell_type": "code",
   "execution_count": 1,
   "metadata": {},
   "outputs": [],
   "source": [
    "import json\n",
    "import pandas as pd\n",
    "import numpy as np\n",
    "from sklearn import preprocessing\n",
    "\n",
    "from data_load import get_clean_data"
   ]
  },
  {
   "cell_type": "code",
   "execution_count": 2,
   "metadata": {},
   "outputs": [
    {
     "name": "stdout",
     "output_type": "stream",
     "text": [
      "Index(['program', 'happy', 'problem_type', 'creative', 'industry', 'outdoors',\n",
      "       'career', 'group_work', 'liked_courses', 'disliked_courses',\n",
      "       'programming', 'join_clubs', 'not_clubs', 'liked_projects',\n",
      "       'disliked_projects', 'tv_shows', 'alternate_degree',\n",
      "       'expensive_equipment', 'drawing', 'essay'],\n",
      "      dtype='object')\n"
     ]
    }
   ],
   "source": [
    "data = get_clean_data('quiz_data.csv',True)\n",
    "print(data.columns)"
   ]
  },
  {
   "cell_type": "code",
   "execution_count": 21,
   "metadata": {
    "scrolled": true
   },
   "outputs": [
    {
     "name": "stdout",
     "output_type": "stream",
     "text": [
      "['Excited! I can share my theories with the world.'\n",
      " 'Annoyed. I would much rather be given a topic with clear instructions.'\n",
      " 'A bit apprehensive. I get overwhelmed with so many options.']\n"
     ]
    }
   ],
   "source": [
    "print(data['essay'].unique())"
   ]
  },
  {
   "cell_type": "code",
   "execution_count": null,
   "metadata": {},
   "outputs": [],
   "source": []
  }
 ],
 "metadata": {
  "kernelspec": {
   "display_name": "Python 3",
   "language": "python",
   "name": "python3"
  },
  "language_info": {
   "codemirror_mode": {
    "name": "ipython",
    "version": 3
   },
   "file_extension": ".py",
   "mimetype": "text/x-python",
   "name": "python",
   "nbconvert_exporter": "python",
   "pygments_lexer": "ipython3",
   "version": "3.7.0"
  }
 },
 "nbformat": 4,
 "nbformat_minor": 2
}
